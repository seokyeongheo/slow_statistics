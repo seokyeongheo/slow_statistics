{
 "cells": [
  {
   "cell_type": "code",
   "execution_count": 1,
   "id": "better-surveillance",
   "metadata": {},
   "outputs": [],
   "source": [
    "import numpy as np\n",
    "import pandas as pd\n",
    "from scipy import stats\n",
    "\n",
    "import slow_statistic"
   ]
  },
  {
   "cell_type": "code",
   "execution_count": 2,
   "id": "indian-freeze",
   "metadata": {
    "jupyter": {
     "source_hidden": true
    }
   },
   "outputs": [],
   "source": [
    "# def calculate_zscore(n, mu, std, M, alpha=0.05, tail_num=2):\n",
    "#     se = std / np.sqrt(n)\n",
    "#     return round((M - mu) / se, 2)\n",
    "\n",
    "# def calculate_norm_portion(alpha, tail_num):\n",
    "#     return round(stats.norm.ppf(1 - alpha/tail_num), 3)\n",
    "\n",
    "# def hypothesis_tester_basic(n, mu, std, M, alpha=0.05, tail_num=2):\n",
    "    \n",
    "#     z, cr = calculate_zscore(n, mu, std, M), calculate_norm_portion(alpha, tail_num)\n",
    "    \n",
    "#     if tail_num == 2:\n",
    "        \n",
    "#         rejection_decision = (z > cr) | (z < -1 * cr)\n",
    "#         region = f'z > {cr} or z < -{cr}'\n",
    "#         criteria = f'two tail, alpha {alpha}'\n",
    "        \n",
    "#     elif tail_num == 1:\n",
    "        \n",
    "#         if z > 0:\n",
    "        \n",
    "#             rejection_decision = (z > cr)\n",
    "#             region = f'z > {cr}'\n",
    "            \n",
    "#         else:\n",
    "            \n",
    "#             rejection_decision = (z < -1 * cr)\n",
    "#             region = f'z < -{cr}'\n",
    "        \n",
    "#         criteria = f'one tail, alpha {alpha}'\n",
    "        \n",
    "#     else:\n",
    "#         print('Should use tail_num 1 or 2.')\n",
    "#         return None\n",
    "            \n",
    "#     print(f'[{criteria}] z_statistic:{z}, critical_region:{region}\\n=> null hypothesis rejection [{rejection_decision}]')\n",
    "    \n",
    "# def calculate_cohens_d(mu, std, M):\n",
    "#     return round(abs((M - mu) / std), 2)\n",
    "\n",
    "# def calculate_stat_power(n, mu, std, M):\n",
    "#     se = std / np.sqrt(n)\n",
    "#     z = ((mu + 1.96 * se) - M) / se\n",
    "#     return round(1 - stats.norm.cdf(z), 4)"
   ]
  },
  {
   "cell_type": "code",
   "execution_count": null,
   "id": "residential-wound",
   "metadata": {},
   "outputs": [],
   "source": []
  },
  {
   "cell_type": "markdown",
   "id": "chief-nigeria",
   "metadata": {},
   "source": [
    "# 유형\n",
    "1. 가설검정 단계에 따라, Treatment 효과(M - mu) 통계적 유의성(significance)를 판단하는 문제\n",
    "2. 단측(one-sided test) / 양측(two-sided test), 유의수준(alpha)에 따른 결과 차이 확인 문제\n",
    "3. cohens d를 구하는 문제\n",
    "4. 표준편차(sigma), 샘플 개수(n)에 따른 귀무가설(null hypothesis) 기각의 관계\n",
    "5. 통계적 검증력 (statistical power)"
   ]
  },
  {
   "cell_type": "code",
   "execution_count": null,
   "id": "meaningful-shock",
   "metadata": {},
   "outputs": [],
   "source": []
  },
  {
   "cell_type": "markdown",
   "id": "early-maintenance",
   "metadata": {},
   "source": [
    "#### 세광님\n",
    "- cohens d"
   ]
  },
  {
   "cell_type": "code",
   "execution_count": null,
   "id": "alpha-superintendent",
   "metadata": {},
   "outputs": [],
   "source": []
  },
  {
   "cell_type": "markdown",
   "id": "considered-fisher",
   "metadata": {},
   "source": [
    "### 가설검정 단계에 따라, Treatment 효과(M - mu) 통계적 유의성(significance)를 판단"
   ]
  },
  {
   "cell_type": "markdown",
   "id": "herbal-violation",
   "metadata": {},
   "source": [
    "---\n",
    "![''](./08_src/08_06_01.png)\n",
    "\n",
    "![''](./08_src/08_06_02.png)"
   ]
  },
  {
   "cell_type": "code",
   "execution_count": 8,
   "id": "framed-stewart",
   "metadata": {},
   "outputs": [
    {
     "name": "stdout",
     "output_type": "stream",
     "text": [
      "[two tail, alpha 0.05] z_statistic:1.33, critical_region:z > 1.96 or z < -1.96\n",
      "=> null hypothesis rejection [False]\n"
     ]
    }
   ],
   "source": [
    "slow_stat = slow_statistic.Stats()\n",
    "\n",
    "slow_stat.n, slow_stat.mu, slow_stat.std, slow_stat.M = 16, 50, 12, 54\n",
    "\n",
    "slow_stat.ztest_1samp_from_stats()"
   ]
  },
  {
   "cell_type": "code",
   "execution_count": null,
   "id": "characteristic-macintosh",
   "metadata": {},
   "outputs": [],
   "source": []
  },
  {
   "cell_type": "markdown",
   "id": "european-eclipse",
   "metadata": {},
   "source": [
    "---\n",
    "![''](./08_src/08_07_01.png)"
   ]
  },
  {
   "cell_type": "code",
   "execution_count": 9,
   "id": "related-session",
   "metadata": {},
   "outputs": [
    {
     "name": "stdout",
     "output_type": "stream",
     "text": [
      "[two tail, alpha 0.05] z_statistic:-2.5, critical_region:z > 1.96 or z < -1.96\n",
      "=> null hypothesis rejection [True]\n"
     ]
    }
   ],
   "source": [
    "slow_stat = slow_statistic.Stats()\n",
    "\n",
    "slow_stat.n, slow_stat.mu, slow_stat.std, slow_stat.M = 64, 14, 4.8, 12.5\n",
    "\n",
    "slow_stat.ztest_1samp_from_stats()"
   ]
  },
  {
   "cell_type": "code",
   "execution_count": null,
   "id": "warming-landing",
   "metadata": {},
   "outputs": [],
   "source": []
  },
  {
   "cell_type": "markdown",
   "id": "informal-vacation",
   "metadata": {},
   "source": [
    "---\n",
    "![''](./08_src/08_08_01.png)"
   ]
  },
  {
   "cell_type": "code",
   "execution_count": 10,
   "id": "rubber-syndicate",
   "metadata": {},
   "outputs": [
    {
     "name": "stdout",
     "output_type": "stream",
     "text": [
      "[two tail, alpha 0.05] z_statistic:2.53, critical_region:z > 1.96 or z < -1.96\n",
      "=> null hypothesis rejection [True]\n"
     ]
    }
   ],
   "source": [
    "slow_stat = slow_statistic.Stats()\n",
    "\n",
    "slow_stat.n, slow_stat.mu, slow_stat.std, slow_stat.M = 100, 50, 15, 53.8\n",
    "\n",
    "slow_stat.ztest_1samp_from_stats()"
   ]
  },
  {
   "cell_type": "code",
   "execution_count": 11,
   "id": "dimensional-copyright",
   "metadata": {},
   "outputs": [
    {
     "data": {
      "text/plain": [
       "0.25"
      ]
     },
     "execution_count": 11,
     "metadata": {},
     "output_type": "execute_result"
    }
   ],
   "source": [
    "slow_stat.cohens_d_from_stats()"
   ]
  },
  {
   "cell_type": "code",
   "execution_count": null,
   "id": "supreme-sheriff",
   "metadata": {},
   "outputs": [],
   "source": []
  },
  {
   "cell_type": "markdown",
   "id": "public-norfolk",
   "metadata": {},
   "source": [
    "---\n",
    "![''](./08_src/08_15_01.png)"
   ]
  },
  {
   "cell_type": "code",
   "execution_count": 12,
   "id": "prerequisite-paintball",
   "metadata": {},
   "outputs": [
    {
     "name": "stdout",
     "output_type": "stream",
     "text": [
      "[two tail, alpha 0.05] z_statistic:-1.2, critical_region:z > 1.96 or z < -1.96\n",
      "=> null hypothesis rejection [False]\n"
     ]
    }
   ],
   "source": [
    "slow_stat = slow_statistic.Stats()\n",
    "\n",
    "slow_stat.n, slow_stat.mu, slow_stat.std, slow_stat.M = 36, 400, 40, 392\n",
    "\n",
    "slow_stat.ztest_1samp_from_stats()"
   ]
  },
  {
   "cell_type": "code",
   "execution_count": 13,
   "id": "silver-prairie",
   "metadata": {},
   "outputs": [
    {
     "data": {
      "text/plain": [
       "0.2"
      ]
     },
     "execution_count": 13,
     "metadata": {},
     "output_type": "execute_result"
    }
   ],
   "source": [
    "slow_stat.cohens_d_from_stats()"
   ]
  },
  {
   "cell_type": "code",
   "execution_count": null,
   "id": "requested-kingdom",
   "metadata": {},
   "outputs": [],
   "source": []
  },
  {
   "cell_type": "markdown",
   "id": "numerous-jaguar",
   "metadata": {},
   "source": [
    "---\n",
    "![''](./08_src/08_18_01.png)"
   ]
  },
  {
   "cell_type": "code",
   "execution_count": 14,
   "id": "above-finder",
   "metadata": {},
   "outputs": [
    {
     "name": "stdout",
     "output_type": "stream",
     "text": [
      "[two tail, alpha 0.05] z_statistic:2.31, critical_region:z > 1.96 or z < -1.96\n",
      "=> null hypothesis rejection [True]\n"
     ]
    }
   ],
   "source": [
    "slow_stat = slow_statistic.Stats()\n",
    "\n",
    "slow_stat.n, slow_stat.mu, slow_stat.std, slow_stat.M = 16, 45, 9, 50.2\n",
    "\n",
    "slow_stat.ztest_1samp_from_stats()"
   ]
  },
  {
   "cell_type": "code",
   "execution_count": 15,
   "id": "academic-thesis",
   "metadata": {},
   "outputs": [
    {
     "data": {
      "text/plain": [
       "0.58"
      ]
     },
     "execution_count": 15,
     "metadata": {},
     "output_type": "execute_result"
    }
   ],
   "source": [
    "slow_stat.cohens_d_from_stats()"
   ]
  },
  {
   "cell_type": "code",
   "execution_count": null,
   "id": "powerful-summary",
   "metadata": {},
   "outputs": [],
   "source": []
  },
  {
   "cell_type": "markdown",
   "id": "bright-dictionary",
   "metadata": {},
   "source": [
    "### 표준편차(sigma), 샘플 개수(n)에 따른 귀무가설(null hypothesis) 기각의 관계"
   ]
  },
  {
   "cell_type": "markdown",
   "id": "waiting-delight",
   "metadata": {},
   "source": [
    "---\n",
    "![''](./08_src/08_09_01.png)"
   ]
  },
  {
   "cell_type": "code",
   "execution_count": 16,
   "id": "fatal-watch",
   "metadata": {},
   "outputs": [
    {
     "name": "stdout",
     "output_type": "stream",
     "text": [
      "[two tail, alpha 0.05] z_statistic:2.5, critical_region:z > 1.96 or z < -1.96\n",
      "=> null hypothesis rejection [True]\n"
     ]
    }
   ],
   "source": [
    "slow_stat = slow_statistic.Stats()\n",
    "\n",
    "slow_stat.n, slow_stat.mu, slow_stat.std, slow_stat.M = 36, 71, 12, 76\n",
    "\n",
    "slow_stat.ztest_1samp_from_stats()"
   ]
  },
  {
   "cell_type": "code",
   "execution_count": 17,
   "id": "efficient-level",
   "metadata": {},
   "outputs": [
    {
     "name": "stdout",
     "output_type": "stream",
     "text": [
      "[two tail, alpha 0.05] z_statistic:1.67, critical_region:z > 1.96 or z < -1.96\n",
      "=> null hypothesis rejection [False]\n"
     ]
    }
   ],
   "source": [
    "slow_stat = slow_statistic.Stats()\n",
    "\n",
    "slow_stat.n, slow_stat.mu, slow_stat.std, slow_stat.M = 36, 71, 18, 76\n",
    "\n",
    "slow_stat.ztest_1samp_from_stats()"
   ]
  },
  {
   "cell_type": "code",
   "execution_count": null,
   "id": "flying-civilian",
   "metadata": {},
   "outputs": [],
   "source": []
  },
  {
   "cell_type": "markdown",
   "id": "written-sport",
   "metadata": {},
   "source": [
    "---\n",
    "![''](./08_src/08_10_01.png)\n",
    "\n",
    "![''](./08_src/08_10_02.png)"
   ]
  },
  {
   "cell_type": "code",
   "execution_count": 18,
   "id": "female-steel",
   "metadata": {},
   "outputs": [
    {
     "name": "stdout",
     "output_type": "stream",
     "text": [
      "[two tail, alpha 0.05] z_statistic:1.5, critical_region:z > 1.96 or z < -1.96\n",
      "=> null hypothesis rejection [False]\n"
     ]
    }
   ],
   "source": [
    "slow_stat = slow_statistic.Stats()\n",
    "\n",
    "slow_stat.n, slow_stat.mu, slow_stat.std, slow_stat.M = 16, 30, 8, 33\n",
    "\n",
    "slow_stat.ztest_1samp_from_stats()"
   ]
  },
  {
   "cell_type": "code",
   "execution_count": 19,
   "id": "skilled-england",
   "metadata": {},
   "outputs": [
    {
     "name": "stdout",
     "output_type": "stream",
     "text": [
      "[two tail, alpha 0.05] z_statistic:3.0, critical_region:z > 1.96 or z < -1.96\n",
      "=> null hypothesis rejection [True]\n"
     ]
    }
   ],
   "source": [
    "slow_stat = slow_statistic.Stats()\n",
    "\n",
    "slow_stat.n, slow_stat.mu, slow_stat.std, slow_stat.M = 64, 30, 8, 33\n",
    "\n",
    "slow_stat.ztest_1samp_from_stats()"
   ]
  },
  {
   "cell_type": "code",
   "execution_count": null,
   "id": "reverse-traveler",
   "metadata": {},
   "outputs": [],
   "source": []
  },
  {
   "cell_type": "code",
   "execution_count": null,
   "id": "polished-plate",
   "metadata": {},
   "outputs": [],
   "source": []
  },
  {
   "cell_type": "code",
   "execution_count": null,
   "id": "fatal-history",
   "metadata": {},
   "outputs": [],
   "source": []
  },
  {
   "cell_type": "markdown",
   "id": "sexual-feeling",
   "metadata": {},
   "source": [
    "---\n",
    "![''](./08_src/08_11_01.png)"
   ]
  },
  {
   "cell_type": "code",
   "execution_count": 20,
   "id": "express-validation",
   "metadata": {},
   "outputs": [
    {
     "name": "stdout",
     "output_type": "stream",
     "text": [
      "[two tail, alpha 0.05] z_statistic:4.0, critical_region:z > 1.96 or z < -1.96\n",
      "=> null hypothesis rejection [True]\n"
     ]
    }
   ],
   "source": [
    "slow_stat = slow_statistic.Stats()\n",
    "\n",
    "slow_stat.n, slow_stat.mu, slow_stat.std, slow_stat.M = 25, 40, 5, 44\n",
    "\n",
    "slow_stat.ztest_1samp_from_stats()"
   ]
  },
  {
   "cell_type": "code",
   "execution_count": 21,
   "id": "rough-first",
   "metadata": {},
   "outputs": [
    {
     "name": "stdout",
     "output_type": "stream",
     "text": [
      "[two tail, alpha 0.05] z_statistic:1.33, critical_region:z > 1.96 or z < -1.96\n",
      "=> null hypothesis rejection [False]\n"
     ]
    }
   ],
   "source": [
    "slow_stat = slow_statistic.Stats()\n",
    "\n",
    "slow_stat.n, slow_stat.mu, slow_stat.std, slow_stat.M = 25, 40, 15, 44\n",
    "\n",
    "slow_stat.ztest_1samp_from_stats()"
   ]
  },
  {
   "cell_type": "code",
   "execution_count": null,
   "id": "entertaining-steering",
   "metadata": {},
   "outputs": [],
   "source": []
  },
  {
   "cell_type": "code",
   "execution_count": null,
   "id": "blond-compound",
   "metadata": {},
   "outputs": [],
   "source": []
  },
  {
   "cell_type": "code",
   "execution_count": null,
   "id": "identical-merit",
   "metadata": {},
   "outputs": [],
   "source": []
  },
  {
   "cell_type": "markdown",
   "id": "announced-consultation",
   "metadata": {},
   "source": [
    "### 단측(one-sided test) / 양측(two-sided test), 유의수준(alpha)에 따른 결과 차이"
   ]
  },
  {
   "cell_type": "markdown",
   "id": "tropical-generic",
   "metadata": {},
   "source": [
    "---\n",
    "![''](./08_src/08_12_01.png)"
   ]
  },
  {
   "cell_type": "code",
   "execution_count": 22,
   "id": "chief-consideration",
   "metadata": {},
   "outputs": [
    {
     "name": "stdout",
     "output_type": "stream",
     "text": [
      "[two tail, alpha 0.05] z_statistic:2.6, critical_region:z > 1.96 or z < -1.96\n",
      "=> null hypothesis rejection [True]\n"
     ]
    }
   ],
   "source": [
    "slow_stat = slow_statistic.Stats()\n",
    "\n",
    "slow_stat.n, slow_stat.mu, slow_stat.std, slow_stat.M = 36, 4.22, 0.6, 4.48\n",
    "\n",
    "slow_stat.ztest_1samp_from_stats()"
   ]
  },
  {
   "cell_type": "code",
   "execution_count": 23,
   "id": "yellow-maintenance",
   "metadata": {},
   "outputs": [
    {
     "name": "stdout",
     "output_type": "stream",
     "text": [
      "[one tail, alpha 0.05] z_statistic:2.6, critical_region:z > 1.645\n",
      "=> null hypothesis rejection [True]\n"
     ]
    }
   ],
   "source": [
    "slow_stat = slow_statistic.Stats()\n",
    "\n",
    "slow_stat.n, slow_stat.mu, slow_stat.std, slow_stat.M = 36, 4.22, 0.6, 4.48\n",
    "slow_stat.tail_num = 1\n",
    "\n",
    "slow_stat.ztest_1samp_from_stats()"
   ]
  },
  {
   "cell_type": "code",
   "execution_count": null,
   "id": "breathing-oklahoma",
   "metadata": {},
   "outputs": [],
   "source": []
  },
  {
   "cell_type": "markdown",
   "id": "hidden-friendly",
   "metadata": {},
   "source": [
    "---\n",
    "![''](./08_src/08_14_01.png)"
   ]
  },
  {
   "cell_type": "code",
   "execution_count": 24,
   "id": "threatened-uncertainty",
   "metadata": {},
   "outputs": [
    {
     "name": "stdout",
     "output_type": "stream",
     "text": [
      "[two tail, alpha 0.01] z_statistic:2.75, critical_region:z > 2.576 or z < -2.576\n",
      "=> null hypothesis rejection [True]\n"
     ]
    }
   ],
   "source": [
    "slow_stat = slow_statistic.Stats()\n",
    "\n",
    "slow_stat.n, slow_stat.mu, slow_stat.std, slow_stat.M = 25, 400, 40, 422\n",
    "slow_stat.alpha = 0.01\n",
    "\n",
    "slow_stat.ztest_1samp_from_stats()"
   ]
  },
  {
   "cell_type": "code",
   "execution_count": 25,
   "id": "dominican-monroe",
   "metadata": {},
   "outputs": [
    {
     "name": "stdout",
     "output_type": "stream",
     "text": [
      "[one tail, alpha 0.01] z_statistic:2.75, critical_region:z > 2.326\n",
      "=> null hypothesis rejection [True]\n"
     ]
    }
   ],
   "source": [
    "slow_stat = slow_statistic.Stats()\n",
    "\n",
    "slow_stat.n, slow_stat.mu, slow_stat.std, slow_stat.M = 25, 400, 40, 422\n",
    "slow_stat.alpha = 0.01\n",
    "slow_stat.tail_num = 1\n",
    "\n",
    "slow_stat.ztest_1samp_from_stats()"
   ]
  },
  {
   "cell_type": "code",
   "execution_count": 26,
   "id": "italic-durham",
   "metadata": {},
   "outputs": [
    {
     "data": {
      "text/plain": [
       "0.55"
      ]
     },
     "execution_count": 26,
     "metadata": {},
     "output_type": "execute_result"
    }
   ],
   "source": [
    "slow_stat.cohens_d_from_stats()"
   ]
  },
  {
   "cell_type": "code",
   "execution_count": null,
   "id": "warming-chosen",
   "metadata": {},
   "outputs": [],
   "source": []
  },
  {
   "cell_type": "markdown",
   "id": "united-mountain",
   "metadata": {},
   "source": [
    "---\n",
    "![''](./08_src/08_16_01.png)\n",
    "\n",
    "![''](./08_src/08_16_02.png)"
   ]
  },
  {
   "cell_type": "code",
   "execution_count": 27,
   "id": "tropical-legend",
   "metadata": {},
   "outputs": [
    {
     "name": "stdout",
     "output_type": "stream",
     "text": [
      "[one tail, alpha 0.05] z_statistic:2.79, critical_region:z > 1.645\n",
      "=> null hypothesis rejection [True]\n"
     ]
    }
   ],
   "source": [
    "slow_stat = slow_statistic.Stats()\n",
    "\n",
    "slow_stat.n, slow_stat.mu, slow_stat.std, slow_stat.M = 4, 9.6, 1.9, 12.25\n",
    "slow_stat.tail_num = 1\n",
    "\n",
    "slow_stat.ztest_1samp_from_stats()"
   ]
  },
  {
   "cell_type": "code",
   "execution_count": null,
   "id": "balanced-diesel",
   "metadata": {},
   "outputs": [],
   "source": []
  },
  {
   "cell_type": "markdown",
   "id": "prerequisite-validity",
   "metadata": {},
   "source": [
    "---\n",
    "![''](./08_src/08_17_01.png)"
   ]
  },
  {
   "cell_type": "code",
   "execution_count": 28,
   "id": "numerous-license",
   "metadata": {},
   "outputs": [
    {
     "name": "stdout",
     "output_type": "stream",
     "text": [
      "[one tail, alpha 0.01] z_statistic:2.77, critical_region:z > 2.326\n",
      "=> null hypothesis rejection [True]\n"
     ]
    }
   ],
   "source": [
    "slow_stat = slow_statistic.Stats()\n",
    "\n",
    "slow_stat.n, slow_stat.mu, slow_stat.std, slow_stat.M = 20, 500, 100, 562\n",
    "slow_stat.alpha = 0.01\n",
    "slow_stat.tail_num = 1\n",
    "\n",
    "slow_stat.ztest_1samp_from_stats()"
   ]
  },
  {
   "cell_type": "code",
   "execution_count": 29,
   "id": "raising-burlington",
   "metadata": {},
   "outputs": [
    {
     "data": {
      "text/plain": [
       "0.62"
      ]
     },
     "execution_count": 29,
     "metadata": {},
     "output_type": "execute_result"
    }
   ],
   "source": [
    "slow_stat.cohens_d_from_stats()"
   ]
  },
  {
   "cell_type": "code",
   "execution_count": null,
   "id": "wireless-armenia",
   "metadata": {},
   "outputs": [],
   "source": []
  },
  {
   "cell_type": "markdown",
   "id": "fifty-roller",
   "metadata": {},
   "source": [
    "### 통계적 검증력 (statistical power)"
   ]
  },
  {
   "cell_type": "markdown",
   "id": "coated-amount",
   "metadata": {},
   "source": [
    "---\n",
    "![''](./08_src/08_19_01.png)\n",
    "\n",
    "![''](./08_src/08_19_02.png)"
   ]
  },
  {
   "cell_type": "code",
   "execution_count": 30,
   "id": "distributed-garden",
   "metadata": {},
   "outputs": [],
   "source": [
    "# n, mu, std, M = 9, 40, 12, 46\n",
    "\n",
    "# hypothesis_tester_basic(n, mu, std, M)"
   ]
  },
  {
   "cell_type": "code",
   "execution_count": 31,
   "id": "sixth-frederick",
   "metadata": {},
   "outputs": [],
   "source": [
    "# calculate_stat_power(n, mu, std, M)"
   ]
  },
  {
   "cell_type": "code",
   "execution_count": 32,
   "id": "cellular-overhead",
   "metadata": {},
   "outputs": [],
   "source": [
    "# n, mu, std, M = 16, 40, 12, 46\n",
    "\n",
    "# hypothesis_tester_basic(n, mu, std, M)"
   ]
  },
  {
   "cell_type": "code",
   "execution_count": 33,
   "id": "sensitive-experience",
   "metadata": {},
   "outputs": [],
   "source": [
    "# calculate_stat_power(n, mu, std, M)"
   ]
  },
  {
   "cell_type": "code",
   "execution_count": null,
   "id": "assumed-underground",
   "metadata": {},
   "outputs": [],
   "source": []
  },
  {
   "cell_type": "markdown",
   "id": "wireless-avatar",
   "metadata": {},
   "source": [
    "---\n",
    "![''](./08_src/08_20_01.png)"
   ]
  },
  {
   "cell_type": "code",
   "execution_count": 34,
   "id": "intimate-denial",
   "metadata": {},
   "outputs": [],
   "source": [
    "# n, mu, std, M = 9, 240, 30, 210\n",
    "\n",
    "# hypothesis_tester_basic(n, mu, std, M)"
   ]
  },
  {
   "cell_type": "code",
   "execution_count": 35,
   "id": "excited-syria",
   "metadata": {},
   "outputs": [],
   "source": [
    "# calculate_stat_power(n, mu, std, M)"
   ]
  },
  {
   "cell_type": "code",
   "execution_count": 36,
   "id": "great-clarity",
   "metadata": {},
   "outputs": [],
   "source": [
    "# # def calculate_stat_power(n, mu, std, M):\n",
    "# se = std / np.sqrt(n)\n",
    "# z = ((mu + -1.96 * se) - M) / se\n",
    "# # return round(1 - stats.norm.cdf(z), 4)"
   ]
  },
  {
   "cell_type": "code",
   "execution_count": 37,
   "id": "sustained-painting",
   "metadata": {},
   "outputs": [],
   "source": [
    "# (mu + -1.96 * se)"
   ]
  },
  {
   "cell_type": "code",
   "execution_count": 38,
   "id": "parental-gates",
   "metadata": {},
   "outputs": [],
   "source": [
    "# stats.norm.cdf(z)"
   ]
  },
  {
   "cell_type": "code",
   "execution_count": null,
   "id": "informational-barrier",
   "metadata": {},
   "outputs": [],
   "source": []
  },
  {
   "cell_type": "code",
   "execution_count": null,
   "id": "fleet-reflection",
   "metadata": {},
   "outputs": [],
   "source": []
  },
  {
   "cell_type": "code",
   "execution_count": null,
   "id": "adolescent-austin",
   "metadata": {},
   "outputs": [],
   "source": []
  },
  {
   "cell_type": "code",
   "execution_count": null,
   "id": "motivated-belize",
   "metadata": {},
   "outputs": [],
   "source": []
  },
  {
   "cell_type": "code",
   "execution_count": null,
   "id": "manufactured-timer",
   "metadata": {},
   "outputs": [],
   "source": []
  }
 ],
 "metadata": {
  "kernelspec": {
   "display_name": "Python 3",
   "language": "python",
   "name": "python3"
  },
  "language_info": {
   "codemirror_mode": {
    "name": "ipython",
    "version": 3
   },
   "file_extension": ".py",
   "mimetype": "text/x-python",
   "name": "python",
   "nbconvert_exporter": "python",
   "pygments_lexer": "ipython3",
   "version": "3.9.1"
  }
 },
 "nbformat": 4,
 "nbformat_minor": 5
}
