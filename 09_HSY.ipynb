{
 "cells": [
  {
   "cell_type": "code",
   "execution_count": 1,
   "id": "fewer-orange",
   "metadata": {},
   "outputs": [],
   "source": [
    "import numpy as np\n",
    "import pandas as pd\n",
    "from scipy import stats"
   ]
  },
  {
   "cell_type": "code",
   "execution_count": 42,
   "id": "cooperative-cocktail",
   "metadata": {},
   "outputs": [],
   "source": [
    "def calculate_t_statistic(n, mu, std, M):\n",
    "    se = std / np.sqrt(n)\n",
    "    return round((M - mu) / se, 2)\n",
    "\n",
    "def calculate_t_portion(n, alpha, tail_num):\n",
    "    df = n - 1\n",
    "    return round(stats.t.ppf(1 - alpha/tail_num, df=df), 3)\n",
    "\n",
    "def calculate_r_squared(n, mu, std, M):\n",
    "    t = calculate_t_statistic(n, mu, std, M)\n",
    "    return t ** 2 / (t ** 2 + n - 1)\n",
    "\n",
    "def ttest_1samp_from_stats(n, mu, std, M, alpha=0.05, tail_num=2):\n",
    "    \n",
    "    t, cr = calculate_t_statistic(n, mu, std, M), calculate_t_portion(n, alpha, tail_num)\n",
    "    \n",
    "    if tail_num == 2:\n",
    "        \n",
    "        rejection_decision = (t > cr) | (t < -1 * cr)\n",
    "        region = f't > {cr} or t < -{cr}'\n",
    "        criteria = f'two tail, alpha {alpha}'\n",
    "        \n",
    "    elif tail_num == 1:\n",
    "        \n",
    "        if t > 0:\n",
    "        \n",
    "            rejection_decision = (t > cr)\n",
    "            region = f't > {cr}'\n",
    "            \n",
    "        else:\n",
    "            \n",
    "            rejection_decision = (t < -1 * cr)\n",
    "            region = f't < -{cr}'\n",
    "        \n",
    "        criteria = f'one tail, alpha {alpha}'\n",
    "        \n",
    "    else:\n",
    "        print('Should use tail_num 1 or 2.')\n",
    "        return None\n",
    "            \n",
    "    print(f'[{criteria}] t_statistic:{t}, critical_region:{region}\\n=> null hypothesis rejection [{rejection_decision}]')\n",
    "    \n",
    "def calculate_cohens_d(mu, std, M):\n",
    "    return round(abs((M - mu) / std), 2)\n",
    "\n",
    "def calculate_stat_power(n, mu, std, M):\n",
    "    se = std / np.sqrt(n)\n",
    "    z = ((mu + 1.96 * se) - M) / se\n",
    "    return round(1 - stats.norm.cdf(z), 4)"
   ]
  },
  {
   "cell_type": "code",
   "execution_count": null,
   "id": "handmade-chancellor",
   "metadata": {},
   "outputs": [],
   "source": []
  },
  {
   "cell_type": "markdown",
   "id": "direct-medicare",
   "metadata": {},
   "source": [
    "# 유형\n",
    "1. t test - 가설검정 단계에 따라, Treatment 효과(M - mu) 통계적 유의성(significance)를 판단\n",
    "2. 표준편차(sigma), 샘플 개수(n)에 따른 귀무가설(null hypothesis) 기각의 관계\n",
    "3. 단측(one-sided test) / 양측(two-sided test), 유의수준(alpha)에 따른 결과 차이\n",
    "4. 신뢰구간(confidence interval), 결정계수(r sqaured) 구하는 법 + a\n",
    "5. raw datapoint 기반 문제풀이 "
   ]
  },
  {
   "cell_type": "code",
   "execution_count": null,
   "id": "fourth-revolution",
   "metadata": {},
   "outputs": [],
   "source": []
  },
  {
   "cell_type": "markdown",
   "id": "breathing-westminster",
   "metadata": {},
   "source": [
    "### 1. t test - 가설검정 단계에 따라, Treatment 효과(M - mu) 통계적 유의성(significance)를 판단"
   ]
  },
  {
   "cell_type": "markdown",
   "id": "historic-sheet",
   "metadata": {},
   "source": [
    "---\n",
    "![''](./09_src/09_09_01.png)"
   ]
  },
  {
   "cell_type": "code",
   "execution_count": null,
   "id": "handmade-greene",
   "metadata": {},
   "outputs": [],
   "source": [
    "stats.ttest_1samp()"
   ]
  },
  {
   "cell_type": "code",
   "execution_count": null,
   "id": "nasty-nursery",
   "metadata": {},
   "outputs": [],
   "source": [
    "slow_....ttest_1samp_from_stats()"
   ]
  },
  {
   "cell_type": "code",
   "execution_count": 10,
   "id": "administrative-marathon",
   "metadata": {},
   "outputs": [
    {
     "name": "stdout",
     "output_type": "stream",
     "text": [
      "[two tail, alpha 0.05] t_statistic:3.0, critical_region:t > 2.201 or t < -2.201\n",
      "=> null hypothesis rejection [True]\n"
     ]
    }
   ],
   "source": [
    "n, mu = 12, 70\n",
    "std, M = np.sqrt(297 / (n - 1)), 74.5\n",
    "\n",
    "ttest_1samp_from_stats(n, mu, std, M)"
   ]
  },
  {
   "cell_type": "code",
   "execution_count": null,
   "id": "mathematical-legislature",
   "metadata": {},
   "outputs": [],
   "source": []
  },
  {
   "cell_type": "markdown",
   "id": "adolescent-stations",
   "metadata": {},
   "source": [
    "---\n",
    "![''](./09_src/09_10_01.png)"
   ]
  },
  {
   "cell_type": "code",
   "execution_count": 11,
   "id": "crucial-adelaide",
   "metadata": {},
   "outputs": [
    {
     "name": "stdout",
     "output_type": "stream",
     "text": [
      "[two tail, alpha 0.05] t_statistic:2.75, critical_region:t > 2.064 or t < -2.064\n",
      "=> null hypothesis rejection [True]\n"
     ]
    }
   ],
   "source": [
    "n, mu = 25, 20\n",
    "std, M = np.sqrt(384 / (n - 1)), 22.2\n",
    "\n",
    "ttest_1samp_from_stats(n, mu, std, M)"
   ]
  },
  {
   "cell_type": "code",
   "execution_count": null,
   "id": "enclosed-flight",
   "metadata": {},
   "outputs": [],
   "source": []
  },
  {
   "cell_type": "markdown",
   "id": "convenient-feeding",
   "metadata": {},
   "source": [
    "### 2. 표준편차(sigma), 샘플 개수(n)에 따른 귀무가설(null hypothesis) 기각의 관계"
   ]
  },
  {
   "cell_type": "markdown",
   "id": "satisfied-listing",
   "metadata": {},
   "source": [
    "---\n",
    "![''](./09_src/09_11_01.png)"
   ]
  },
  {
   "cell_type": "code",
   "execution_count": 12,
   "id": "literary-accent",
   "metadata": {},
   "outputs": [
    {
     "name": "stdout",
     "output_type": "stream",
     "text": [
      "[two tail, alpha 0.05] t_statistic:1.73, critical_region:t > 2.131 or t < -2.131\n",
      "=> null hypothesis rejection [False]\n"
     ]
    }
   ],
   "source": [
    "n, mu = 16, 30\n",
    "std, M = 3, 31.3\n",
    "\n",
    "ttest_1samp_from_stats(n, mu, std, M)"
   ]
  },
  {
   "cell_type": "code",
   "execution_count": 13,
   "id": "mental-bowling",
   "metadata": {},
   "outputs": [
    {
     "name": "stdout",
     "output_type": "stream",
     "text": [
      "[two tail, alpha 0.05] t_statistic:2.6, critical_region:t > 2.03 or t < -2.03\n",
      "=> null hypothesis rejection [True]\n"
     ]
    }
   ],
   "source": [
    "n, mu = 36, 30\n",
    "std, M = 3, 31.3\n",
    "\n",
    "ttest_1samp_from_stats(n, mu, std, M)"
   ]
  },
  {
   "cell_type": "code",
   "execution_count": null,
   "id": "sonic-slave",
   "metadata": {},
   "outputs": [],
   "source": []
  },
  {
   "cell_type": "markdown",
   "id": "first-girlfriend",
   "metadata": {},
   "source": [
    "---\n",
    "![''](./09_src/09_12_01.png)\n",
    "\n",
    "![''](./09_src/09_12_02.png)"
   ]
  },
  {
   "cell_type": "code",
   "execution_count": 14,
   "id": "confused-energy",
   "metadata": {},
   "outputs": [
    {
     "name": "stdout",
     "output_type": "stream",
     "text": [
      "[two tail, alpha 0.05] t_statistic:-2.5, critical_region:t > 2.365 or t < -2.365\n",
      "=> null hypothesis rejection [True]\n"
     ]
    }
   ],
   "source": [
    "n, mu = 8, 40\n",
    "std, M = np.sqrt(32), 35\n",
    "\n",
    "ttest_1samp_from_stats(n, mu, std, M)"
   ]
  },
  {
   "cell_type": "code",
   "execution_count": 15,
   "id": "moral-newman",
   "metadata": {},
   "outputs": [
    {
     "name": "stdout",
     "output_type": "stream",
     "text": [
      "[two tail, alpha 0.05] t_statistic:-1.67, critical_region:t > 2.365 or t < -2.365\n",
      "=> null hypothesis rejection [False]\n"
     ]
    }
   ],
   "source": [
    "n, mu = 8, 40\n",
    "std, M = np.sqrt(72), 35\n",
    "\n",
    "ttest_1samp_from_stats(n, mu, std, M)"
   ]
  },
  {
   "cell_type": "code",
   "execution_count": null,
   "id": "alike-holmes",
   "metadata": {},
   "outputs": [],
   "source": []
  },
  {
   "cell_type": "markdown",
   "id": "novel-kelly",
   "metadata": {},
   "source": [
    "### 3. 단측(one-sided test) / 양측(two-sided test), 유의수준(alpha)에 따른 결과 차이"
   ]
  },
  {
   "cell_type": "markdown",
   "id": "regular-credits",
   "metadata": {},
   "source": [
    "---\n",
    "![''](./09_src/09_13_01.png)"
   ]
  },
  {
   "cell_type": "code",
   "execution_count": 16,
   "id": "immune-competition",
   "metadata": {},
   "outputs": [
    {
     "name": "stdout",
     "output_type": "stream",
     "text": [
      "[two tail, alpha 0.05] t_statistic:2.2, critical_region:t > 2.306 or t < -2.306\n",
      "=> null hypothesis rejection [False]\n"
     ]
    }
   ],
   "source": [
    "n, mu = 9, 3.1\n",
    "std, M = np.sqrt(162 / (n - 1)), 6.4\n",
    "\n",
    "ttest_1samp_from_stats(n, mu, std, M)"
   ]
  },
  {
   "cell_type": "code",
   "execution_count": 17,
   "id": "exclusive-piece",
   "metadata": {},
   "outputs": [
    {
     "name": "stdout",
     "output_type": "stream",
     "text": [
      "[one tail, alpha 0.05] t_statistic:2.2, critical_region:t > 1.86\n",
      "=> null hypothesis rejection [True]\n"
     ]
    }
   ],
   "source": [
    "n, mu = 9, 3.1\n",
    "std, M = np.sqrt(162 / (n - 1)), 6.4\n",
    "\n",
    "ttest_1samp_from_stats(n, mu, std, M, alpha=0.05, tail_num=1)"
   ]
  },
  {
   "cell_type": "code",
   "execution_count": null,
   "id": "applied-guinea",
   "metadata": {},
   "outputs": [],
   "source": []
  },
  {
   "cell_type": "markdown",
   "id": "fuzzy-allergy",
   "metadata": {},
   "source": [
    "---\n",
    "![''](./09_src/09_16_01.png)"
   ]
  },
  {
   "cell_type": "code",
   "execution_count": 18,
   "id": "logical-realtor",
   "metadata": {},
   "outputs": [
    {
     "name": "stdout",
     "output_type": "stream",
     "text": [
      "[one tail, alpha 0.01] t_statistic:2.33, critical_region:t > 2.602\n",
      "=> null hypothesis rejection [False]\n"
     ]
    }
   ],
   "source": [
    "n, mu = 16, 73.4\n",
    "std, M = 8.4, 78.3\n",
    "\n",
    "ttest_1samp_from_stats(n, mu, std, M, alpha=0.01, tail_num=1)"
   ]
  },
  {
   "cell_type": "markdown",
   "id": "ready-future",
   "metadata": {},
   "source": [
    "---\n",
    "![''](./09_src/09_21_01.png)"
   ]
  },
  {
   "cell_type": "code",
   "execution_count": 19,
   "id": "casual-alabama",
   "metadata": {},
   "outputs": [
    {
     "name": "stdout",
     "output_type": "stream",
     "text": [
      "[one tail, alpha 0.05] t_statistic:2.04, critical_region:t > 1.753\n",
      "=> null hypothesis rejection [True]\n"
     ]
    }
   ],
   "source": [
    "n, mu = 16, 4\n",
    "std, M = 1.04, 4.53\n",
    "\n",
    "ttest_1samp_from_stats(n, mu, std, M, alpha=0.05, tail_num=1)"
   ]
  },
  {
   "cell_type": "code",
   "execution_count": 20,
   "id": "brazilian-colombia",
   "metadata": {},
   "outputs": [
    {
     "name": "stdout",
     "output_type": "stream",
     "text": [
      "[one tail, alpha 0.05] t_statistic:-2.37, critical_region:t < -1.753\n",
      "=> null hypothesis rejection [True]\n"
     ]
    }
   ],
   "source": [
    "n, mu = 16, 4\n",
    "std, M = 1.18, 3.30\n",
    "\n",
    "ttest_1samp_from_stats(n, mu, std, M, alpha=0.05, tail_num=1)"
   ]
  },
  {
   "cell_type": "code",
   "execution_count": null,
   "id": "pretty-entry",
   "metadata": {},
   "outputs": [],
   "source": []
  },
  {
   "cell_type": "markdown",
   "id": "great-complaint",
   "metadata": {},
   "source": [
    "### 4. 신뢰구간(confidence interval), 결정계수(r sqaured) 구하는 법"
   ]
  },
  {
   "cell_type": "markdown",
   "id": "under-debut",
   "metadata": {},
   "source": [
    "---\n",
    "![''](./09_src/09_14_01.png)\n",
    "\n",
    "![''](./09_src/09_14_02.png)"
   ]
  },
  {
   "cell_type": "code",
   "execution_count": 21,
   "id": "disabled-bubble",
   "metadata": {},
   "outputs": [
    {
     "name": "stdout",
     "output_type": "stream",
     "text": [
      "[one tail, alpha 0.05] t_statistic:-25.5, critical_region:t < -1.761\n",
      "=> null hypothesis rejection [True]\n"
     ]
    }
   ],
   "source": [
    "n, mu = 15, 60\n",
    "std, M = np.sqrt(210 / (n - 1)), 34.5\n",
    "\n",
    "ttest_1samp_from_stats(n, mu, std, M, alpha=0.05, tail_num=1)"
   ]
  },
  {
   "cell_type": "code",
   "execution_count": 22,
   "id": "daily-spine",
   "metadata": {},
   "outputs": [
    {
     "data": {
      "text/plain": [
       "6.58"
      ]
     },
     "execution_count": 22,
     "metadata": {},
     "output_type": "execute_result"
    }
   ],
   "source": [
    "cohens_d = calculate_cohens_d(mu, std, M)\n",
    "\n",
    "cohens_d"
   ]
  },
  {
   "cell_type": "markdown",
   "id": "manual-acrylic",
   "metadata": {},
   "source": [
    "---\n",
    "![''](./09_src/09_15_01.png)"
   ]
  },
  {
   "cell_type": "code",
   "execution_count": 24,
   "id": "adopted-right",
   "metadata": {},
   "outputs": [
    {
     "name": "stdout",
     "output_type": "stream",
     "text": [
      "[two tail, alpha 0.01] t_statistic:8.2, critical_region:t > 2.947 or t < -2.947\n",
      "=> null hypothesis rejection [True]\n"
     ]
    }
   ],
   "source": [
    "n, mu = 16, 15.1\n",
    "std, M = np.sqrt(240 / (n - 1)), 23.3\n",
    "\n",
    "ttest_1samp_from_stats(n, mu, std, M, alpha=0.01, tail_num=2)"
   ]
  },
  {
   "cell_type": "code",
   "execution_count": 25,
   "id": "adjacent-accident",
   "metadata": {},
   "outputs": [
    {
     "data": {
      "text/plain": [
       "4.0"
      ]
     },
     "execution_count": 25,
     "metadata": {},
     "output_type": "execute_result"
    }
   ],
   "source": [
    "std"
   ]
  },
  {
   "cell_type": "code",
   "execution_count": 31,
   "id": "environmental-anime",
   "metadata": {},
   "outputs": [
    {
     "data": {
      "text/plain": [
       "(21.547, 25.053)"
      ]
     },
     "execution_count": 31,
     "metadata": {},
     "output_type": "execute_result"
    }
   ],
   "source": [
    "ci_start = M - calculate_t_portion(n, alpha=0.1, tail_num=2) * (std / np.sqrt(n))\n",
    "ci_end = M + calculate_t_portion(n, alpha=0.1, tail_num=2) * (std / np.sqrt(n))\n",
    "\n",
    "ci_start, ci_end"
   ]
  },
  {
   "cell_type": "code",
   "execution_count": null,
   "id": "upset-breach",
   "metadata": {},
   "outputs": [],
   "source": []
  },
  {
   "cell_type": "markdown",
   "id": "convenient-incentive",
   "metadata": {},
   "source": [
    "---\n",
    "![''](./09_src/09_17_01.png)\n",
    "\n",
    "![''](./09_src/09_17_02.png)"
   ]
  },
  {
   "cell_type": "code",
   "execution_count": 32,
   "id": "authentic-complaint",
   "metadata": {},
   "outputs": [
    {
     "name": "stdout",
     "output_type": "stream",
     "text": [
      "[two tail, alpha 0.05] t_statistic:-2.37, critical_region:t > 2.306 or t < -2.306\n",
      "=> null hypothesis rejection [True]\n"
     ]
    }
   ],
   "source": [
    "n, mu = 9, 81.7\n",
    "std, M = 5.7, 77.2\n",
    "\n",
    "ttest_1samp_from_stats(n, mu, std, M, alpha=0.05, tail_num=2)"
   ]
  },
  {
   "cell_type": "code",
   "execution_count": 33,
   "id": "empirical-device",
   "metadata": {},
   "outputs": [
    {
     "data": {
      "text/plain": [
       "(73.666, 80.73400000000001)"
      ]
     },
     "execution_count": 33,
     "metadata": {},
     "output_type": "execute_result"
    }
   ],
   "source": [
    "ci_start = M - calculate_t_portion(n, alpha=0.1, tail_num=2) * (std / np.sqrt(n))\n",
    "ci_end = M + calculate_t_portion(n, alpha=0.1, tail_num=2) * (std / np.sqrt(n))\n",
    "\n",
    "ci_start, ci_end"
   ]
  },
  {
   "cell_type": "code",
   "execution_count": null,
   "id": "separate-mechanics",
   "metadata": {},
   "outputs": [],
   "source": []
  },
  {
   "cell_type": "markdown",
   "id": "attended-technology",
   "metadata": {},
   "source": [
    "---\n",
    "![''](./09_src/09_20_01.png)\n",
    "\n",
    "![''](./09_src/09_20_02.png)"
   ]
  },
  {
   "cell_type": "code",
   "execution_count": 44,
   "id": "italic-headquarters",
   "metadata": {},
   "outputs": [
    {
     "name": "stdout",
     "output_type": "stream",
     "text": [
      "[one tail, alpha 0.01] t_statistic:11.0, critical_region:t > 2.492\n",
      "=> null hypothesis rejection [True]\n"
     ]
    }
   ],
   "source": [
    "n, mu = 25, 10\n",
    "std, M = 1, 12.2\n",
    "\n",
    "ttest_1samp_from_stats(n, mu, std, M, alpha=0.01, tail_num=1)"
   ]
  },
  {
   "cell_type": "code",
   "execution_count": 45,
   "id": "neural-energy",
   "metadata": {},
   "outputs": [
    {
     "data": {
      "text/plain": [
       "(2.2, 0.8344827586206897)"
      ]
     },
     "execution_count": 45,
     "metadata": {},
     "output_type": "execute_result"
    }
   ],
   "source": [
    "cohens_d = calculate_cohens_d(mu, std, M)\n",
    "\n",
    "r_squared = calculate_r_squared(n, mu, std, M)\n",
    "\n",
    "cohens_d, r_squared"
   ]
  },
  {
   "cell_type": "code",
   "execution_count": null,
   "id": "located-foundation",
   "metadata": {},
   "outputs": [],
   "source": []
  },
  {
   "cell_type": "code",
   "execution_count": null,
   "id": "sustainable-assumption",
   "metadata": {},
   "outputs": [],
   "source": []
  },
  {
   "cell_type": "code",
   "execution_count": null,
   "id": "controlling-religious",
   "metadata": {},
   "outputs": [],
   "source": []
  },
  {
   "cell_type": "markdown",
   "id": "patent-plane",
   "metadata": {},
   "source": [
    "### X. 샘플 수(n), 표준편차(std)와 결정계수(r squared)의 관계"
   ]
  },
  {
   "cell_type": "markdown",
   "id": "missing-blocking",
   "metadata": {},
   "source": [
    "---\n",
    "![''](./09_src/09_18_01.png)"
   ]
  },
  {
   "cell_type": "code",
   "execution_count": 46,
   "id": "round-jurisdiction",
   "metadata": {},
   "outputs": [],
   "source": [
    "n, mu = 16, 45\n",
    "std, M = 8, 49.2"
   ]
  },
  {
   "cell_type": "code",
   "execution_count": 47,
   "id": "prime-lottery",
   "metadata": {},
   "outputs": [
    {
     "data": {
      "text/plain": [
       "(0.53, 0.22720247295208656)"
      ]
     },
     "execution_count": 47,
     "metadata": {},
     "output_type": "execute_result"
    }
   ],
   "source": [
    "cohens_d = calculate_cohens_d(mu, std, M)\n",
    "\n",
    "r_squared = calculate_r_squared(n, mu, std, M)\n",
    "\n",
    "cohens_d, r_squared"
   ]
  },
  {
   "cell_type": "code",
   "execution_count": null,
   "id": "planned-factory",
   "metadata": {},
   "outputs": [],
   "source": []
  },
  {
   "cell_type": "code",
   "execution_count": 48,
   "id": "optimum-listing",
   "metadata": {},
   "outputs": [],
   "source": [
    "n, mu = 16, 45\n",
    "std, M = 20, 49.2"
   ]
  },
  {
   "cell_type": "code",
   "execution_count": 49,
   "id": "joined-mambo",
   "metadata": {},
   "outputs": [
    {
     "data": {
      "text/plain": [
       "(0.21, 0.04492665036674816)"
      ]
     },
     "execution_count": 49,
     "metadata": {},
     "output_type": "execute_result"
    }
   ],
   "source": [
    "cohens_d = calculate_cohens_d(mu, std, M)\n",
    "\n",
    "r_squared = calculate_r_squared(n, mu, std, M)\n",
    "\n",
    "cohens_d, r_squared"
   ]
  },
  {
   "cell_type": "code",
   "execution_count": null,
   "id": "criminal-monte",
   "metadata": {},
   "outputs": [],
   "source": []
  },
  {
   "cell_type": "markdown",
   "id": "green-serbia",
   "metadata": {},
   "source": [
    "---\n",
    "![''](./09_src/09_19_01.png)"
   ]
  },
  {
   "cell_type": "code",
   "execution_count": 50,
   "id": "automatic-bristol",
   "metadata": {},
   "outputs": [],
   "source": [
    "n, mu = 9, 45\n",
    "std, M = 12, 49"
   ]
  },
  {
   "cell_type": "code",
   "execution_count": 51,
   "id": "confident-duration",
   "metadata": {},
   "outputs": [
    {
     "data": {
      "text/plain": [
       "(0.33, 0.1111111111111111)"
      ]
     },
     "execution_count": 51,
     "metadata": {},
     "output_type": "execute_result"
    }
   ],
   "source": [
    "cohens_d = calculate_cohens_d(mu, std, M)\n",
    "\n",
    "r_squared = calculate_r_squared(n, mu, std, M)\n",
    "\n",
    "cohens_d, r_squared"
   ]
  },
  {
   "cell_type": "code",
   "execution_count": null,
   "id": "complicated-trauma",
   "metadata": {},
   "outputs": [],
   "source": []
  },
  {
   "cell_type": "code",
   "execution_count": 52,
   "id": "shared-recall",
   "metadata": {},
   "outputs": [],
   "source": [
    "n, mu = 16, 45\n",
    "std, M = 12, 49"
   ]
  },
  {
   "cell_type": "code",
   "execution_count": 53,
   "id": "deluxe-flush",
   "metadata": {},
   "outputs": [
    {
     "data": {
      "text/plain": [
       "(0.33, 0.10548694309107934)"
      ]
     },
     "execution_count": 53,
     "metadata": {},
     "output_type": "execute_result"
    }
   ],
   "source": [
    "cohens_d = calculate_cohens_d(mu, std, M)\n",
    "\n",
    "r_squared = calculate_r_squared(n, mu, std, M)\n",
    "\n",
    "cohens_d, r_squared"
   ]
  },
  {
   "cell_type": "code",
   "execution_count": null,
   "id": "quality-dayton",
   "metadata": {},
   "outputs": [],
   "source": []
  },
  {
   "cell_type": "code",
   "execution_count": null,
   "id": "tropical-running",
   "metadata": {},
   "outputs": [],
   "source": []
  },
  {
   "cell_type": "markdown",
   "id": "religious-guidance",
   "metadata": {},
   "source": [
    "### 5. raw datapoint 기반 문제풀이"
   ]
  },
  {
   "cell_type": "markdown",
   "id": "nominated-tuition",
   "metadata": {},
   "source": [
    "---\n",
    "![''](./09_src/09_22_01.png)\n",
    "\n",
    "![''](./09_src/09_22_02.png)"
   ]
  },
  {
   "cell_type": "markdown",
   "id": "coupled-prompt",
   "metadata": {},
   "source": [
    "#### a. using statistic"
   ]
  },
  {
   "cell_type": "code",
   "execution_count": 54,
   "id": "tight-corrections",
   "metadata": {},
   "outputs": [],
   "source": [
    "raw_dataset = [38, 37, 41, 35, 42, 40, 33, 33, 36, 38, 32, 39]"
   ]
  },
  {
   "cell_type": "code",
   "execution_count": 64,
   "id": "higher-grammar",
   "metadata": {},
   "outputs": [
    {
     "data": {
      "text/plain": [
       "(3.2752515517548764, 37.0)"
      ]
     },
     "execution_count": 64,
     "metadata": {},
     "output_type": "execute_result"
    }
   ],
   "source": [
    "n, mu = 12, 40\n",
    "ss = np.sum([r**2 for r in raw_dataset]) - (np.sum(raw_dataset)**2 / n)\n",
    "std = np.sqrt(ss / (n - 1))\n",
    "M = np.mean(raw_dataset)\n",
    "\n",
    "n, mu, std, M"
   ]
  },
  {
   "cell_type": "code",
   "execution_count": 65,
   "id": "activated-geography",
   "metadata": {},
   "outputs": [
    {
     "name": "stdout",
     "output_type": "stream",
     "text": [
      "[two tail, alpha 0.05] t_statistic:-3.17, critical_region:t > 2.201 or t < -2.201\n",
      "=> null hypothesis rejection [True]\n"
     ]
    }
   ],
   "source": [
    "ttest_1samp_from_stats(n, mu, std, M, alpha=0.05, tail_num=2)"
   ]
  },
  {
   "cell_type": "code",
   "execution_count": null,
   "id": "historic-sunday",
   "metadata": {},
   "outputs": [],
   "source": []
  },
  {
   "cell_type": "markdown",
   "id": "composite-budapest",
   "metadata": {},
   "source": [
    "#### b. using raw datapoints"
   ]
  },
  {
   "cell_type": "code",
   "execution_count": 68,
   "id": "collaborative-radical",
   "metadata": {},
   "outputs": [
    {
     "data": {
      "text/plain": [
       "Ttest_1sampResult(statistic=array([-3.17297914]), pvalue=array([0.00887141]))"
      ]
     },
     "execution_count": 68,
     "metadata": {},
     "output_type": "execute_result"
    }
   ],
   "source": [
    "stats.ttest_1samp(raw_dataset, [mu])"
   ]
  },
  {
   "cell_type": "code",
   "execution_count": 69,
   "id": "existing-warner",
   "metadata": {},
   "outputs": [
    {
     "data": {
      "text/plain": [
       "0.92"
      ]
     },
     "execution_count": 69,
     "metadata": {},
     "output_type": "execute_result"
    }
   ],
   "source": [
    "calculate_cohens_d(mu, std, M)"
   ]
  },
  {
   "cell_type": "code",
   "execution_count": null,
   "id": "hungry-skating",
   "metadata": {},
   "outputs": [],
   "source": []
  },
  {
   "cell_type": "markdown",
   "id": "touched-dietary",
   "metadata": {},
   "source": [
    "---\n",
    "![''](./09_src/09_23_01.png)\n",
    "\n",
    "![''](./09_src/09_23_02.png)"
   ]
  },
  {
   "cell_type": "code",
   "execution_count": null,
   "id": "occupational-draft",
   "metadata": {},
   "outputs": [],
   "source": []
  },
  {
   "cell_type": "markdown",
   "id": "hairy-tanzania",
   "metadata": {},
   "source": [
    "#### a. using statistic"
   ]
  },
  {
   "cell_type": "code",
   "execution_count": 70,
   "id": "freelance-belize",
   "metadata": {},
   "outputs": [],
   "source": [
    "raw_dataset = [53, 57, 61, 49, 52, 56, 58, 62, 51, 56]"
   ]
  },
  {
   "cell_type": "code",
   "execution_count": 72,
   "id": "composed-canal",
   "metadata": {},
   "outputs": [
    {
     "data": {
      "text/plain": [
       "(4.249182927993988, 55.5)"
      ]
     },
     "execution_count": 72,
     "metadata": {},
     "output_type": "execute_result"
    }
   ],
   "source": [
    "n, mu = 10, 50\n",
    "ss = np.sum([r**2 for r in raw_dataset]) - (np.sum(raw_dataset)**2 / n)\n",
    "std = np.sqrt(ss / (n - 1))\n",
    "M = np.mean(raw_dataset)\n",
    "\n",
    "n, mu, std, M"
   ]
  },
  {
   "cell_type": "code",
   "execution_count": 73,
   "id": "another-virginia",
   "metadata": {},
   "outputs": [
    {
     "name": "stdout",
     "output_type": "stream",
     "text": [
      "[two tail, alpha 0.05] t_statistic:4.09, critical_region:t > 2.262 or t < -2.262\n",
      "=> null hypothesis rejection [True]\n"
     ]
    }
   ],
   "source": [
    "ttest_1samp_from_stats(n, mu, std, M, alpha=0.05, tail_num=2)"
   ]
  },
  {
   "cell_type": "code",
   "execution_count": null,
   "id": "detailed-metropolitan",
   "metadata": {},
   "outputs": [],
   "source": []
  },
  {
   "cell_type": "markdown",
   "id": "prompt-bankruptcy",
   "metadata": {},
   "source": [
    "#### b. using raw datapoints"
   ]
  },
  {
   "cell_type": "code",
   "execution_count": 74,
   "id": "eleven-springer",
   "metadata": {},
   "outputs": [
    {
     "data": {
      "text/plain": [
       "Ttest_1sampResult(statistic=array([4.09314624]), pvalue=array([0.00270428]))"
      ]
     },
     "execution_count": 74,
     "metadata": {},
     "output_type": "execute_result"
    }
   ],
   "source": [
    "stats.ttest_1samp(raw_dataset, [mu])"
   ]
  },
  {
   "cell_type": "code",
   "execution_count": 75,
   "id": "smoking-idaho",
   "metadata": {},
   "outputs": [
    {
     "data": {
      "text/plain": [
       "1.29"
      ]
     },
     "execution_count": 75,
     "metadata": {},
     "output_type": "execute_result"
    }
   ],
   "source": [
    "calculate_cohens_d(mu, std, M)"
   ]
  },
  {
   "cell_type": "code",
   "execution_count": null,
   "id": "objective-satisfaction",
   "metadata": {},
   "outputs": [],
   "source": []
  },
  {
   "cell_type": "code",
   "execution_count": null,
   "id": "modified-librarian",
   "metadata": {},
   "outputs": [],
   "source": []
  },
  {
   "cell_type": "code",
   "execution_count": null,
   "id": "thousand-fantasy",
   "metadata": {},
   "outputs": [],
   "source": []
  }
 ],
 "metadata": {
  "kernelspec": {
   "display_name": "Python 3",
   "language": "python",
   "name": "python3"
  },
  "language_info": {
   "codemirror_mode": {
    "name": "ipython",
    "version": 3
   },
   "file_extension": ".py",
   "mimetype": "text/x-python",
   "name": "python",
   "nbconvert_exporter": "python",
   "pygments_lexer": "ipython3",
   "version": "3.9.1"
  }
 },
 "nbformat": 4,
 "nbformat_minor": 5
}
