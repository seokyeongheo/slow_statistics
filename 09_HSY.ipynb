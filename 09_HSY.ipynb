{
 "cells": [
  {
   "cell_type": "code",
   "execution_count": 1,
   "id": "educated-membrane",
   "metadata": {},
   "outputs": [],
   "source": [
    "import numpy as np\n",
    "import pandas as pd\n",
    "from scipy import stats"
   ]
  },
  {
   "cell_type": "code",
   "execution_count": 132,
   "id": "accessible-lunch",
   "metadata": {},
   "outputs": [],
   "source": [
    "def calculate_zscore(n, mu, std, M, alpha=0.05, tail_num=2):\n",
    "    se = std / np.sqrt(n)\n",
    "    return round((M - mu) / se, 2)\n",
    "\n",
    "def calculate_norm_portion(alpha, tail_num):\n",
    "    return round(stats.norm.ppf(1 - alpha/tail_num), 3)\n",
    "\n",
    "def hypothesis_tester_basic(n, mu, std, M, alpha=0.05, tail_num=2):\n",
    "    \n",
    "    z, cr = calculate_zscore(n, mu, std, M), calculate_norm_portion(alpha, tail_num)\n",
    "    \n",
    "    if tail_num == 2:\n",
    "        \n",
    "        rejection_decision = (z > cr) | (z < -1 * cr)\n",
    "        region = f'z > {cr} or z < -{cr}'\n",
    "        criteria = f'two tail, alpha {alpha}'\n",
    "        \n",
    "    elif tail_num == 1:\n",
    "        \n",
    "        if z > 0:\n",
    "        \n",
    "            rejection_decision = (z > cr)\n",
    "            region = f'z > {cr}'\n",
    "            \n",
    "        else:\n",
    "            \n",
    "            rejection_decision = (z < -1 * cr)\n",
    "            region = f'z < -{cr}'\n",
    "        \n",
    "        criteria = f'one tail, alpha {alpha}'\n",
    "        \n",
    "    else:\n",
    "        print('Should use tail_num 1 or 2.')\n",
    "        return None\n",
    "            \n",
    "    print(f'[{criteria}] z_statistic:{z}, critical_region:{region}\\n=> null hypothesis rejection [{rejection_decision}]')\n",
    "    \n",
    "def calculate_cohens_d(mu, std, M):\n",
    "    return round(abs((M - mu) / std), 2)\n",
    "\n",
    "def calculate_stat_power(n, mu, std, M):\n",
    "    se = std / np.sqrt(n)\n",
    "    z = ((mu + 1.96 * se) - M) / se\n",
    "    return round(1 - stats.norm.cdf(z), 4)"
   ]
  },
  {
   "cell_type": "code",
   "execution_count": null,
   "id": "consistent-protest",
   "metadata": {},
   "outputs": [],
   "source": []
  },
  {
   "cell_type": "markdown",
   "id": "similar-celebrity",
   "metadata": {},
   "source": [
    "# 유형\n",
    "1. t test - 가설검정 단계에 따라, Treatment 효과(M - mu) 통계적 유의성(significance)를 판단\n",
    "2. 표준편차(sigma), 샘플 개수(n)에 따른 귀무가설(null hypothesis) 기각의 관계\n",
    "3. 단측(one-sided test) / 양측(two-sided test), 유의수준(alpha)에 따른 결과 차이\n",
    "4. 신뢰구간(confidence interval) 구하는 법\n",
    "5. 결정계수(r sqaured) 구하는 법\n",
    "6. 샘플 수(n)과 결정계수(r squared)의 관계\n",
    "7. raw datapoint 기반 문제풀이 "
   ]
  },
  {
   "cell_type": "code",
   "execution_count": null,
   "id": "authorized-negotiation",
   "metadata": {},
   "outputs": [],
   "source": []
  },
  {
   "cell_type": "markdown",
   "id": "republican-bumper",
   "metadata": {},
   "source": [
    "### t test - 가설검정 단계에 따라, Treatment 효과(M - mu) 통계적 유의성(significance)를 판단"
   ]
  },
  {
   "cell_type": "markdown",
   "id": "southern-microwave",
   "metadata": {},
   "source": [
    "---\n",
    "![''](./09_src/09_09_01.png)"
   ]
  },
  {
   "cell_type": "code",
   "execution_count": 53,
   "id": "whole-cycle",
   "metadata": {},
   "outputs": [
    {
     "name": "stdout",
     "output_type": "stream",
     "text": [
      "[two tail, alpha 0.05] z_statistic:1.33, critical_region:-1.96 < z < 1.96\n",
      "=> null hypothesis rejection [False]\n"
     ]
    }
   ],
   "source": [
    "n, mu, std, M = 16, 50, 12, 54\n",
    "\n",
    "hypothesis_tester_basic(n, mu, std, M)"
   ]
  },
  {
   "cell_type": "code",
   "execution_count": null,
   "id": "successful-links",
   "metadata": {},
   "outputs": [],
   "source": []
  },
  {
   "cell_type": "markdown",
   "id": "emotional-south",
   "metadata": {},
   "source": [
    "---\n",
    "![''](./09_src/09_10_01.png)"
   ]
  },
  {
   "cell_type": "code",
   "execution_count": null,
   "id": "fossil-correlation",
   "metadata": {},
   "outputs": [],
   "source": []
  },
  {
   "cell_type": "code",
   "execution_count": null,
   "id": "adequate-development",
   "metadata": {},
   "outputs": [],
   "source": []
  },
  {
   "cell_type": "markdown",
   "id": "explicit-village",
   "metadata": {},
   "source": [
    "### 표준편차(sigma), 샘플 개수(n)에 따른 귀무가설(null hypothesis) 기각의 관계"
   ]
  },
  {
   "cell_type": "markdown",
   "id": "intelligent-forwarding",
   "metadata": {},
   "source": [
    "---\n",
    "![''](./09_src/09_11_01.png)"
   ]
  },
  {
   "cell_type": "code",
   "execution_count": null,
   "id": "lightweight-syria",
   "metadata": {},
   "outputs": [],
   "source": []
  },
  {
   "cell_type": "markdown",
   "id": "comparative-remedy",
   "metadata": {},
   "source": [
    "---\n",
    "![''](./09_src/09_12_01.png)\n",
    "\n",
    "![''](./09_src/09_12_02.png)"
   ]
  },
  {
   "cell_type": "code",
   "execution_count": null,
   "id": "faced-puzzle",
   "metadata": {},
   "outputs": [],
   "source": []
  },
  {
   "cell_type": "markdown",
   "id": "bronze-quarter",
   "metadata": {},
   "source": [
    "### 단측(one-sided test) / 양측(two-sided test), 유의수준(alpha)에 따른 결과 차이"
   ]
  },
  {
   "cell_type": "markdown",
   "id": "fantastic-parker",
   "metadata": {},
   "source": [
    "---\n",
    "![''](./09_src/09_13_01.png)"
   ]
  },
  {
   "cell_type": "markdown",
   "id": "unlike-quantity",
   "metadata": {},
   "source": [
    "---\n",
    "![''](./09_src/09_16_01.png)"
   ]
  },
  {
   "cell_type": "markdown",
   "id": "understood-tutorial",
   "metadata": {},
   "source": [
    "---\n",
    "![''](./09_src/09_21_01.png)"
   ]
  },
  {
   "cell_type": "code",
   "execution_count": null,
   "id": "healthy-fundamental",
   "metadata": {},
   "outputs": [],
   "source": []
  },
  {
   "cell_type": "code",
   "execution_count": null,
   "id": "twelve-sleeve",
   "metadata": {},
   "outputs": [],
   "source": []
  },
  {
   "cell_type": "markdown",
   "id": "reflected-chicken",
   "metadata": {},
   "source": [
    "### 신뢰구간(confidence interval), 결정계수(r sqaured) 구하는 법"
   ]
  },
  {
   "cell_type": "markdown",
   "id": "antique-sound",
   "metadata": {},
   "source": [
    "---\n",
    "![''](./09_src/09_14_01.png)\n",
    "\n",
    "![''](./09_src/09_14_02.png)"
   ]
  },
  {
   "cell_type": "markdown",
   "id": "posted-kitty",
   "metadata": {},
   "source": [
    "---\n",
    "![''](./09_src/09_15_01.png)"
   ]
  },
  {
   "cell_type": "markdown",
   "id": "broad-hughes",
   "metadata": {},
   "source": [
    "---\n",
    "![''](./09_src/09_17_01.png)\n",
    "\n",
    "![''](./09_src/09_17_02.png)"
   ]
  },
  {
   "cell_type": "markdown",
   "id": "valid-daniel",
   "metadata": {},
   "source": [
    "---\n",
    "![''](./09_src/09_20_01.png)\n",
    "\n",
    "![''](./09_src/09_20_02.png)"
   ]
  },
  {
   "cell_type": "code",
   "execution_count": null,
   "id": "composite-teacher",
   "metadata": {},
   "outputs": [],
   "source": []
  },
  {
   "cell_type": "markdown",
   "id": "derived-czech",
   "metadata": {},
   "source": [
    "### 샘플 수(n)과 결정계수(r squared)의 관계"
   ]
  },
  {
   "cell_type": "markdown",
   "id": "color-chain",
   "metadata": {},
   "source": [
    "---\n",
    "![''](./09_src/09_18_01.png)"
   ]
  },
  {
   "cell_type": "markdown",
   "id": "imposed-absolute",
   "metadata": {},
   "source": [
    "---\n",
    "![''](./09_src/09_19_01.png)"
   ]
  },
  {
   "cell_type": "code",
   "execution_count": null,
   "id": "lucky-panama",
   "metadata": {},
   "outputs": [],
   "source": []
  },
  {
   "cell_type": "markdown",
   "id": "cross-bullet",
   "metadata": {},
   "source": [
    "### raw datapoint 기반 문제풀이"
   ]
  },
  {
   "cell_type": "markdown",
   "id": "forty-gather",
   "metadata": {},
   "source": [
    "---\n",
    "![''](./09_src/09_22_01.png)\n",
    "\n",
    "![''](./09_src/09_22_02.png)"
   ]
  },
  {
   "cell_type": "markdown",
   "id": "alone-ethernet",
   "metadata": {},
   "source": [
    "---\n",
    "![''](./09_src/09_23_01.png)\n",
    "\n",
    "![''](./09_src/09_23_02.png)"
   ]
  },
  {
   "cell_type": "code",
   "execution_count": null,
   "id": "final-turkey",
   "metadata": {},
   "outputs": [],
   "source": []
  },
  {
   "cell_type": "code",
   "execution_count": null,
   "id": "documented-senior",
   "metadata": {},
   "outputs": [],
   "source": []
  },
  {
   "cell_type": "code",
   "execution_count": null,
   "id": "thrown-edition",
   "metadata": {},
   "outputs": [],
   "source": []
  },
  {
   "cell_type": "code",
   "execution_count": null,
   "id": "rubber-dominican",
   "metadata": {},
   "outputs": [],
   "source": []
  },
  {
   "cell_type": "code",
   "execution_count": null,
   "id": "provincial-saudi",
   "metadata": {},
   "outputs": [],
   "source": []
  },
  {
   "cell_type": "code",
   "execution_count": null,
   "id": "becoming-steam",
   "metadata": {},
   "outputs": [],
   "source": []
  }
 ],
 "metadata": {
  "kernelspec": {
   "display_name": "Python 3",
   "language": "python",
   "name": "python3"
  },
  "language_info": {
   "codemirror_mode": {
    "name": "ipython",
    "version": 3
   },
   "file_extension": ".py",
   "mimetype": "text/x-python",
   "name": "python",
   "nbconvert_exporter": "python",
   "pygments_lexer": "ipython3",
   "version": "3.9.1"
  }
 },
 "nbformat": 4,
 "nbformat_minor": 5
}
