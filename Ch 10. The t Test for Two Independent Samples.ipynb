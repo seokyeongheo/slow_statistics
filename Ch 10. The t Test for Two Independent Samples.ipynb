{
 "cells": [
  {
   "cell_type": "code",
   "execution_count": 1,
   "id": "vital-statement",
   "metadata": {},
   "outputs": [],
   "source": [
    "import numpy as np\n",
    "import pandas as pd\n",
    "from scipy import stats\n",
    "\n",
    "import slow_statistic"
   ]
  },
  {
   "cell_type": "code",
   "execution_count": null,
   "id": "compact-custom",
   "metadata": {},
   "outputs": [],
   "source": []
  },
  {
   "cell_type": "markdown",
   "id": "accessible-giant",
   "metadata": {},
   "source": [
    "# 유형\n",
    "1. Pool Variance. 그룹 별 샘플 사이즈와 pool variance의 관계. \n",
    "2. Pool Variance, Estimated standard Error, null hypothesis 기각 여부 결정\n",
    "3. independent-measure t test (using statistic)\n",
    "4. independent-measure t test (using raw dataset)\n",
    "5. sample size, variability가 standard error for the sample mean difference(estimated standard error)에 끼치는 영향"
   ]
  },
  {
   "cell_type": "code",
   "execution_count": null,
   "id": "excessive-british",
   "metadata": {},
   "outputs": [],
   "source": []
  },
  {
   "cell_type": "markdown",
   "id": "reverse-referral",
   "metadata": {},
   "source": [
    "# Pool Variance. 그룹 별 샘플 사이즈와 pool variance의 관계. "
   ]
  },
  {
   "cell_type": "markdown",
   "id": "instructional-example",
   "metadata": {},
   "source": [
    "---\n",
    "![''](./10_src/10_03_01.png)"
   ]
  },
  {
   "cell_type": "code",
   "execution_count": 3,
   "id": "accredited-mayor",
   "metadata": {},
   "outputs": [],
   "source": [
    "SS1, SS2 = 36, 18"
   ]
  },
  {
   "cell_type": "code",
   "execution_count": 4,
   "id": "committed-december",
   "metadata": {},
   "outputs": [
    {
     "data": {
      "text/plain": [
       "9.0"
      ]
     },
     "execution_count": 4,
     "metadata": {},
     "output_type": "execute_result"
    }
   ],
   "source": [
    "# a. \n",
    "n1, n2 = 4, 4\n",
    "pool_var = (SS1 + SS2) / (n1 - 1 + n2 - 1)\n",
    "pool_var"
   ]
  },
  {
   "cell_type": "code",
   "execution_count": 5,
   "id": "therapeutic-equivalent",
   "metadata": {},
   "outputs": [
    {
     "data": {
      "text/plain": [
       "6.0"
      ]
     },
     "execution_count": 5,
     "metadata": {},
     "output_type": "execute_result"
    }
   ],
   "source": [
    "# b. \n",
    "n1, n2 = 4, 7\n",
    "pool_var = (SS1 + SS2) / (n1 - 1 + n2 - 1)\n",
    "pool_var"
   ]
  },
  {
   "cell_type": "code",
   "execution_count": null,
   "id": "ordered-process",
   "metadata": {},
   "outputs": [],
   "source": []
  },
  {
   "cell_type": "markdown",
   "id": "sticky-suggestion",
   "metadata": {},
   "source": [
    "---\n",
    "![''](./10_src/10_04_01.png)\n",
    "\n",
    "![''](./10_src/10_04_02.png)"
   ]
  },
  {
   "cell_type": "code",
   "execution_count": 6,
   "id": "dying-integral",
   "metadata": {},
   "outputs": [],
   "source": [
    "SS1, SS2 = 60, 48"
   ]
  },
  {
   "cell_type": "code",
   "execution_count": 7,
   "id": "atlantic-athens",
   "metadata": {},
   "outputs": [
    {
     "data": {
      "text/plain": [
       "9.0"
      ]
     },
     "execution_count": 7,
     "metadata": {},
     "output_type": "execute_result"
    }
   ],
   "source": [
    "# a. \n",
    "n1, n2 = 7, 7\n",
    "pool_var = (SS1 + SS2) / (n1 - 1 + n2 - 1)\n",
    "pool_var"
   ]
  },
  {
   "cell_type": "code",
   "execution_count": 8,
   "id": "assigned-diesel",
   "metadata": {},
   "outputs": [
    {
     "data": {
      "text/plain": [
       "10.8"
      ]
     },
     "execution_count": 8,
     "metadata": {},
     "output_type": "execute_result"
    }
   ],
   "source": [
    "# a. \n",
    "n1, n2 = 7, 5\n",
    "pool_var = (SS1 + SS2) / (n1 - 1 + n2 - 1)\n",
    "pool_var"
   ]
  },
  {
   "cell_type": "code",
   "execution_count": null,
   "id": "surgical-serbia",
   "metadata": {},
   "outputs": [],
   "source": []
  },
  {
   "cell_type": "markdown",
   "id": "reserved-klein",
   "metadata": {},
   "source": [
    "# Pool Variance, Estimated standard Error, null hypothesis 기각 여부 결정"
   ]
  },
  {
   "cell_type": "markdown",
   "id": "bronze-awareness",
   "metadata": {},
   "source": [
    "---\n",
    "![''](./10_src/10_05_01.png)"
   ]
  },
  {
   "cell_type": "code",
   "execution_count": 3,
   "id": "settled-leeds",
   "metadata": {},
   "outputs": [],
   "source": [
    "SS1, SS2 = 1740, 1620\n",
    "n1, n2 = 15, 15"
   ]
  },
  {
   "cell_type": "code",
   "execution_count": 4,
   "id": "surface-complex",
   "metadata": {},
   "outputs": [
    {
     "data": {
      "text/plain": [
       "120.0"
      ]
     },
     "execution_count": 4,
     "metadata": {},
     "output_type": "execute_result"
    }
   ],
   "source": [
    "# a.\n",
    "pool_var = (SS1 + SS2) / (n1 - 1 + n2 - 1)\n",
    "pool_var"
   ]
  },
  {
   "cell_type": "code",
   "execution_count": 5,
   "id": "foster-funeral",
   "metadata": {},
   "outputs": [
    {
     "data": {
      "text/plain": [
       "4.0"
      ]
     },
     "execution_count": 5,
     "metadata": {},
     "output_type": "execute_result"
    }
   ],
   "source": [
    "# b.\n",
    "std_error = np.sqrt((pool_var / n1) + (pool_var / n2))\n",
    "std_error"
   ]
  },
  {
   "cell_type": "code",
   "execution_count": 7,
   "id": "informational-latin",
   "metadata": {},
   "outputs": [
    {
     "name": "stdout",
     "output_type": "stream",
     "text": [
      "[two tail, alpha 0.05] t_statistic:2.0, critical_region:t > 2.048 or t < -2.048\n",
      "=> null hypothesis rejection [False]\n"
     ]
    }
   ],
   "source": [
    "# c. \n",
    "slow_stat = slow_statistic.Stats()\n",
    "\n",
    "M1, M2 = 10, 2\n",
    "\n",
    "slow_stat.ttest_ind_from_stats(M1, M2, SS1, SS2, n1, n2)"
   ]
  },
  {
   "cell_type": "code",
   "execution_count": null,
   "id": "greater-uruguay",
   "metadata": {},
   "outputs": [],
   "source": []
  },
  {
   "cell_type": "markdown",
   "id": "suffering-pressure",
   "metadata": {},
   "source": [
    "---\n",
    "![''](./10_src/10_06_01.png)"
   ]
  },
  {
   "cell_type": "code",
   "execution_count": 8,
   "id": "proprietary-partnership",
   "metadata": {},
   "outputs": [],
   "source": [
    "SS1, SS2 = 462, 420\n",
    "n1, n2 = 9, 7"
   ]
  },
  {
   "cell_type": "code",
   "execution_count": 9,
   "id": "quiet-exemption",
   "metadata": {},
   "outputs": [
    {
     "data": {
      "text/plain": [
       "63.0"
      ]
     },
     "execution_count": 9,
     "metadata": {},
     "output_type": "execute_result"
    }
   ],
   "source": [
    "# a.\n",
    "pool_var = (SS1 + SS2) / (n1 - 1 + n2 - 1)\n",
    "pool_var"
   ]
  },
  {
   "cell_type": "code",
   "execution_count": 10,
   "id": "prostate-anchor",
   "metadata": {},
   "outputs": [
    {
     "data": {
      "text/plain": [
       "4.0"
      ]
     },
     "execution_count": 10,
     "metadata": {},
     "output_type": "execute_result"
    }
   ],
   "source": [
    "# b.\n",
    "std_error = np.sqrt((pool_var / n1) + (pool_var / n2))\n",
    "std_error"
   ]
  },
  {
   "cell_type": "code",
   "execution_count": 11,
   "id": "young-southeast",
   "metadata": {},
   "outputs": [
    {
     "name": "stdout",
     "output_type": "stream",
     "text": [
      "[two tail, alpha 0.05] t_statistic:2.5, critical_region:t > 2.145 or t < -2.145\n",
      "=> null hypothesis rejection [True]\n"
     ]
    }
   ],
   "source": [
    "# c. \n",
    "slow_stat = slow_statistic.Stats()\n",
    "\n",
    "M1, M2 = 20, 10\n",
    "\n",
    "slow_stat.ttest_ind_from_stats(M1, M2, SS1, SS2, n1, n2)"
   ]
  },
  {
   "cell_type": "code",
   "execution_count": null,
   "id": "prostate-breathing",
   "metadata": {},
   "outputs": [],
   "source": []
  },
  {
   "cell_type": "markdown",
   "id": "alive-assumption",
   "metadata": {},
   "source": [
    "# independent-measure t test (using statistic)\n",
    "- change alpah level\n",
    "- calculate cohens_d\n",
    "- calculate r_squared\n",
    "- calculate confidence_interval"
   ]
  },
  {
   "cell_type": "markdown",
   "id": "confirmed-while",
   "metadata": {},
   "source": [
    "---\n",
    "![''](./10_src/10_07_01.png)"
   ]
  },
  {
   "cell_type": "code",
   "execution_count": 12,
   "id": "outstanding-lecture",
   "metadata": {},
   "outputs": [
    {
     "name": "stdout",
     "output_type": "stream",
     "text": [
      "[two tail, alpha 0.05] t_statistic:4.0, critical_region:t > 2.101 or t < -2.101\n",
      "=> null hypothesis rejection [True]\n"
     ]
    }
   ],
   "source": [
    "slow_stat = slow_statistic.Stats()\n",
    "\n",
    "SS1, SS2 = 200, 160\n",
    "n1, n2 = 10, 10\n",
    "M1, M2 = 93, 85\n",
    "\n",
    "slow_stat.ttest_ind_from_stats(M1, M2, SS1, SS2, n1, n2)"
   ]
  },
  {
   "cell_type": "code",
   "execution_count": null,
   "id": "threatened-placement",
   "metadata": {},
   "outputs": [],
   "source": []
  },
  {
   "cell_type": "markdown",
   "id": "allied-spank",
   "metadata": {},
   "source": [
    "---\n",
    "![''](./10_src/10_08_01.png)\n",
    "\n",
    "![''](./10_src/10_08_02.png)"
   ]
  },
  {
   "cell_type": "code",
   "execution_count": 3,
   "id": "intensive-copying",
   "metadata": {},
   "outputs": [
    {
     "name": "stdout",
     "output_type": "stream",
     "text": [
      "[two tail, alpha 0.01] t_statistic:-3.920984270187631, critical_region:t > 2.738 or t < -2.738\n",
      "=> null hypothesis rejection [True]\n"
     ]
    }
   ],
   "source": [
    "slow_stat = slow_statistic.Stats()\n",
    "\n",
    "SS1, SS2 = 398, 370\n",
    "n1, n2 = 18, 16\n",
    "M1, M2 = 42, 48.6\n",
    "slow_stat.alpha = 0.01\n",
    "\n",
    "slow_stat.ttest_ind_from_stats(M1, M2, SS1, SS2, n1, n2)"
   ]
  },
  {
   "cell_type": "code",
   "execution_count": 5,
   "id": "polyphonic-psychology",
   "metadata": {},
   "outputs": [
    {
     "data": {
      "text/plain": [
       "-1.347"
      ]
     },
     "execution_count": 5,
     "metadata": {},
     "output_type": "execute_result"
    }
   ],
   "source": [
    "slow_stat.cohens_d_ind_from_stats(M1, M2, SS1, SS2, n1, n2)"
   ]
  },
  {
   "cell_type": "code",
   "execution_count": null,
   "id": "medieval-inventory",
   "metadata": {},
   "outputs": [],
   "source": []
  },
  {
   "cell_type": "markdown",
   "id": "interior-gabriel",
   "metadata": {},
   "source": [
    "---\n",
    "![''](./10_src/10_09_01.png)"
   ]
  },
  {
   "cell_type": "code",
   "execution_count": 6,
   "id": "unable-calcium",
   "metadata": {},
   "outputs": [
    {
     "name": "stdout",
     "output_type": "stream",
     "text": [
      "[two tail, alpha 0.05] t_statistic:1.124289477102992, critical_region:t > 1.972 or t < -1.972\n",
      "=> null hypothesis rejection [False]\n"
     ]
    }
   ],
   "source": [
    "slow_stat = slow_statistic.Stats()\n",
    "\n",
    "s1, s2 = 85, 91\n",
    "n1, n2 = 100, 100\n",
    "SS1, SS2 = s1**2 * (n1 - 1), s2**2 * (n2 - 1)\n",
    "M1, M2 = 786, 772\n",
    "\n",
    "slow_stat.ttest_ind_from_stats(M1, M2, SS1, SS2, n1, n2)"
   ]
  },
  {
   "cell_type": "code",
   "execution_count": null,
   "id": "elder-generator",
   "metadata": {},
   "outputs": [],
   "source": []
  },
  {
   "cell_type": "code",
   "execution_count": 7,
   "id": "chinese-mathematics",
   "metadata": {},
   "outputs": [
    {
     "data": {
      "text/plain": [
       "0.0063"
      ]
     },
     "execution_count": 7,
     "metadata": {},
     "output_type": "execute_result"
    }
   ],
   "source": [
    "slow_stat.r_squared_ind_from_stat(M1, M2, SS1, SS2, n1, n2)"
   ]
  },
  {
   "cell_type": "code",
   "execution_count": null,
   "id": "developing-wrist",
   "metadata": {},
   "outputs": [],
   "source": []
  },
  {
   "cell_type": "markdown",
   "id": "fifty-original",
   "metadata": {},
   "source": [
    "---\n",
    "![''](./10_src/10_10_01.png)\n",
    "\n",
    "![''](./10_src/10_10_02.png)"
   ]
  },
  {
   "cell_type": "code",
   "execution_count": 8,
   "id": "casual-execution",
   "metadata": {},
   "outputs": [
    {
     "name": "stdout",
     "output_type": "stream",
     "text": [
      "[two tail, alpha 0.05] t_statistic:3.2417728034350124, critical_region:t > 2.048 or t < -2.048\n",
      "=> null hypothesis rejection [True]\n"
     ]
    }
   ],
   "source": [
    "slow_stat = slow_statistic.Stats()\n",
    "\n",
    "n1, n2 = 15, 15\n",
    "M1, M2 = 40.8, 34\n",
    "SS1, SS2 = 510, 414\n",
    "\n",
    "slow_stat.ttest_ind_from_stats(M1, M2, SS1, SS2, n1, n2)"
   ]
  },
  {
   "cell_type": "code",
   "execution_count": 9,
   "id": "electric-crystal",
   "metadata": {},
   "outputs": [
    {
     "data": {
      "text/plain": [
       "1.184"
      ]
     },
     "execution_count": 9,
     "metadata": {},
     "output_type": "execute_result"
    }
   ],
   "source": [
    "slow_stat.cohens_d_ind_from_stats(M1, M2, SS1, SS2, n1, n2)"
   ]
  },
  {
   "cell_type": "code",
   "execution_count": null,
   "id": "fixed-healing",
   "metadata": {},
   "outputs": [],
   "source": []
  },
  {
   "cell_type": "markdown",
   "id": "focal-letters",
   "metadata": {},
   "source": [
    "---\n",
    "![''](./10_src/10_11_01.png)"
   ]
  },
  {
   "cell_type": "code",
   "execution_count": 11,
   "id": "unexpected-substitute",
   "metadata": {},
   "outputs": [
    {
     "name": "stdout",
     "output_type": "stream",
     "text": [
      "[one tail, alpha 0.05] t_statistic:1.7533333333333332, critical_region:t > 1.675\n",
      "=> null hypothesis rejection [True]\n"
     ]
    }
   ],
   "source": [
    "slow_stat = slow_statistic.Stats()\n",
    "\n",
    "n1, n2 = 27, 27\n",
    "M1, M2 = 7.41, 4.78\n",
    "SS1, SS2 = 749.5, 830\n",
    "slow_stat.tail_num = 1\n",
    "\n",
    "slow_stat.ttest_ind_from_stats(M1, M2, SS1, SS2, n1, n2)"
   ]
  },
  {
   "cell_type": "code",
   "execution_count": 12,
   "id": "acceptable-prevention",
   "metadata": {},
   "outputs": [
    {
     "data": {
      "text/plain": [
       "0.477"
      ]
     },
     "execution_count": 12,
     "metadata": {},
     "output_type": "execute_result"
    }
   ],
   "source": [
    "slow_stat.cohens_d_ind_from_stats(M1, M2, SS1, SS2, n1, n2)"
   ]
  },
  {
   "cell_type": "code",
   "execution_count": null,
   "id": "arbitrary-technology",
   "metadata": {},
   "outputs": [],
   "source": []
  },
  {
   "cell_type": "markdown",
   "id": "facial-richmond",
   "metadata": {},
   "source": [
    "---\n",
    "![''](./10_src/10_15_01.png)"
   ]
  },
  {
   "cell_type": "code",
   "execution_count": 2,
   "id": "posted-valve",
   "metadata": {},
   "outputs": [
    {
     "name": "stdout",
     "output_type": "stream",
     "text": [
      "[two tail, alpha 0.05] t_statistic:2.17, critical_region:t > 2.145 or t < -2.145\n",
      "=> null hypothesis rejection [True]\n"
     ]
    }
   ],
   "source": [
    "slow_stat = slow_statistic.Stats()\n",
    "\n",
    "n1, n2 = 8, 8\n",
    "M1, M2 = 10.5, 6.16\n",
    "SS1, SS2 = 108, 116\n",
    "\n",
    "slow_stat.ttest_ind_from_stats(M1, M2, SS1, SS2, n1, n2)"
   ]
  },
  {
   "cell_type": "code",
   "execution_count": null,
   "id": "lightweight-proceeding",
   "metadata": {},
   "outputs": [],
   "source": []
  },
  {
   "cell_type": "code",
   "execution_count": 5,
   "id": "bearing-population",
   "metadata": {},
   "outputs": [
    {
     "name": "stdout",
     "output_type": "stream",
     "text": [
      "[confidence interval] 0.818 ~ 7.862\n"
     ]
    }
   ],
   "source": [
    "slow_stat.alpha = 0.1\n",
    "slow_stat.confidence_interval_ind_from_stats(M1, M2, SS1, SS2, n1, n2)"
   ]
  },
  {
   "cell_type": "code",
   "execution_count": null,
   "id": "cosmetic-winner",
   "metadata": {},
   "outputs": [],
   "source": []
  },
  {
   "cell_type": "markdown",
   "id": "fancy-accused",
   "metadata": {},
   "source": [
    "---\n",
    "![''](./10_src/10_17_01.png)"
   ]
  },
  {
   "cell_type": "code",
   "execution_count": 6,
   "id": "constitutional-relay",
   "metadata": {},
   "outputs": [
    {
     "name": "stdout",
     "output_type": "stream",
     "text": [
      "[two tail, alpha 0.05] t_statistic:2.250000000000001, critical_region:t > 2.074 or t < -2.074\n",
      "=> null hypothesis rejection [True]\n"
     ]
    }
   ],
   "source": [
    "slow_stat = slow_statistic.Stats()\n",
    "\n",
    "n1, n2 = 12, 12\n",
    "M1, M2 = 5.2, 4.3\n",
    "SS1, SS2 = 11.91, 9.21\n",
    "\n",
    "slow_stat.ttest_ind_from_stats(M1, M2, SS1, SS2, n1, n2)"
   ]
  },
  {
   "cell_type": "code",
   "execution_count": null,
   "id": "stupid-halifax",
   "metadata": {},
   "outputs": [],
   "source": []
  },
  {
   "cell_type": "code",
   "execution_count": 7,
   "id": "laughing-beast",
   "metadata": {},
   "outputs": [
    {
     "name": "stdout",
     "output_type": "stream",
     "text": [
      "[confidence interval] 0.3716 ~ 1.4284\n"
     ]
    }
   ],
   "source": [
    "slow_stat.alpha = 0.2\n",
    "slow_stat.confidence_interval_ind_from_stats(M1, M2, SS1, SS2, n1, n2)"
   ]
  },
  {
   "cell_type": "code",
   "execution_count": null,
   "id": "mighty-croatia",
   "metadata": {},
   "outputs": [],
   "source": []
  },
  {
   "cell_type": "markdown",
   "id": "quarterly-yukon",
   "metadata": {},
   "source": [
    "# independent-measure t test (using raw dataset)"
   ]
  },
  {
   "cell_type": "markdown",
   "id": "bored-cabinet",
   "metadata": {},
   "source": [
    "---\n",
    "![''](./10_src/10_12_01.png)\n",
    "\n",
    "![''](./10_src/10_12_02.png)"
   ]
  },
  {
   "cell_type": "code",
   "execution_count": 8,
   "id": "environmental-funeral",
   "metadata": {},
   "outputs": [
    {
     "data": {
      "text/html": [
       "<div>\n",
       "<style scoped>\n",
       "    .dataframe tbody tr th:only-of-type {\n",
       "        vertical-align: middle;\n",
       "    }\n",
       "\n",
       "    .dataframe tbody tr th {\n",
       "        vertical-align: top;\n",
       "    }\n",
       "\n",
       "    .dataframe thead th {\n",
       "        text-align: right;\n",
       "    }\n",
       "</style>\n",
       "<table border=\"1\" class=\"dataframe\">\n",
       "  <thead>\n",
       "    <tr style=\"text-align: right;\">\n",
       "      <th></th>\n",
       "      <th>A</th>\n",
       "      <th>B</th>\n",
       "    </tr>\n",
       "  </thead>\n",
       "  <tbody>\n",
       "    <tr>\n",
       "      <th>0</th>\n",
       "      <td>24</td>\n",
       "      <td>26</td>\n",
       "    </tr>\n",
       "    <tr>\n",
       "      <th>1</th>\n",
       "      <td>25</td>\n",
       "      <td>23</td>\n",
       "    </tr>\n",
       "    <tr>\n",
       "      <th>2</th>\n",
       "      <td>22</td>\n",
       "      <td>20</td>\n",
       "    </tr>\n",
       "    <tr>\n",
       "      <th>3</th>\n",
       "      <td>24</td>\n",
       "      <td>23</td>\n",
       "    </tr>\n",
       "    <tr>\n",
       "      <th>4</th>\n",
       "      <td>26</td>\n",
       "      <td>20</td>\n",
       "    </tr>\n",
       "    <tr>\n",
       "      <th>5</th>\n",
       "      <td>17</td>\n",
       "      <td>16</td>\n",
       "    </tr>\n",
       "    <tr>\n",
       "      <th>6</th>\n",
       "      <td>21</td>\n",
       "      <td>21</td>\n",
       "    </tr>\n",
       "    <tr>\n",
       "      <th>7</th>\n",
       "      <td>22</td>\n",
       "      <td>17</td>\n",
       "    </tr>\n",
       "    <tr>\n",
       "      <th>8</th>\n",
       "      <td>22</td>\n",
       "      <td>18</td>\n",
       "    </tr>\n",
       "    <tr>\n",
       "      <th>9</th>\n",
       "      <td>19</td>\n",
       "      <td>23</td>\n",
       "    </tr>\n",
       "    <tr>\n",
       "      <th>10</th>\n",
       "      <td>24</td>\n",
       "      <td>16</td>\n",
       "    </tr>\n",
       "    <tr>\n",
       "      <th>11</th>\n",
       "      <td>23</td>\n",
       "      <td>20</td>\n",
       "    </tr>\n",
       "    <tr>\n",
       "      <th>12</th>\n",
       "      <td>23</td>\n",
       "      <td>25</td>\n",
       "    </tr>\n",
       "    <tr>\n",
       "      <th>13</th>\n",
       "      <td>28</td>\n",
       "      <td>19</td>\n",
       "    </tr>\n",
       "    <tr>\n",
       "      <th>14</th>\n",
       "      <td>25</td>\n",
       "      <td>17</td>\n",
       "    </tr>\n",
       "    <tr>\n",
       "      <th>15</th>\n",
       "      <td>23</td>\n",
       "      <td>16</td>\n",
       "    </tr>\n",
       "  </tbody>\n",
       "</table>\n",
       "</div>"
      ],
      "text/plain": [
       "     A   B\n",
       "0   24  26\n",
       "1   25  23\n",
       "2   22  20\n",
       "3   24  23\n",
       "4   26  20\n",
       "5   17  16\n",
       "6   21  21\n",
       "7   22  17\n",
       "8   22  18\n",
       "9   19  23\n",
       "10  24  16\n",
       "11  23  20\n",
       "12  23  25\n",
       "13  28  19\n",
       "14  25  17\n",
       "15  23  16"
      ]
     },
     "execution_count": 8,
     "metadata": {},
     "output_type": "execute_result"
    }
   ],
   "source": [
    "exp_df = pd.DataFrame({'A':[24, 25, 22, 24, 26, 17, 21, 22, 22, 19, 24, 23, 23, 28, 25, 23], \n",
    "                       'B':[26, 23, 20, 23, 20, 16, 21, 17, 18, 23, 16, 20, 25, 19, 17, 16]})\n",
    "exp_df"
   ]
  },
  {
   "cell_type": "code",
   "execution_count": 10,
   "id": "variable-reception",
   "metadata": {},
   "outputs": [
    {
     "name": "stdout",
     "output_type": "stream",
     "text": [
      "[two tail, alpha 0.05] t_statistic:2.8603877677367766, critical_region:t > 2.042 or t < -2.042\n",
      "=> null hypothesis rejection [True]\n"
     ]
    }
   ],
   "source": [
    "slow_stat = slow_statistic.Stats()\n",
    "\n",
    "n1, n2 = len(exp_df.A), len(exp_df.A)\n",
    "M1, M2 = exp_df.A.mean(), exp_df.B.mean()\n",
    "SS1, SS2 = np.sum([r**2 for r in exp_df.A]) - (np.sum(exp_df.A)**2 / n1), np.sum([r**2 for r in exp_df.B]) - (np.sum(exp_df.B)**2 / n2)\n",
    "\n",
    "slow_stat.ttest_ind_from_stats(M1, M2, SS1, SS2, n1, n2)"
   ]
  },
  {
   "cell_type": "code",
   "execution_count": 11,
   "id": "charged-determination",
   "metadata": {},
   "outputs": [
    {
     "data": {
      "text/plain": [
       "Ttest_indResult(statistic=2.8603877677367766, pvalue=0.007632564205742544)"
      ]
     },
     "execution_count": 11,
     "metadata": {},
     "output_type": "execute_result"
    }
   ],
   "source": [
    "stats.ttest_ind(exp_df.A, exp_df.B)"
   ]
  },
  {
   "cell_type": "code",
   "execution_count": null,
   "id": "green-working",
   "metadata": {},
   "outputs": [],
   "source": []
  },
  {
   "cell_type": "markdown",
   "id": "classical-nature",
   "metadata": {},
   "source": [
    "---\n",
    "![''](./10_src/10_13_01.png)"
   ]
  },
  {
   "cell_type": "code",
   "execution_count": 13,
   "id": "civil-thesis",
   "metadata": {},
   "outputs": [
    {
     "data": {
      "text/html": [
       "<div>\n",
       "<style scoped>\n",
       "    .dataframe tbody tr th:only-of-type {\n",
       "        vertical-align: middle;\n",
       "    }\n",
       "\n",
       "    .dataframe tbody tr th {\n",
       "        vertical-align: top;\n",
       "    }\n",
       "\n",
       "    .dataframe thead th {\n",
       "        text-align: right;\n",
       "    }\n",
       "</style>\n",
       "<table border=\"1\" class=\"dataframe\">\n",
       "  <thead>\n",
       "    <tr style=\"text-align: right;\">\n",
       "      <th></th>\n",
       "      <th>A</th>\n",
       "      <th>B</th>\n",
       "    </tr>\n",
       "  </thead>\n",
       "  <tbody>\n",
       "    <tr>\n",
       "      <th>0</th>\n",
       "      <td>10</td>\n",
       "      <td>7</td>\n",
       "    </tr>\n",
       "    <tr>\n",
       "      <th>1</th>\n",
       "      <td>8</td>\n",
       "      <td>4</td>\n",
       "    </tr>\n",
       "    <tr>\n",
       "      <th>2</th>\n",
       "      <td>7</td>\n",
       "      <td>9</td>\n",
       "    </tr>\n",
       "    <tr>\n",
       "      <th>3</th>\n",
       "      <td>9</td>\n",
       "      <td>3</td>\n",
       "    </tr>\n",
       "    <tr>\n",
       "      <th>4</th>\n",
       "      <td>13</td>\n",
       "      <td>7</td>\n",
       "    </tr>\n",
       "    <tr>\n",
       "      <th>5</th>\n",
       "      <td>7</td>\n",
       "      <td>6</td>\n",
       "    </tr>\n",
       "    <tr>\n",
       "      <th>6</th>\n",
       "      <td>6</td>\n",
       "      <td>10</td>\n",
       "    </tr>\n",
       "    <tr>\n",
       "      <th>7</th>\n",
       "      <td>12</td>\n",
       "      <td>2</td>\n",
       "    </tr>\n",
       "  </tbody>\n",
       "</table>\n",
       "</div>"
      ],
      "text/plain": [
       "    A   B\n",
       "0  10   7\n",
       "1   8   4\n",
       "2   7   9\n",
       "3   9   3\n",
       "4  13   7\n",
       "5   7   6\n",
       "6   6  10\n",
       "7  12   2"
      ]
     },
     "execution_count": 13,
     "metadata": {},
     "output_type": "execute_result"
    }
   ],
   "source": [
    "exp_df = pd.DataFrame({'A':[10, 8, 7, 9, 13, 7, 6, 12], \n",
    "                       'B':[7, 4, 9, 3, 7, 6, 10, 2]})\n",
    "exp_df"
   ]
  },
  {
   "cell_type": "code",
   "execution_count": 14,
   "id": "general-cleaner",
   "metadata": {},
   "outputs": [
    {
     "name": "stdout",
     "output_type": "stream",
     "text": [
      "[one tail, alpha 0.05] t_statistic:2.244994432064365, critical_region:t > 1.761\n",
      "=> null hypothesis rejection [True]\n"
     ]
    }
   ],
   "source": [
    "slow_stat = slow_statistic.Stats()\n",
    "\n",
    "n1, n2 = len(exp_df.A), len(exp_df.A)\n",
    "M1, M2 = exp_df.A.mean(), exp_df.B.mean()\n",
    "SS1, SS2 = np.sum([r**2 for r in exp_df.A]) - (np.sum(exp_df.A)**2 / n1), np.sum([r**2 for r in exp_df.B]) - (np.sum(exp_df.B)**2 / n2)\n",
    "slow_stat.tail_num = 1\n",
    "\n",
    "slow_stat.ttest_ind_from_stats(M1, M2, SS1, SS2, n1, n2)"
   ]
  },
  {
   "cell_type": "code",
   "execution_count": 15,
   "id": "driven-reach",
   "metadata": {},
   "outputs": [
    {
     "data": {
      "text/plain": [
       "Ttest_indResult(statistic=2.244994432064365, pvalue=0.04144310815279534)"
      ]
     },
     "execution_count": 15,
     "metadata": {},
     "output_type": "execute_result"
    }
   ],
   "source": [
    "stats.ttest_ind(exp_df.A, exp_df.B)"
   ]
  },
  {
   "cell_type": "code",
   "execution_count": null,
   "id": "operational-closing",
   "metadata": {},
   "outputs": [],
   "source": []
  },
  {
   "cell_type": "code",
   "execution_count": 17,
   "id": "governmental-boating",
   "metadata": {},
   "outputs": [
    {
     "data": {
      "text/plain": [
       "0.2647"
      ]
     },
     "execution_count": 17,
     "metadata": {},
     "output_type": "execute_result"
    }
   ],
   "source": [
    "slow_stat.r_squared_ind_from_stat(M1, M2, SS1, SS2, n1, n2)"
   ]
  },
  {
   "cell_type": "code",
   "execution_count": null,
   "id": "diverse-surge",
   "metadata": {},
   "outputs": [],
   "source": []
  },
  {
   "cell_type": "markdown",
   "id": "sudden-airline",
   "metadata": {},
   "source": [
    "---\n",
    "![''](./10_src/10_14_01.png)\n",
    "\n",
    "![''](./10_src/10_14_02.png)"
   ]
  },
  {
   "cell_type": "code",
   "execution_count": 18,
   "id": "invisible-liability",
   "metadata": {},
   "outputs": [
    {
     "data": {
      "text/html": [
       "<div>\n",
       "<style scoped>\n",
       "    .dataframe tbody tr th:only-of-type {\n",
       "        vertical-align: middle;\n",
       "    }\n",
       "\n",
       "    .dataframe tbody tr th {\n",
       "        vertical-align: top;\n",
       "    }\n",
       "\n",
       "    .dataframe thead th {\n",
       "        text-align: right;\n",
       "    }\n",
       "</style>\n",
       "<table border=\"1\" class=\"dataframe\">\n",
       "  <thead>\n",
       "    <tr style=\"text-align: right;\">\n",
       "      <th></th>\n",
       "      <th>A</th>\n",
       "      <th>B</th>\n",
       "    </tr>\n",
       "  </thead>\n",
       "  <tbody>\n",
       "    <tr>\n",
       "      <th>0</th>\n",
       "      <td>7</td>\n",
       "      <td>9</td>\n",
       "    </tr>\n",
       "    <tr>\n",
       "      <th>1</th>\n",
       "      <td>8</td>\n",
       "      <td>11</td>\n",
       "    </tr>\n",
       "    <tr>\n",
       "      <th>2</th>\n",
       "      <td>10</td>\n",
       "      <td>13</td>\n",
       "    </tr>\n",
       "    <tr>\n",
       "      <th>3</th>\n",
       "      <td>6</td>\n",
       "      <td>10</td>\n",
       "    </tr>\n",
       "    <tr>\n",
       "      <th>4</th>\n",
       "      <td>8</td>\n",
       "      <td>11</td>\n",
       "    </tr>\n",
       "    <tr>\n",
       "      <th>5</th>\n",
       "      <td>5</td>\n",
       "      <td>9</td>\n",
       "    </tr>\n",
       "    <tr>\n",
       "      <th>6</th>\n",
       "      <td>7</td>\n",
       "      <td>15</td>\n",
       "    </tr>\n",
       "    <tr>\n",
       "      <th>7</th>\n",
       "      <td>12</td>\n",
       "      <td>14</td>\n",
       "    </tr>\n",
       "    <tr>\n",
       "      <th>8</th>\n",
       "      <td>5</td>\n",
       "      <td>10</td>\n",
       "    </tr>\n",
       "  </tbody>\n",
       "</table>\n",
       "</div>"
      ],
      "text/plain": [
       "    A   B\n",
       "0   7   9\n",
       "1   8  11\n",
       "2  10  13\n",
       "3   6  10\n",
       "4   8  11\n",
       "5   5   9\n",
       "6   7  15\n",
       "7  12  14\n",
       "8   5  10"
      ]
     },
     "execution_count": 18,
     "metadata": {},
     "output_type": "execute_result"
    }
   ],
   "source": [
    "exp_df = pd.DataFrame({'A':[7, 8, 10, 6, 8, 5, 7, 12, 5], \n",
    "                       'B':[9, 11, 13, 10, 11, 9, 15, 14, 10]})\n",
    "exp_df"
   ]
  },
  {
   "cell_type": "code",
   "execution_count": 19,
   "id": "entire-plaza",
   "metadata": {},
   "outputs": [
    {
     "name": "stdout",
     "output_type": "stream",
     "text": [
      "[one tail, alpha 0.05] t_statistic:-3.578947368421054, critical_region:t < -1.746\n",
      "=> null hypothesis rejection [True]\n"
     ]
    }
   ],
   "source": [
    "slow_stat = slow_statistic.Stats()\n",
    "\n",
    "n1, n2 = len(exp_df.A), len(exp_df.A)\n",
    "M1, M2 = exp_df.A.mean(), exp_df.B.mean()\n",
    "SS1, SS2 = np.sum([r**2 for r in exp_df.A]) - (np.sum(exp_df.A)**2 / n1), np.sum([r**2 for r in exp_df.B]) - (np.sum(exp_df.B)**2 / n2)\n",
    "slow_stat.tail_num = 1\n",
    "\n",
    "slow_stat.ttest_ind_from_stats(M1, M2, SS1, SS2, n1, n2)"
   ]
  },
  {
   "cell_type": "code",
   "execution_count": 20,
   "id": "emerging-shakespeare",
   "metadata": {},
   "outputs": [
    {
     "data": {
      "text/plain": [
       "Ttest_indResult(statistic=-3.578947368421053, pvalue=0.0025083298432781805)"
      ]
     },
     "execution_count": 20,
     "metadata": {},
     "output_type": "execute_result"
    }
   ],
   "source": [
    "stats.ttest_ind(exp_df.A, exp_df.B)"
   ]
  },
  {
   "cell_type": "code",
   "execution_count": 21,
   "id": "organized-right",
   "metadata": {},
   "outputs": [
    {
     "data": {
      "text/plain": [
       "-1.687"
      ]
     },
     "execution_count": 21,
     "metadata": {},
     "output_type": "execute_result"
    }
   ],
   "source": [
    "slow_stat.cohens_d_ind_from_stats(M1, M2, SS1, SS2, n1, n2)"
   ]
  },
  {
   "cell_type": "code",
   "execution_count": null,
   "id": "portable-magnitude",
   "metadata": {},
   "outputs": [],
   "source": []
  },
  {
   "cell_type": "markdown",
   "id": "bibliographic-error",
   "metadata": {},
   "source": [
    "# sample size, variability가 standard error for the sample mean difference(estimated standard error)에 끼치는 영향"
   ]
  },
  {
   "cell_type": "markdown",
   "id": "computational-prime",
   "metadata": {},
   "source": [
    "---\n",
    "![''](./10_src/10_20_01.png)"
   ]
  },
  {
   "cell_type": "code",
   "execution_count": 27,
   "id": "therapeutic-consistency",
   "metadata": {},
   "outputs": [
    {
     "name": "stdout",
     "output_type": "stream",
     "text": [
      "[two tail, alpha 0.05] t_statistic:-2.5, critical_region:t > 2.145 or t < -2.145\n",
      "=> null hypothesis rejection [True]\n"
     ]
    }
   ],
   "source": [
    "slow_stat = slow_statistic.Stats()\n",
    "\n",
    "n1, n2 = 6, 10\n",
    "M1, M2 = 100, 105 # test\n",
    "SS1, SS2 = 75, 135\n",
    "\n",
    "slow_stat.ttest_ind_from_stats(M1, M2, SS1, SS2, n1, n2)"
   ]
  },
  {
   "cell_type": "code",
   "execution_count": 28,
   "id": "adolescent-saint",
   "metadata": {},
   "outputs": [
    {
     "name": "stdout",
     "output_type": "stream",
     "text": [
      "[two tail, alpha 0.05] t_statistic:-1.25, critical_region:t > 2.145 or t < -2.145\n",
      "=> null hypothesis rejection [False]\n"
     ]
    }
   ],
   "source": [
    "slow_stat = slow_statistic.Stats()\n",
    "\n",
    "n1, n2 = 6, 10\n",
    "M1, M2 = 100, 105 # test\n",
    "SS1, SS2 = 310, 530\n",
    "\n",
    "slow_stat.ttest_ind_from_stats(M1, M2, SS1, SS2, n1, n2)"
   ]
  },
  {
   "cell_type": "code",
   "execution_count": null,
   "id": "relevant-album",
   "metadata": {},
   "outputs": [],
   "source": []
  },
  {
   "cell_type": "markdown",
   "id": "freelance-ranch",
   "metadata": {},
   "source": [
    "---\n",
    "![''](./10_src/10_21_01.png)\n",
    "\n",
    "![''](./10_src/10_21_02.png)"
   ]
  },
  {
   "cell_type": "code",
   "execution_count": 29,
   "id": "czech-prize",
   "metadata": {},
   "outputs": [],
   "source": [
    "# slow_stat = slow_statistic.Stats()\n",
    "\n",
    "# n1, n2 = 6, 10\n",
    "# M1, M2 = 100, 105 # test\n",
    "# SS1, SS2 = 75, 135\n",
    "\n",
    "# slow_stat.ttest_ind_from_stats(M1, M2, SS1, SS2, n1, n2)"
   ]
  },
  {
   "cell_type": "code",
   "execution_count": null,
   "id": "regular-intellectual",
   "metadata": {},
   "outputs": [],
   "source": []
  },
  {
   "cell_type": "markdown",
   "id": "present-petite",
   "metadata": {},
   "source": [
    "---\n",
    "![''](./10_src/10_22_01.png)"
   ]
  },
  {
   "cell_type": "code",
   "execution_count": null,
   "id": "neural-antarctica",
   "metadata": {},
   "outputs": [],
   "source": []
  },
  {
   "cell_type": "markdown",
   "id": "social-disability",
   "metadata": {},
   "source": [
    "---\n",
    "![''](./10_src/10_23_01.png)"
   ]
  },
  {
   "cell_type": "code",
   "execution_count": null,
   "id": "independent-action",
   "metadata": {},
   "outputs": [],
   "source": []
  },
  {
   "cell_type": "code",
   "execution_count": null,
   "id": "centered-object",
   "metadata": {},
   "outputs": [],
   "source": []
  },
  {
   "cell_type": "code",
   "execution_count": null,
   "id": "attractive-stuff",
   "metadata": {},
   "outputs": [],
   "source": []
  },
  {
   "cell_type": "markdown",
   "id": "korean-community",
   "metadata": {},
   "source": [
    "# ETC"
   ]
  },
  {
   "cell_type": "markdown",
   "id": "controlled-lancaster",
   "metadata": {},
   "source": [
    "---\n",
    "![''](./10_src/10_16_01.png)"
   ]
  },
  {
   "cell_type": "markdown",
   "id": "healthy-conference",
   "metadata": {},
   "source": [
    "---\n",
    "![''](./10_src/10_19_01.png)"
   ]
  },
  {
   "cell_type": "code",
   "execution_count": null,
   "id": "mobile-proposal",
   "metadata": {},
   "outputs": [],
   "source": []
  }
 ],
 "metadata": {
  "kernelspec": {
   "display_name": "Python 3",
   "language": "python",
   "name": "python3"
  },
  "language_info": {
   "codemirror_mode": {
    "name": "ipython",
    "version": 3
   },
   "file_extension": ".py",
   "mimetype": "text/x-python",
   "name": "python",
   "nbconvert_exporter": "python",
   "pygments_lexer": "ipython3",
   "version": "3.9.1"
  }
 },
 "nbformat": 4,
 "nbformat_minor": 5
}
