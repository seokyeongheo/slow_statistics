{
 "cells": [
  {
   "cell_type": "code",
   "execution_count": 1,
   "id": "approximate-cholesterol",
   "metadata": {},
   "outputs": [],
   "source": [
    "import numpy as np\n",
    "import pandas as pd\n",
    "from scipy import stats\n",
    "\n",
    "import slow_statistic"
   ]
  },
  {
   "cell_type": "code",
   "execution_count": 38,
   "id": "listed-moment",
   "metadata": {},
   "outputs": [],
   "source": [
    "def __calculate_t_statistic_rel__(M_d, SS, n):\n",
    "\n",
    "    std_error = np.sqrt((SS / (n - 1)) / n)\n",
    "    t_statistic = (M_d - 0) / std_error\n",
    "    \n",
    "    return t_statistic\n",
    "\n",
    "def __calculate_t_portion_rel__(n, alpha, tail_num):\n",
    "    \n",
    "    df = n - 1\n",
    "    t_portion = round(stats.t.ppf(1 - alpha/tail_num, df=df), 3)\n",
    "    \n",
    "    return t_portion\n",
    "\n",
    "def ttest_rel_from_stats(M_d, SS, n, alpha=0.05, tail_num=2):\n",
    "    \n",
    "    t, cr = __calculate_t_statistic_rel__(M_d, SS, n), __calculate_t_portion_rel__(n, alpha, tail_num)\n",
    "\n",
    "    if tail_num == 2:\n",
    "\n",
    "        rejection_decision = (t > cr) | (t < -1 * cr)\n",
    "        region = f't > {cr} or t < -{cr}'\n",
    "        criteria = f'two tail, alpha {alpha}'\n",
    "\n",
    "    elif tail_num == 1:\n",
    "\n",
    "        if t > 0:\n",
    "\n",
    "            rejection_decision = (t > cr)\n",
    "            region = f't > {cr}'\n",
    "\n",
    "        else:\n",
    "\n",
    "            rejection_decision = (t < -1 * cr)\n",
    "            region = f't < -{cr}'\n",
    "\n",
    "        criteria = f'one tail, alpha {alpha}'\n",
    "\n",
    "    else:\n",
    "        print('Should use tail_num 1 or 2.')\n",
    "        return None\n",
    "\n",
    "    print(f'[{criteria}] t_statistic:{t}, critical_region:{region}\\n=> null hypothesis rejection [{rejection_decision}]')\n",
    "\n",
    "def cohens_d_rel_from_stats(M_d, SS, n):\n",
    "    \n",
    "    s = np.sqrt(SS / (n - 1))\n",
    "    estimated_d = round(M_d / s, 3)\n",
    "    \n",
    "    return estimated_d\n",
    "\n",
    "def r_squared_rel(M_d, SS, n):\n",
    "    \n",
    "    t_statistic = __calculate_t_statistic_rel__(M_d, SS, n)\n",
    "    r_squared = round(t_statistic**2 / (t_statistic**2 + n - 1), 4)\n",
    "    \n",
    "    return r_squared\n",
    "\n",
    "def confidence_interval_rel_from_stats(M_d, SS, n, alpha=0.05, tail_num=2):\n",
    "    \n",
    "    std_error = np.sqrt((SS / (n - 1)) / n)\n",
    "    ci_start = round(M_d - __calculate_t_portion_rel__(n, alpha, tail_num) * std_error, 4)\n",
    "    ci_end = round(M_d + __calculate_t_portion_rel__(n, alpha, tail_num) * std_error, 4)\n",
    "    \n",
    "    print(f'[confidence interval] {ci_start} ~ {ci_end}')"
   ]
  },
  {
   "cell_type": "code",
   "execution_count": null,
   "id": "dense-bathroom",
   "metadata": {},
   "outputs": [],
   "source": []
  },
  {
   "cell_type": "markdown",
   "id": "vulnerable-poetry",
   "metadata": {},
   "source": [
    "# 유형\n",
    "1. repeated-measure t test (using statistic)\n",
    "2. repeated-measure t test (using raw dataset)\n",
    "3. sample standard deviation/mean difference/size 와 null hypothesis 기각 여부의 관계\n",
    "4. independent-measure와 repeated-measure 비교"
   ]
  },
  {
   "cell_type": "code",
   "execution_count": null,
   "id": "democratic-expense",
   "metadata": {},
   "outputs": [],
   "source": []
  },
  {
   "cell_type": "markdown",
   "id": "choice-service",
   "metadata": {},
   "source": [
    "# repeated-measure t test (using statistic)"
   ]
  },
  {
   "cell_type": "markdown",
   "id": "rental-techno",
   "metadata": {},
   "source": [
    "---\n",
    "![''](./11_src/11_06_01.png)\n",
    "\n",
    "![''](./11_src/11_06_02.png)"
   ]
  },
  {
   "cell_type": "code",
   "execution_count": 6,
   "id": "athletic-emperor",
   "metadata": {},
   "outputs": [],
   "source": [
    "n = 12\n",
    "SS = 33\n",
    "M_d = 1.2"
   ]
  },
  {
   "cell_type": "code",
   "execution_count": 7,
   "id": "fossil-contrary",
   "metadata": {},
   "outputs": [
    {
     "name": "stdout",
     "output_type": "stream",
     "text": [
      "[two tail, alpha 0.05] t_statistic:2.4, critical_region:t > 2.201 or t < -2.201\n",
      "=> null hypothesis rejection [True]\n"
     ]
    }
   ],
   "source": [
    "ttest_rel_from_stats(M_d, SS, n)"
   ]
  },
  {
   "cell_type": "code",
   "execution_count": null,
   "id": "concerned-diabetes",
   "metadata": {},
   "outputs": [],
   "source": []
  },
  {
   "cell_type": "markdown",
   "id": "accompanied-coach",
   "metadata": {},
   "source": [
    "---\n",
    "![''](./11_src/11_08_01.png)"
   ]
  },
  {
   "cell_type": "code",
   "execution_count": 9,
   "id": "cellular-kentucky",
   "metadata": {},
   "outputs": [],
   "source": [
    "n = 16\n",
    "SS = 135\n",
    "M_d = 2.6"
   ]
  },
  {
   "cell_type": "code",
   "execution_count": 10,
   "id": "other-savage",
   "metadata": {},
   "outputs": [
    {
     "name": "stdout",
     "output_type": "stream",
     "text": [
      "[two tail, alpha 0.05] t_statistic:3.466666666666667, critical_region:t > 2.131 or t < -2.131\n",
      "=> null hypothesis rejection [True]\n"
     ]
    }
   ],
   "source": [
    "ttest_rel_from_stats(M_d, SS, n)"
   ]
  },
  {
   "cell_type": "code",
   "execution_count": null,
   "id": "binding-conservative",
   "metadata": {},
   "outputs": [],
   "source": []
  },
  {
   "cell_type": "code",
   "execution_count": 12,
   "id": "floral-oklahoma",
   "metadata": {},
   "outputs": [
    {
     "data": {
      "text/plain": [
       "0.867"
      ]
     },
     "execution_count": 12,
     "metadata": {},
     "output_type": "execute_result"
    }
   ],
   "source": [
    "cohens_d_rel_from_stats(M_d, SS, n)"
   ]
  },
  {
   "cell_type": "code",
   "execution_count": null,
   "id": "irish-spouse",
   "metadata": {},
   "outputs": [],
   "source": []
  },
  {
   "cell_type": "markdown",
   "id": "ongoing-series",
   "metadata": {},
   "source": [
    "---\n",
    "![''](./11_src/11_09_01.png)\n",
    "\n",
    "![''](./11_src/11_09_02.png)"
   ]
  },
  {
   "cell_type": "code",
   "execution_count": 15,
   "id": "involved-macintosh",
   "metadata": {},
   "outputs": [],
   "source": [
    "n = 25\n",
    "SS = 150\n",
    "M_d = 1.32"
   ]
  },
  {
   "cell_type": "code",
   "execution_count": 16,
   "id": "expected-platinum",
   "metadata": {},
   "outputs": [
    {
     "name": "stdout",
     "output_type": "stream",
     "text": [
      "[two tail, alpha 0.05] t_statistic:2.64, critical_region:t > 2.064 or t < -2.064\n",
      "=> null hypothesis rejection [True]\n"
     ]
    }
   ],
   "source": [
    "ttest_rel_from_stats(M_d, SS, n)"
   ]
  },
  {
   "cell_type": "code",
   "execution_count": null,
   "id": "junior-comparison",
   "metadata": {},
   "outputs": [],
   "source": []
  },
  {
   "cell_type": "code",
   "execution_count": 19,
   "id": "derived-culture",
   "metadata": {},
   "outputs": [
    {
     "data": {
      "text/plain": [
       "0.225"
      ]
     },
     "execution_count": 19,
     "metadata": {},
     "output_type": "execute_result"
    }
   ],
   "source": [
    "r_squared_rel(M_d, SS, n)"
   ]
  },
  {
   "cell_type": "code",
   "execution_count": null,
   "id": "reasonable-blind",
   "metadata": {},
   "outputs": [],
   "source": []
  },
  {
   "cell_type": "markdown",
   "id": "concrete-flower",
   "metadata": {},
   "source": [
    "---\n",
    "![''](./11_src/11_10_01.png)"
   ]
  },
  {
   "cell_type": "code",
   "execution_count": 39,
   "id": "changing-interstate",
   "metadata": {},
   "outputs": [
    {
     "data": {
      "text/plain": [
       "(20, 2375, 4.8)"
      ]
     },
     "execution_count": 39,
     "metadata": {},
     "output_type": "execute_result"
    }
   ],
   "source": [
    "n = 20\n",
    "SS = 125 * (n - 1)\n",
    "M_d = 4.8\n",
    "\n",
    "n, SS, M_d"
   ]
  },
  {
   "cell_type": "code",
   "execution_count": 40,
   "id": "understood-assessment",
   "metadata": {},
   "outputs": [
    {
     "name": "stdout",
     "output_type": "stream",
     "text": [
      "[one tail, alpha 0.05] t_statistic:1.92, critical_region:t > 1.729\n",
      "=> null hypothesis rejection [True]\n"
     ]
    }
   ],
   "source": [
    "ttest_rel_from_stats(M_d, SS, n, tail_num=1)"
   ]
  },
  {
   "cell_type": "code",
   "execution_count": 41,
   "id": "transparent-standing",
   "metadata": {},
   "outputs": [
    {
     "name": "stdout",
     "output_type": "stream",
     "text": [
      "[confidence interval] 1.48 ~ 8.12\n"
     ]
    }
   ],
   "source": [
    "confidence_interval_rel_from_stats(M_d, SS, n, alpha=0.2)"
   ]
  },
  {
   "cell_type": "code",
   "execution_count": null,
   "id": "convinced-batman",
   "metadata": {},
   "outputs": [],
   "source": []
  },
  {
   "cell_type": "markdown",
   "id": "affecting-music",
   "metadata": {},
   "source": [
    "---\n",
    "![''](./11_src/11_11_01.png)\n",
    "\n",
    "![''](./11_src/11_11_02.png)"
   ]
  },
  {
   "cell_type": "code",
   "execution_count": 42,
   "id": "brief-phone",
   "metadata": {},
   "outputs": [
    {
     "data": {
      "text/plain": [
       "(16, 2940, 21)"
      ]
     },
     "execution_count": 42,
     "metadata": {},
     "output_type": "execute_result"
    }
   ],
   "source": [
    "n = 16\n",
    "SS = 2940\n",
    "M_d = 21\n",
    "\n",
    "n, SS, M_d"
   ]
  },
  {
   "cell_type": "code",
   "execution_count": 43,
   "id": "static-phase",
   "metadata": {},
   "outputs": [
    {
     "name": "stdout",
     "output_type": "stream",
     "text": [
      "[two tail, alpha 0.01] t_statistic:6.0, critical_region:t > 2.947 or t < -2.947\n",
      "=> null hypothesis rejection [True]\n"
     ]
    }
   ],
   "source": [
    "ttest_rel_from_stats(M_d, SS, n, alpha=0.01)"
   ]
  },
  {
   "cell_type": "code",
   "execution_count": 44,
   "id": "operating-disclaimer",
   "metadata": {},
   "outputs": [
    {
     "name": "stdout",
     "output_type": "stream",
     "text": [
      "[confidence interval] 13.5415 ~ 28.4585\n"
     ]
    }
   ],
   "source": [
    "confidence_interval_rel_from_stats(M_d, SS, n)"
   ]
  },
  {
   "cell_type": "code",
   "execution_count": null,
   "id": "numeric-component",
   "metadata": {},
   "outputs": [],
   "source": []
  },
  {
   "cell_type": "markdown",
   "id": "relevant-mission",
   "metadata": {},
   "source": [
    "---\n",
    "![''](./11_src/11_12_01.png)"
   ]
  },
  {
   "cell_type": "code",
   "execution_count": 46,
   "id": "ancient-china",
   "metadata": {},
   "outputs": [
    {
     "data": {
      "text/plain": [
       "(16, 2940, 21)"
      ]
     },
     "execution_count": 46,
     "metadata": {},
     "output_type": "execute_result"
    }
   ],
   "source": [
    "n = 16\n",
    "SS = 2940\n",
    "M_d = 21\n",
    "\n",
    "n, SS, M_d"
   ]
  },
  {
   "cell_type": "code",
   "execution_count": 47,
   "id": "centered-least",
   "metadata": {},
   "outputs": [
    {
     "name": "stdout",
     "output_type": "stream",
     "text": [
      "[two tail, alpha 0.01] t_statistic:6.0, critical_region:t > 2.947 or t < -2.947\n",
      "=> null hypothesis rejection [True]\n"
     ]
    }
   ],
   "source": [
    "ttest_rel_from_stats(M_d, SS, n, alpha=0.01)"
   ]
  },
  {
   "cell_type": "code",
   "execution_count": 48,
   "id": "measured-traveler",
   "metadata": {},
   "outputs": [
    {
     "data": {
      "text/plain": [
       "1.5"
      ]
     },
     "execution_count": 48,
     "metadata": {},
     "output_type": "execute_result"
    }
   ],
   "source": [
    "cohens_d_rel_from_stats(M_d, SS, n)"
   ]
  },
  {
   "cell_type": "code",
   "execution_count": null,
   "id": "stable-dressing",
   "metadata": {},
   "outputs": [],
   "source": []
  },
  {
   "cell_type": "markdown",
   "id": "innocent-queue",
   "metadata": {},
   "source": [
    "---\n",
    "![''](./11_src/11_13_01.png)"
   ]
  },
  {
   "cell_type": "code",
   "execution_count": 50,
   "id": "declared-central",
   "metadata": {},
   "outputs": [
    {
     "data": {
      "text/plain": [
       "(25, 96, 2.7)"
      ]
     },
     "execution_count": 50,
     "metadata": {},
     "output_type": "execute_result"
    }
   ],
   "source": [
    "s = 2\n",
    "n = 25\n",
    "SS = s**2 * (n - 1)\n",
    "M_d = 2.7\n",
    "\n",
    "n, SS, M_d"
   ]
  },
  {
   "cell_type": "code",
   "execution_count": 52,
   "id": "aerial-corpus",
   "metadata": {},
   "outputs": [
    {
     "name": "stdout",
     "output_type": "stream",
     "text": [
      "[two tail, alpha 0.05] t_statistic:6.75, critical_region:t > 2.064 or t < -2.064\n",
      "=> null hypothesis rejection [True]\n"
     ]
    }
   ],
   "source": [
    "ttest_rel_from_stats(M_d, SS, n)"
   ]
  },
  {
   "cell_type": "code",
   "execution_count": null,
   "id": "overall-white",
   "metadata": {},
   "outputs": [],
   "source": []
  },
  {
   "cell_type": "markdown",
   "id": "southeast-accuracy",
   "metadata": {},
   "source": [
    "---\n",
    "![''](./11_src/11_14_01.png)\n",
    "\n",
    "![''](./11_src/11_14_02.png)"
   ]
  },
  {
   "cell_type": "code",
   "execution_count": 53,
   "id": "narrative-cooler",
   "metadata": {},
   "outputs": [
    {
     "data": {
      "text/plain": [
       "(9, 288, 7)"
      ]
     },
     "execution_count": 53,
     "metadata": {},
     "output_type": "execute_result"
    }
   ],
   "source": [
    "n = 9\n",
    "SS = 288\n",
    "M_d = 7\n",
    "\n",
    "n, SS, M_d"
   ]
  },
  {
   "cell_type": "code",
   "execution_count": 54,
   "id": "rural-headline",
   "metadata": {},
   "outputs": [
    {
     "name": "stdout",
     "output_type": "stream",
     "text": [
      "[two tail, alpha 0.05] t_statistic:3.5, critical_region:t > 2.306 or t < -2.306\n",
      "=> null hypothesis rejection [True]\n"
     ]
    }
   ],
   "source": [
    "ttest_rel_from_stats(M_d, SS, n)"
   ]
  },
  {
   "cell_type": "code",
   "execution_count": 55,
   "id": "immediate-tulsa",
   "metadata": {},
   "outputs": [
    {
     "name": "stdout",
     "output_type": "stream",
     "text": [
      "[confidence interval] 2.388 ~ 11.612\n"
     ]
    }
   ],
   "source": [
    "confidence_interval_rel_from_stats(M_d, SS, n)"
   ]
  },
  {
   "cell_type": "code",
   "execution_count": null,
   "id": "developed-grocery",
   "metadata": {},
   "outputs": [],
   "source": []
  },
  {
   "cell_type": "markdown",
   "id": "lovely-stone",
   "metadata": {},
   "source": [
    "# repeated-measure t test (using raw dataset)"
   ]
  },
  {
   "cell_type": "markdown",
   "id": "phantom-michigan",
   "metadata": {},
   "source": [
    "---\n",
    "![''](./11_src/11_07_01.png)"
   ]
  },
  {
   "cell_type": "code",
   "execution_count": 84,
   "id": "parliamentary-operator",
   "metadata": {},
   "outputs": [
    {
     "data": {
      "text/html": [
       "<div>\n",
       "<style scoped>\n",
       "    .dataframe tbody tr th:only-of-type {\n",
       "        vertical-align: middle;\n",
       "    }\n",
       "\n",
       "    .dataframe tbody tr th {\n",
       "        vertical-align: top;\n",
       "    }\n",
       "\n",
       "    .dataframe thead th {\n",
       "        text-align: right;\n",
       "    }\n",
       "</style>\n",
       "<table border=\"1\" class=\"dataframe\">\n",
       "  <thead>\n",
       "    <tr style=\"text-align: right;\">\n",
       "      <th></th>\n",
       "      <th>A</th>\n",
       "      <th>B</th>\n",
       "    </tr>\n",
       "  </thead>\n",
       "  <tbody>\n",
       "    <tr>\n",
       "      <th>0</th>\n",
       "      <td>7</td>\n",
       "      <td>8</td>\n",
       "    </tr>\n",
       "    <tr>\n",
       "      <th>1</th>\n",
       "      <td>2</td>\n",
       "      <td>9</td>\n",
       "    </tr>\n",
       "    <tr>\n",
       "      <th>2</th>\n",
       "      <td>4</td>\n",
       "      <td>6</td>\n",
       "    </tr>\n",
       "    <tr>\n",
       "      <th>3</th>\n",
       "      <td>5</td>\n",
       "      <td>7</td>\n",
       "    </tr>\n",
       "    <tr>\n",
       "      <th>4</th>\n",
       "      <td>5</td>\n",
       "      <td>6</td>\n",
       "    </tr>\n",
       "    <tr>\n",
       "      <th>5</th>\n",
       "      <td>3</td>\n",
       "      <td>8</td>\n",
       "    </tr>\n",
       "  </tbody>\n",
       "</table>\n",
       "</div>"
      ],
      "text/plain": [
       "   A  B\n",
       "0  7  8\n",
       "1  2  9\n",
       "2  4  6\n",
       "3  5  7\n",
       "4  5  6\n",
       "5  3  8"
      ]
     },
     "execution_count": 84,
     "metadata": {},
     "output_type": "execute_result"
    }
   ],
   "source": [
    "exp_df = pd.DataFrame({'A':[7, 2, 4, 5, 5, 3], \n",
    "                       'B':[8, 9, 6, 7, 6, 8]})\n",
    "exp_df"
   ]
  },
  {
   "cell_type": "code",
   "execution_count": 85,
   "id": "sublime-words",
   "metadata": {},
   "outputs": [
    {
     "data": {
      "text/plain": [
       "(6, -3.0, 30.0)"
      ]
     },
     "execution_count": 85,
     "metadata": {},
     "output_type": "execute_result"
    }
   ],
   "source": [
    "diff_sr = (exp_df.A - exp_df.B)\n",
    "\n",
    "n = len(diff_sr)\n",
    "M_d = diff_sr.mean()\n",
    "SS = np.sum([r**2 for r in diff_sr]) - (np.sum(diff_sr)**2 / n)\n",
    "\n",
    "n, M_d, SS"
   ]
  },
  {
   "cell_type": "code",
   "execution_count": 86,
   "id": "atlantic-kansas",
   "metadata": {},
   "outputs": [
    {
     "name": "stdout",
     "output_type": "stream",
     "text": [
      "[two tail, alpha 0.05] t_statistic:-3.0, critical_region:t > 2.571 or t < -2.571\n",
      "=> null hypothesis rejection [True]\n"
     ]
    }
   ],
   "source": [
    "ttest_rel_from_stats(M_d, SS, n)"
   ]
  },
  {
   "cell_type": "code",
   "execution_count": 87,
   "id": "coordinate-assignment",
   "metadata": {},
   "outputs": [
    {
     "data": {
      "text/plain": [
       "Ttest_relResult(statistic=-3.0, pvalue=0.03009924789746257)"
      ]
     },
     "execution_count": 87,
     "metadata": {},
     "output_type": "execute_result"
    }
   ],
   "source": [
    "stats.ttest_rel(exp_df.A, exp_df.B)"
   ]
  },
  {
   "cell_type": "code",
   "execution_count": null,
   "id": "greenhouse-lunch",
   "metadata": {},
   "outputs": [],
   "source": []
  },
  {
   "cell_type": "markdown",
   "id": "progressive-manufacturer",
   "metadata": {},
   "source": [
    "---\n",
    "![''](./11_src/11_15_01.png)"
   ]
  },
  {
   "cell_type": "code",
   "execution_count": 88,
   "id": "handed-machine",
   "metadata": {},
   "outputs": [
    {
     "data": {
      "text/html": [
       "<div>\n",
       "<style scoped>\n",
       "    .dataframe tbody tr th:only-of-type {\n",
       "        vertical-align: middle;\n",
       "    }\n",
       "\n",
       "    .dataframe tbody tr th {\n",
       "        vertical-align: top;\n",
       "    }\n",
       "\n",
       "    .dataframe thead th {\n",
       "        text-align: right;\n",
       "    }\n",
       "</style>\n",
       "<table border=\"1\" class=\"dataframe\">\n",
       "  <thead>\n",
       "    <tr style=\"text-align: right;\">\n",
       "      <th></th>\n",
       "      <th>A</th>\n",
       "      <th>B</th>\n",
       "    </tr>\n",
       "  </thead>\n",
       "  <tbody>\n",
       "    <tr>\n",
       "      <th>0</th>\n",
       "      <td>4</td>\n",
       "      <td>7</td>\n",
       "    </tr>\n",
       "    <tr>\n",
       "      <th>1</th>\n",
       "      <td>6</td>\n",
       "      <td>7</td>\n",
       "    </tr>\n",
       "    <tr>\n",
       "      <th>2</th>\n",
       "      <td>5</td>\n",
       "      <td>8</td>\n",
       "    </tr>\n",
       "    <tr>\n",
       "      <th>3</th>\n",
       "      <td>5</td>\n",
       "      <td>9</td>\n",
       "    </tr>\n",
       "    <tr>\n",
       "      <th>4</th>\n",
       "      <td>6</td>\n",
       "      <td>9</td>\n",
       "    </tr>\n",
       "    <tr>\n",
       "      <th>5</th>\n",
       "      <td>4</td>\n",
       "      <td>7</td>\n",
       "    </tr>\n",
       "    <tr>\n",
       "      <th>6</th>\n",
       "      <td>3</td>\n",
       "      <td>9</td>\n",
       "    </tr>\n",
       "    <tr>\n",
       "      <th>7</th>\n",
       "      <td>8</td>\n",
       "      <td>9</td>\n",
       "    </tr>\n",
       "    <tr>\n",
       "      <th>8</th>\n",
       "      <td>6</td>\n",
       "      <td>9</td>\n",
       "    </tr>\n",
       "  </tbody>\n",
       "</table>\n",
       "</div>"
      ],
      "text/plain": [
       "   A  B\n",
       "0  4  7\n",
       "1  6  7\n",
       "2  5  8\n",
       "3  5  9\n",
       "4  6  9\n",
       "5  4  7\n",
       "6  3  9\n",
       "7  8  9\n",
       "8  6  9"
      ]
     },
     "execution_count": 88,
     "metadata": {},
     "output_type": "execute_result"
    }
   ],
   "source": [
    "exp_df = pd.DataFrame({'A':[4, 6, 5, 5, 6, 4, 3, 8, 6], \n",
    "                       'B':[7, 7, 8, 9, 9, 7, 9, 9, 9]})\n",
    "exp_df"
   ]
  },
  {
   "cell_type": "code",
   "execution_count": 89,
   "id": "handmade-requirement",
   "metadata": {},
   "outputs": [
    {
     "data": {
      "text/plain": [
       "(9, -3.0, 18.0)"
      ]
     },
     "execution_count": 89,
     "metadata": {},
     "output_type": "execute_result"
    }
   ],
   "source": [
    "diff_sr = (exp_df.A - exp_df.B)\n",
    "\n",
    "n = len(diff_sr)\n",
    "M_d = diff_sr.mean()\n",
    "SS = np.sum([r**2 for r in diff_sr]) - (np.sum(diff_sr)**2 / n)\n",
    "\n",
    "n, M_d, SS"
   ]
  },
  {
   "cell_type": "code",
   "execution_count": 90,
   "id": "strange-darkness",
   "metadata": {},
   "outputs": [
    {
     "name": "stdout",
     "output_type": "stream",
     "text": [
      "[two tail, alpha 0.01] t_statistic:-6.0, critical_region:t > 3.355 or t < -3.355\n",
      "=> null hypothesis rejection [True]\n"
     ]
    }
   ],
   "source": [
    "ttest_rel_from_stats(M_d, SS, n, alpha=0.01)"
   ]
  },
  {
   "cell_type": "code",
   "execution_count": 91,
   "id": "tired-survivor",
   "metadata": {},
   "outputs": [
    {
     "data": {
      "text/plain": [
       "Ttest_relResult(statistic=-6.0, pvalue=0.0003233932218851488)"
      ]
     },
     "execution_count": 91,
     "metadata": {},
     "output_type": "execute_result"
    }
   ],
   "source": [
    "stats.ttest_rel(exp_df.A, exp_df.B)"
   ]
  },
  {
   "cell_type": "code",
   "execution_count": null,
   "id": "clean-trustee",
   "metadata": {},
   "outputs": [],
   "source": []
  },
  {
   "cell_type": "markdown",
   "id": "satellite-meeting",
   "metadata": {},
   "source": [
    "---\n",
    "![''](./11_src/11_16_01.png)\n",
    "\n",
    "![''](./11_src/11_16_02.png)"
   ]
  },
  {
   "cell_type": "code",
   "execution_count": 92,
   "id": "forced-encounter",
   "metadata": {},
   "outputs": [
    {
     "data": {
      "text/html": [
       "<div>\n",
       "<style scoped>\n",
       "    .dataframe tbody tr th:only-of-type {\n",
       "        vertical-align: middle;\n",
       "    }\n",
       "\n",
       "    .dataframe tbody tr th {\n",
       "        vertical-align: top;\n",
       "    }\n",
       "\n",
       "    .dataframe thead th {\n",
       "        text-align: right;\n",
       "    }\n",
       "</style>\n",
       "<table border=\"1\" class=\"dataframe\">\n",
       "  <thead>\n",
       "    <tr style=\"text-align: right;\">\n",
       "      <th></th>\n",
       "      <th>A</th>\n",
       "      <th>B</th>\n",
       "    </tr>\n",
       "  </thead>\n",
       "  <tbody>\n",
       "    <tr>\n",
       "      <th>0</th>\n",
       "      <td>94</td>\n",
       "      <td>59</td>\n",
       "    </tr>\n",
       "    <tr>\n",
       "      <th>1</th>\n",
       "      <td>70</td>\n",
       "      <td>61</td>\n",
       "    </tr>\n",
       "    <tr>\n",
       "      <th>2</th>\n",
       "      <td>52</td>\n",
       "      <td>47</td>\n",
       "    </tr>\n",
       "    <tr>\n",
       "      <th>3</th>\n",
       "      <td>83</td>\n",
       "      <td>60</td>\n",
       "    </tr>\n",
       "    <tr>\n",
       "      <th>4</th>\n",
       "      <td>46</td>\n",
       "      <td>35</td>\n",
       "    </tr>\n",
       "    <tr>\n",
       "      <th>5</th>\n",
       "      <td>117</td>\n",
       "      <td>92</td>\n",
       "    </tr>\n",
       "    <tr>\n",
       "      <th>6</th>\n",
       "      <td>69</td>\n",
       "      <td>53</td>\n",
       "    </tr>\n",
       "    <tr>\n",
       "      <th>7</th>\n",
       "      <td>39</td>\n",
       "      <td>30</td>\n",
       "    </tr>\n",
       "    <tr>\n",
       "      <th>8</th>\n",
       "      <td>51</td>\n",
       "      <td>56</td>\n",
       "    </tr>\n",
       "    <tr>\n",
       "      <th>9</th>\n",
       "      <td>73</td>\n",
       "      <td>61</td>\n",
       "    </tr>\n",
       "  </tbody>\n",
       "</table>\n",
       "</div>"
      ],
      "text/plain": [
       "     A   B\n",
       "0   94  59\n",
       "1   70  61\n",
       "2   52  47\n",
       "3   83  60\n",
       "4   46  35\n",
       "5  117  92\n",
       "6   69  53\n",
       "7   39  30\n",
       "8   51  56\n",
       "9   73  61"
      ]
     },
     "execution_count": 92,
     "metadata": {},
     "output_type": "execute_result"
    }
   ],
   "source": [
    "exp_df = pd.DataFrame({'A':[94, 70, 52, 83, 46, 117, 69, 39, 51, 73], \n",
    "                       'B':[59, 61, 47, 60, 35, 92, 53, 30, 56, 61]})\n",
    "exp_df"
   ]
  },
  {
   "cell_type": "code",
   "execution_count": 93,
   "id": "protective-composite",
   "metadata": {},
   "outputs": [
    {
     "data": {
      "text/plain": [
       "(10, 14.0, 1152.0)"
      ]
     },
     "execution_count": 93,
     "metadata": {},
     "output_type": "execute_result"
    }
   ],
   "source": [
    "diff_sr = (exp_df.A - exp_df.B)\n",
    "\n",
    "n = len(diff_sr)\n",
    "M_d = diff_sr.mean()\n",
    "SS = np.sum([r**2 for r in diff_sr]) - (np.sum(diff_sr)**2 / n)\n",
    "\n",
    "n, M_d, SS"
   ]
  },
  {
   "cell_type": "code",
   "execution_count": 94,
   "id": "renewable-dinner",
   "metadata": {},
   "outputs": [
    {
     "name": "stdout",
     "output_type": "stream",
     "text": [
      "[two tail, alpha 0.01] t_statistic:3.913118960624632, critical_region:t > 3.25 or t < -3.25\n",
      "=> null hypothesis rejection [True]\n"
     ]
    }
   ],
   "source": [
    "ttest_rel_from_stats(M_d, SS, n, alpha=0.01)"
   ]
  },
  {
   "cell_type": "code",
   "execution_count": 95,
   "id": "agricultural-prescription",
   "metadata": {},
   "outputs": [
    {
     "data": {
      "text/plain": [
       "Ttest_relResult(statistic=3.913118960624632, pvalue=0.00354788605082344)"
      ]
     },
     "execution_count": 95,
     "metadata": {},
     "output_type": "execute_result"
    }
   ],
   "source": [
    "stats.ttest_rel(exp_df.A, exp_df.B)"
   ]
  },
  {
   "cell_type": "code",
   "execution_count": null,
   "id": "neutral-memphis",
   "metadata": {},
   "outputs": [],
   "source": []
  },
  {
   "cell_type": "code",
   "execution_count": 96,
   "id": "entertaining-bookmark",
   "metadata": {},
   "outputs": [
    {
     "data": {
      "text/plain": [
       "0.6298"
      ]
     },
     "execution_count": 96,
     "metadata": {},
     "output_type": "execute_result"
    }
   ],
   "source": [
    "r_squared_rel(M_d, SS, n)"
   ]
  },
  {
   "cell_type": "code",
   "execution_count": null,
   "id": "separated-teaching",
   "metadata": {},
   "outputs": [],
   "source": []
  },
  {
   "cell_type": "markdown",
   "id": "incomplete-bracelet",
   "metadata": {},
   "source": [
    "# sample standard deviation/mean difference/size 와 null hypothesis 기각 여부의 관계"
   ]
  },
  {
   "cell_type": "markdown",
   "id": "auburn-organic",
   "metadata": {},
   "source": [
    "---\n",
    "![''](./11_src/11_17_01.png)"
   ]
  },
  {
   "cell_type": "code",
   "execution_count": 98,
   "id": "geographic-possession",
   "metadata": {},
   "outputs": [
    {
     "name": "stdout",
     "output_type": "stream",
     "text": [
      "[two tail, alpha 0.05] t_statistic:3.0, critical_region:t > 2.131 or t < -2.131\n",
      "=> null hypothesis rejection [True]\n"
     ]
    }
   ],
   "source": [
    "s = 4\n",
    "n, M_d = 16, 3\n",
    "SS = s**2 * (n - 1)\n",
    "\n",
    "ttest_rel_from_stats(M_d, SS, n)"
   ]
  },
  {
   "cell_type": "code",
   "execution_count": 99,
   "id": "pediatric-album",
   "metadata": {},
   "outputs": [
    {
     "name": "stdout",
     "output_type": "stream",
     "text": [
      "[two tail, alpha 0.05] t_statistic:1.0, critical_region:t > 2.131 or t < -2.131\n",
      "=> null hypothesis rejection [False]\n"
     ]
    }
   ],
   "source": [
    "s = 12\n",
    "n, M_d = 16, 3\n",
    "SS = s**2 * (n - 1)\n",
    "\n",
    "ttest_rel_from_stats(M_d, SS, n)"
   ]
  },
  {
   "cell_type": "markdown",
   "id": "enclosed-atlanta",
   "metadata": {},
   "source": [
    "> repeated-measure t test에서, sample std가 증가하면 null hypothesis 기각 가능성이 감소한다."
   ]
  },
  {
   "cell_type": "code",
   "execution_count": null,
   "id": "female-memorabilia",
   "metadata": {},
   "outputs": [],
   "source": []
  },
  {
   "cell_type": "markdown",
   "id": "personalized-kitchen",
   "metadata": {},
   "source": [
    "---\n",
    "![''](./11_src/11_18_01.png)\n",
    "\n",
    "![''](./11_src/11_18_02.png)"
   ]
  },
  {
   "cell_type": "code",
   "execution_count": 100,
   "id": "searching-black",
   "metadata": {},
   "outputs": [
    {
     "name": "stdout",
     "output_type": "stream",
     "text": [
      "[two tail, alpha 0.05] t_statistic:2.0, critical_region:t > 2.131 or t < -2.131\n",
      "=> null hypothesis rejection [False]\n"
     ]
    }
   ],
   "source": [
    "s = 8\n",
    "n, M_d = 16, 4\n",
    "SS = s**2 * (n - 1)\n",
    "\n",
    "ttest_rel_from_stats(M_d, SS, n)"
   ]
  },
  {
   "cell_type": "code",
   "execution_count": 101,
   "id": "foster-planet",
   "metadata": {},
   "outputs": [
    {
     "name": "stdout",
     "output_type": "stream",
     "text": [
      "[two tail, alpha 0.05] t_statistic:5.0, critical_region:t > 2.131 or t < -2.131\n",
      "=> null hypothesis rejection [True]\n"
     ]
    }
   ],
   "source": [
    "s = 8\n",
    "n, M_d = 16, 10\n",
    "SS = s**2 * (n - 1)\n",
    "\n",
    "ttest_rel_from_stats(M_d, SS, n)"
   ]
  },
  {
   "cell_type": "markdown",
   "id": "approved-resort",
   "metadata": {},
   "source": [
    "> repeated-measure t test에서, sample mean difference가 증가하면 null hypothesis 기각 가능성이 증가한다."
   ]
  },
  {
   "cell_type": "code",
   "execution_count": null,
   "id": "pretty-minimum",
   "metadata": {},
   "outputs": [],
   "source": []
  },
  {
   "cell_type": "markdown",
   "id": "considerable-series",
   "metadata": {},
   "source": [
    "---\n",
    "![''](./11_src/11_19_01.png)"
   ]
  },
  {
   "cell_type": "code",
   "execution_count": 102,
   "id": "assigned-basketball",
   "metadata": {},
   "outputs": [
    {
     "name": "stdout",
     "output_type": "stream",
     "text": [
      "[two tail, alpha 0.05] t_statistic:1.5, critical_region:t > 3.182 or t < -3.182\n",
      "=> null hypothesis rejection [False]\n"
     ]
    }
   ],
   "source": [
    "s = 4\n",
    "n, M_d = 4, 3\n",
    "SS = s**2 * (n - 1)\n",
    "\n",
    "ttest_rel_from_stats(M_d, SS, n)"
   ]
  },
  {
   "cell_type": "code",
   "execution_count": 103,
   "id": "systematic-messenger",
   "metadata": {},
   "outputs": [
    {
     "name": "stdout",
     "output_type": "stream",
     "text": [
      "[two tail, alpha 0.05] t_statistic:3.0, critical_region:t > 2.131 or t < -2.131\n",
      "=> null hypothesis rejection [True]\n"
     ]
    }
   ],
   "source": [
    "s = 4\n",
    "n, M_d = 16, 3\n",
    "SS = s**2 * (n - 1)\n",
    "\n",
    "ttest_rel_from_stats(M_d, SS, n)"
   ]
  },
  {
   "cell_type": "markdown",
   "id": "spatial-cleaner",
   "metadata": {},
   "source": [
    "> repeated-measure t test에서, sample size가 증가하면 null hypothesis 기각 가능성이 증가한다."
   ]
  },
  {
   "cell_type": "code",
   "execution_count": null,
   "id": "civilian-consciousness",
   "metadata": {},
   "outputs": [],
   "source": []
  },
  {
   "cell_type": "markdown",
   "id": "handy-southwest",
   "metadata": {},
   "source": [
    "# independent-measure와 repeated-measure 비교"
   ]
  },
  {
   "cell_type": "markdown",
   "id": "instrumental-network",
   "metadata": {},
   "source": [
    "---\n",
    "![''](./11_src/11_21_01.png)\n",
    "\n",
    "![''](./11_src/11_21_02.png)"
   ]
  },
  {
   "cell_type": "code",
   "execution_count": null,
   "id": "interim-selling",
   "metadata": {},
   "outputs": [],
   "source": []
  },
  {
   "cell_type": "markdown",
   "id": "pursuant-cement",
   "metadata": {},
   "source": [
    "---\n",
    "![''](./11_src/11_22_01.png)\n",
    "![''](./11_src/11_22_02.png)"
   ]
  },
  {
   "cell_type": "code",
   "execution_count": null,
   "id": "under-township",
   "metadata": {},
   "outputs": [],
   "source": []
  },
  {
   "cell_type": "code",
   "execution_count": null,
   "id": "physical-edinburgh",
   "metadata": {},
   "outputs": [],
   "source": []
  },
  {
   "cell_type": "code",
   "execution_count": null,
   "id": "signal-strip",
   "metadata": {},
   "outputs": [],
   "source": []
  }
 ],
 "metadata": {
  "kernelspec": {
   "display_name": "Python 3",
   "language": "python",
   "name": "python3"
  },
  "language_info": {
   "codemirror_mode": {
    "name": "ipython",
    "version": 3
   },
   "file_extension": ".py",
   "mimetype": "text/x-python",
   "name": "python",
   "nbconvert_exporter": "python",
   "pygments_lexer": "ipython3",
   "version": "3.9.1"
  }
 },
 "nbformat": 4,
 "nbformat_minor": 5
}
