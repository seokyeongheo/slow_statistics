{
 "cells": [
  {
   "cell_type": "code",
   "execution_count": 1,
   "id": "illegal-cannon",
   "metadata": {},
   "outputs": [],
   "source": [
    "import numpy as np\n",
    "import pandas as pd\n",
    "from scipy import stats\n",
    "\n",
    "import slow_statistic"
   ]
  },
  {
   "cell_type": "markdown",
   "id": "center-minutes",
   "metadata": {},
   "source": [
    "# 유형\n",
    "1. repeated-measure t test (using statistic)\n",
    "2. repeated-measure t test (using raw dataset)\n",
    "3. sample standard deviation/mean difference/size 와 null hypothesis 기각 여부의 관계\n",
    "4. independent-measure와 repeated-measure 비교"
   ]
  },
  {
   "cell_type": "code",
   "execution_count": null,
   "id": "worst-acceptance",
   "metadata": {},
   "outputs": [],
   "source": []
  },
  {
   "cell_type": "markdown",
   "id": "japanese-magnet",
   "metadata": {},
   "source": [
    "# repeated-measure t test (using statistic)"
   ]
  },
  {
   "cell_type": "markdown",
   "id": "competitive-consent",
   "metadata": {},
   "source": [
    "---\n",
    "![''](./11_src/11_06_01.png)\n",
    "\n",
    "![''](./11_src/11_06_02.png)"
   ]
  },
  {
   "cell_type": "code",
   "execution_count": null,
   "id": "reverse-guide",
   "metadata": {},
   "outputs": [],
   "source": []
  },
  {
   "cell_type": "markdown",
   "id": "southern-cleaner",
   "metadata": {},
   "source": [
    "---\n",
    "![''](./11_src/11_08_01.png)"
   ]
  },
  {
   "cell_type": "code",
   "execution_count": null,
   "id": "federal-daily",
   "metadata": {},
   "outputs": [],
   "source": []
  },
  {
   "cell_type": "markdown",
   "id": "atomic-daniel",
   "metadata": {},
   "source": [
    "---\n",
    "![''](./11_src/11_09_01.png)\n",
    "\n",
    "![''](./11_src/11_09_02.png)"
   ]
  },
  {
   "cell_type": "code",
   "execution_count": null,
   "id": "sharing-october",
   "metadata": {},
   "outputs": [],
   "source": []
  },
  {
   "cell_type": "markdown",
   "id": "entire-highlight",
   "metadata": {},
   "source": [
    "---\n",
    "![''](./11_src/11_10_01.png)"
   ]
  },
  {
   "cell_type": "code",
   "execution_count": null,
   "id": "forward-blade",
   "metadata": {},
   "outputs": [],
   "source": []
  },
  {
   "cell_type": "markdown",
   "id": "endangered-madagascar",
   "metadata": {},
   "source": [
    "---\n",
    "![''](./11_src/11_11_01.png)\n",
    "\n",
    "![''](./11_src/11_11_02.png)"
   ]
  },
  {
   "cell_type": "code",
   "execution_count": null,
   "id": "hungry-corruption",
   "metadata": {},
   "outputs": [],
   "source": []
  },
  {
   "cell_type": "markdown",
   "id": "norman-service",
   "metadata": {},
   "source": [
    "---\n",
    "![''](./11_src/11_12_01.png)"
   ]
  },
  {
   "cell_type": "markdown",
   "id": "australian-british",
   "metadata": {},
   "source": [
    "---\n",
    "![''](./11_src/11_13_01.png)"
   ]
  },
  {
   "cell_type": "markdown",
   "id": "centered-schedule",
   "metadata": {},
   "source": [
    "---\n",
    "![''](./11_src/11_14_01.png)\n",
    "\n",
    "![''](./11_src/11_14_02.png)"
   ]
  },
  {
   "cell_type": "code",
   "execution_count": null,
   "id": "general-football",
   "metadata": {},
   "outputs": [],
   "source": []
  },
  {
   "cell_type": "code",
   "execution_count": null,
   "id": "directed-yorkshire",
   "metadata": {},
   "outputs": [],
   "source": []
  },
  {
   "cell_type": "code",
   "execution_count": null,
   "id": "demographic-comfort",
   "metadata": {},
   "outputs": [],
   "source": []
  },
  {
   "cell_type": "markdown",
   "id": "reflected-therapy",
   "metadata": {},
   "source": [
    "# repeated-measure t test (using raw dataset)"
   ]
  },
  {
   "cell_type": "markdown",
   "id": "opposite-buying",
   "metadata": {},
   "source": [
    "---\n",
    "![''](./11_src/11_07_01.png)"
   ]
  },
  {
   "cell_type": "code",
   "execution_count": null,
   "id": "indoor-album",
   "metadata": {},
   "outputs": [],
   "source": []
  },
  {
   "cell_type": "markdown",
   "id": "sealed-sudan",
   "metadata": {},
   "source": [
    "---\n",
    "![''](./11_src/11_15_01.png)"
   ]
  },
  {
   "cell_type": "code",
   "execution_count": null,
   "id": "organizational-fusion",
   "metadata": {},
   "outputs": [],
   "source": []
  },
  {
   "cell_type": "markdown",
   "id": "thermal-march",
   "metadata": {},
   "source": [
    "---\n",
    "![''](./11_src/11_16_01.png)\n",
    "\n",
    "![''](./11_src/11_16_02.png)"
   ]
  },
  {
   "cell_type": "code",
   "execution_count": null,
   "id": "quantitative-thousand",
   "metadata": {},
   "outputs": [],
   "source": []
  },
  {
   "cell_type": "code",
   "execution_count": null,
   "id": "collected-glory",
   "metadata": {},
   "outputs": [],
   "source": []
  },
  {
   "cell_type": "markdown",
   "id": "accessible-alarm",
   "metadata": {},
   "source": [
    "# sample standard deviation/mean difference/size 와 null hypothesis 기각 여부의 관계"
   ]
  },
  {
   "cell_type": "markdown",
   "id": "organizational-copyright",
   "metadata": {},
   "source": [
    "---\n",
    "![''](./11_src/11_17_01.png)"
   ]
  },
  {
   "cell_type": "markdown",
   "id": "polar-crazy",
   "metadata": {},
   "source": [
    "---\n",
    "![''](./11_src/11_18_01.png)\n",
    "\n",
    "![''](./11_src/11_18_02.png)"
   ]
  },
  {
   "cell_type": "markdown",
   "id": "extensive-skiing",
   "metadata": {},
   "source": [
    "---\n",
    "![''](./11_src/11_19_01.png)"
   ]
  },
  {
   "cell_type": "code",
   "execution_count": null,
   "id": "portuguese-august",
   "metadata": {},
   "outputs": [],
   "source": []
  },
  {
   "cell_type": "markdown",
   "id": "boxed-stick",
   "metadata": {},
   "source": [
    "# independent-measure와 repeated-measure 비교"
   ]
  },
  {
   "cell_type": "markdown",
   "id": "statutory-chinese",
   "metadata": {},
   "source": [
    "---\n",
    "![''](./11_src/11_21_01.png)\n",
    "\n",
    "![''](./11_src/11_21_02.png)"
   ]
  },
  {
   "cell_type": "code",
   "execution_count": null,
   "id": "graduate-quebec",
   "metadata": {},
   "outputs": [],
   "source": []
  },
  {
   "cell_type": "markdown",
   "id": "athletic-regulation",
   "metadata": {},
   "source": [
    "---\n",
    "![''](./11_src/11_22_01.png)\n",
    "![''](./11_src/11_22_02.png)"
   ]
  },
  {
   "cell_type": "code",
   "execution_count": null,
   "id": "informative-richards",
   "metadata": {},
   "outputs": [],
   "source": []
  },
  {
   "cell_type": "code",
   "execution_count": null,
   "id": "neither-bowling",
   "metadata": {},
   "outputs": [],
   "source": []
  },
  {
   "cell_type": "code",
   "execution_count": null,
   "id": "silent-material",
   "metadata": {},
   "outputs": [],
   "source": []
  }
 ],
 "metadata": {
  "kernelspec": {
   "display_name": "Python 3",
   "language": "python",
   "name": "python3"
  },
  "language_info": {
   "codemirror_mode": {
    "name": "ipython",
    "version": 3
   },
   "file_extension": ".py",
   "mimetype": "text/x-python",
   "name": "python",
   "nbconvert_exporter": "python",
   "pygments_lexer": "ipython3",
   "version": "3.9.1"
  }
 },
 "nbformat": 4,
 "nbformat_minor": 5
}
