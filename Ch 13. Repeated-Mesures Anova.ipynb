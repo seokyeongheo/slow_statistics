{
 "cells": [
  {
   "cell_type": "code",
   "execution_count": 1,
   "id": "greatest-excess",
   "metadata": {},
   "outputs": [],
   "source": [
    "import numpy as np\n",
    "import pandas as pd\n",
    "from scipy import stats\n",
    "from statsmodels.stats.anova import AnovaRM\n",
    "\n",
    "import slow_statistic"
   ]
  },
  {
   "cell_type": "markdown",
   "id": "willing-treat",
   "metadata": {},
   "source": [
    "# 유형\n",
    "1. repeated-measures ANOVA (using raw dataset)\n",
    "2. sample size와 repeated-ANOVA null hypothesis 기각 여부의 관계\n",
    "3. individual difference와 repeated-ANOVA null hypothesis 기각 여부의 관계\n",
    "4. independent-measures ANOVA, repeated-measures ANOVA 비교\n",
    "5. ANOVA, t-test의 관계"
   ]
  },
  {
   "cell_type": "code",
   "execution_count": null,
   "id": "occupied-israeli",
   "metadata": {},
   "outputs": [],
   "source": []
  },
  {
   "cell_type": "markdown",
   "id": "swedish-blind",
   "metadata": {},
   "source": [
    "# repeated-measures ANOVA (using raw dataset)"
   ]
  },
  {
   "cell_type": "markdown",
   "id": "moved-talent",
   "metadata": {},
   "source": [
    "---\n",
    "![''](./13_src/13_05_01.png)"
   ]
  },
  {
   "cell_type": "code",
   "execution_count": 2,
   "id": "floating-first",
   "metadata": {},
   "outputs": [
    {
     "name": "stdout",
     "output_type": "stream",
     "text": [
      "[alpha 0.05] F_ratio:28.0, critical_region:F > 4.46\n",
      "=> null hypothesis rejection [True]\n"
     ]
    }
   ],
   "source": [
    "slow_stat = slow_statistic.Stats()\n",
    "\n",
    "n_array = [5, 5, 5]\n",
    "t_array = [5, 25, 30]\n",
    "var_array = [8, 22, 10]\n",
    "p_array = [6, 9, 18, 12, 15]\n",
    "\n",
    "slow_stat.f_oneway_rel_from_stat(n_array, t_array, var_array, p_array)"
   ]
  },
  {
   "cell_type": "code",
   "execution_count": null,
   "id": "initial-trinidad",
   "metadata": {},
   "outputs": [],
   "source": []
  },
  {
   "cell_type": "markdown",
   "id": "beginning-characteristic",
   "metadata": {},
   "source": [
    "---\n",
    "![''](./13_src/13_06_01.png)\n",
    "\n",
    "![''](./13_src/13_06_02.png)"
   ]
  },
  {
   "cell_type": "code",
   "execution_count": 3,
   "id": "worst-cinema",
   "metadata": {},
   "outputs": [
    {
     "data": {
      "text/html": [
       "<div>\n",
       "<style scoped>\n",
       "    .dataframe tbody tr th:only-of-type {\n",
       "        vertical-align: middle;\n",
       "    }\n",
       "\n",
       "    .dataframe tbody tr th {\n",
       "        vertical-align: top;\n",
       "    }\n",
       "\n",
       "    .dataframe thead th {\n",
       "        text-align: right;\n",
       "    }\n",
       "</style>\n",
       "<table border=\"1\" class=\"dataframe\">\n",
       "  <thead>\n",
       "    <tr style=\"text-align: right;\">\n",
       "      <th></th>\n",
       "      <th>A</th>\n",
       "      <th>B</th>\n",
       "      <th>C</th>\n",
       "      <th>D</th>\n",
       "    </tr>\n",
       "  </thead>\n",
       "  <tbody>\n",
       "    <tr>\n",
       "      <th>0</th>\n",
       "      <td>3</td>\n",
       "      <td>4</td>\n",
       "      <td>7</td>\n",
       "      <td>6</td>\n",
       "    </tr>\n",
       "    <tr>\n",
       "      <th>1</th>\n",
       "      <td>0</td>\n",
       "      <td>3</td>\n",
       "      <td>6</td>\n",
       "      <td>3</td>\n",
       "    </tr>\n",
       "    <tr>\n",
       "      <th>2</th>\n",
       "      <td>2</td>\n",
       "      <td>1</td>\n",
       "      <td>5</td>\n",
       "      <td>4</td>\n",
       "    </tr>\n",
       "    <tr>\n",
       "      <th>3</th>\n",
       "      <td>0</td>\n",
       "      <td>1</td>\n",
       "      <td>4</td>\n",
       "      <td>3</td>\n",
       "    </tr>\n",
       "    <tr>\n",
       "      <th>4</th>\n",
       "      <td>0</td>\n",
       "      <td>1</td>\n",
       "      <td>3</td>\n",
       "      <td>4</td>\n",
       "    </tr>\n",
       "  </tbody>\n",
       "</table>\n",
       "</div>"
      ],
      "text/plain": [
       "   A  B  C  D\n",
       "0  3  4  7  6\n",
       "1  0  3  6  3\n",
       "2  2  1  5  4\n",
       "3  0  1  4  3\n",
       "4  0  1  3  4"
      ]
     },
     "execution_count": 3,
     "metadata": {},
     "output_type": "execute_result"
    }
   ],
   "source": [
    "exp_df = pd.DataFrame({'A':[3, 0, 2, 0, 0], \n",
    "                       'B':[4, 3, 1, 1, 1], \n",
    "                       'C':[7, 6, 5, 4, 3], \n",
    "                       'D':[6, 3, 4, 3, 4]})\n",
    "exp_df"
   ]
  },
  {
   "cell_type": "code",
   "execution_count": 22,
   "id": "loved-individual",
   "metadata": {},
   "outputs": [],
   "source": [
    "exp_df_r = []\n",
    "for i in exp_df.index:\n",
    "    exp_df_sub = exp_df.loc[i].reset_index()\n",
    "    exp_df_sub.insert(0, 'Person', i)\n",
    "    exp_df_sub.columns = ['Person', 'Treatment', 'Score']\n",
    "    exp_df_r.append(exp_df_sub)\n",
    "exp_df_rv = pd.concat(exp_df_r, sort=False)"
   ]
  },
  {
   "cell_type": "code",
   "execution_count": null,
   "id": "enhanced-xerox",
   "metadata": {},
   "outputs": [],
   "source": []
  },
  {
   "cell_type": "code",
   "execution_count": 10,
   "id": "refined-prescription",
   "metadata": {},
   "outputs": [
    {
     "name": "stdout",
     "output_type": "stream",
     "text": [
      "[alpha 0.05] F_ratio:25.000000000000004, critical_region:F > 3.49\n",
      "=> null hypothesis rejection [True]\n"
     ]
    }
   ],
   "source": [
    "slow_stat = slow_statistic.Stats()\n",
    "\n",
    "n_array = exp_df.count(axis=0).to_list()\n",
    "t_array = exp_df.sum(axis=0).to_list()\n",
    "var_array = exp_df.var(axis=0).to_list()\n",
    "p_array = exp_df.sum(axis=1).to_list()\n",
    "\n",
    "slow_stat.f_oneway_rel_from_stat(n_array, t_array, var_array, p_array, var_type='variance')"
   ]
  },
  {
   "cell_type": "code",
   "execution_count": null,
   "id": "yellow-sympathy",
   "metadata": {},
   "outputs": [],
   "source": []
  },
  {
   "cell_type": "code",
   "execution_count": 23,
   "id": "conscious-aviation",
   "metadata": {},
   "outputs": [
    {
     "name": "stdout",
     "output_type": "stream",
     "text": [
      "                 Anova\n",
      "=======================================\n",
      "          F Value Num DF  Den DF Pr > F\n",
      "---------------------------------------\n",
      "Treatment 25.0000 3.0000 12.0000 0.0000\n",
      "=======================================\n",
      "\n"
     ]
    }
   ],
   "source": [
    "print(AnovaRM(data=exp_df_rv, depvar='Score', subject='Person', within=['Treatment']).fit())"
   ]
  },
  {
   "cell_type": "code",
   "execution_count": null,
   "id": "interpreted-soundtrack",
   "metadata": {},
   "outputs": [],
   "source": []
  },
  {
   "cell_type": "markdown",
   "id": "processed-arlington",
   "metadata": {},
   "source": [
    "---\n",
    "![''](./13_src/13_20_01.png)"
   ]
  },
  {
   "cell_type": "code",
   "execution_count": 24,
   "id": "meaning-hawaii",
   "metadata": {},
   "outputs": [
    {
     "data": {
      "text/html": [
       "<div>\n",
       "<style scoped>\n",
       "    .dataframe tbody tr th:only-of-type {\n",
       "        vertical-align: middle;\n",
       "    }\n",
       "\n",
       "    .dataframe tbody tr th {\n",
       "        vertical-align: top;\n",
       "    }\n",
       "\n",
       "    .dataframe thead th {\n",
       "        text-align: right;\n",
       "    }\n",
       "</style>\n",
       "<table border=\"1\" class=\"dataframe\">\n",
       "  <thead>\n",
       "    <tr style=\"text-align: right;\">\n",
       "      <th></th>\n",
       "      <th>A</th>\n",
       "      <th>B</th>\n",
       "      <th>C</th>\n",
       "    </tr>\n",
       "  </thead>\n",
       "  <tbody>\n",
       "    <tr>\n",
       "      <th>0</th>\n",
       "      <td>6</td>\n",
       "      <td>8</td>\n",
       "      <td>10</td>\n",
       "    </tr>\n",
       "    <tr>\n",
       "      <th>1</th>\n",
       "      <td>4</td>\n",
       "      <td>5</td>\n",
       "      <td>6</td>\n",
       "    </tr>\n",
       "    <tr>\n",
       "      <th>2</th>\n",
       "      <td>5</td>\n",
       "      <td>5</td>\n",
       "      <td>5</td>\n",
       "    </tr>\n",
       "    <tr>\n",
       "      <th>3</th>\n",
       "      <td>1</td>\n",
       "      <td>2</td>\n",
       "      <td>3</td>\n",
       "    </tr>\n",
       "    <tr>\n",
       "      <th>4</th>\n",
       "      <td>0</td>\n",
       "      <td>1</td>\n",
       "      <td>2</td>\n",
       "    </tr>\n",
       "    <tr>\n",
       "      <th>5</th>\n",
       "      <td>2</td>\n",
       "      <td>3</td>\n",
       "      <td>4</td>\n",
       "    </tr>\n",
       "  </tbody>\n",
       "</table>\n",
       "</div>"
      ],
      "text/plain": [
       "   A  B   C\n",
       "0  6  8  10\n",
       "1  4  5   6\n",
       "2  5  5   5\n",
       "3  1  2   3\n",
       "4  0  1   2\n",
       "5  2  3   4"
      ]
     },
     "execution_count": 24,
     "metadata": {},
     "output_type": "execute_result"
    }
   ],
   "source": [
    "exp_df = pd.DataFrame({'A':[6, 4, 5, 1, 0, 2], \n",
    "                       'B':[8, 5, 5, 2, 1, 3], \n",
    "                       'C':[10, 6, 5, 3, 2, 4]})\n",
    "exp_df"
   ]
  },
  {
   "cell_type": "code",
   "execution_count": 25,
   "id": "focused-potential",
   "metadata": {},
   "outputs": [],
   "source": [
    "exp_df_r = []\n",
    "for i in exp_df.index:\n",
    "    exp_df_sub = exp_df.loc[i].reset_index()\n",
    "    exp_df_sub.insert(0, 'Person', i)\n",
    "    exp_df_sub.columns = ['Person', 'Treatment', 'Score']\n",
    "    exp_df_r.append(exp_df_sub)\n",
    "exp_df_rv = pd.concat(exp_df_r, sort=False)"
   ]
  },
  {
   "cell_type": "code",
   "execution_count": 26,
   "id": "computational-variable",
   "metadata": {},
   "outputs": [
    {
     "data": {
      "text/html": [
       "<div>\n",
       "<style scoped>\n",
       "    .dataframe tbody tr th:only-of-type {\n",
       "        vertical-align: middle;\n",
       "    }\n",
       "\n",
       "    .dataframe tbody tr th {\n",
       "        vertical-align: top;\n",
       "    }\n",
       "\n",
       "    .dataframe thead th {\n",
       "        text-align: right;\n",
       "    }\n",
       "</style>\n",
       "<table border=\"1\" class=\"dataframe\">\n",
       "  <thead>\n",
       "    <tr style=\"text-align: right;\">\n",
       "      <th></th>\n",
       "      <th>Person</th>\n",
       "      <th>Treatment</th>\n",
       "      <th>Score</th>\n",
       "    </tr>\n",
       "  </thead>\n",
       "  <tbody>\n",
       "    <tr>\n",
       "      <th>0</th>\n",
       "      <td>0</td>\n",
       "      <td>A</td>\n",
       "      <td>6</td>\n",
       "    </tr>\n",
       "    <tr>\n",
       "      <th>1</th>\n",
       "      <td>0</td>\n",
       "      <td>B</td>\n",
       "      <td>8</td>\n",
       "    </tr>\n",
       "    <tr>\n",
       "      <th>2</th>\n",
       "      <td>0</td>\n",
       "      <td>C</td>\n",
       "      <td>10</td>\n",
       "    </tr>\n",
       "    <tr>\n",
       "      <th>0</th>\n",
       "      <td>1</td>\n",
       "      <td>A</td>\n",
       "      <td>4</td>\n",
       "    </tr>\n",
       "    <tr>\n",
       "      <th>1</th>\n",
       "      <td>1</td>\n",
       "      <td>B</td>\n",
       "      <td>5</td>\n",
       "    </tr>\n",
       "    <tr>\n",
       "      <th>2</th>\n",
       "      <td>1</td>\n",
       "      <td>C</td>\n",
       "      <td>6</td>\n",
       "    </tr>\n",
       "    <tr>\n",
       "      <th>0</th>\n",
       "      <td>2</td>\n",
       "      <td>A</td>\n",
       "      <td>5</td>\n",
       "    </tr>\n",
       "    <tr>\n",
       "      <th>1</th>\n",
       "      <td>2</td>\n",
       "      <td>B</td>\n",
       "      <td>5</td>\n",
       "    </tr>\n",
       "    <tr>\n",
       "      <th>2</th>\n",
       "      <td>2</td>\n",
       "      <td>C</td>\n",
       "      <td>5</td>\n",
       "    </tr>\n",
       "    <tr>\n",
       "      <th>0</th>\n",
       "      <td>3</td>\n",
       "      <td>A</td>\n",
       "      <td>1</td>\n",
       "    </tr>\n",
       "    <tr>\n",
       "      <th>1</th>\n",
       "      <td>3</td>\n",
       "      <td>B</td>\n",
       "      <td>2</td>\n",
       "    </tr>\n",
       "    <tr>\n",
       "      <th>2</th>\n",
       "      <td>3</td>\n",
       "      <td>C</td>\n",
       "      <td>3</td>\n",
       "    </tr>\n",
       "    <tr>\n",
       "      <th>0</th>\n",
       "      <td>4</td>\n",
       "      <td>A</td>\n",
       "      <td>0</td>\n",
       "    </tr>\n",
       "    <tr>\n",
       "      <th>1</th>\n",
       "      <td>4</td>\n",
       "      <td>B</td>\n",
       "      <td>1</td>\n",
       "    </tr>\n",
       "    <tr>\n",
       "      <th>2</th>\n",
       "      <td>4</td>\n",
       "      <td>C</td>\n",
       "      <td>2</td>\n",
       "    </tr>\n",
       "    <tr>\n",
       "      <th>0</th>\n",
       "      <td>5</td>\n",
       "      <td>A</td>\n",
       "      <td>2</td>\n",
       "    </tr>\n",
       "    <tr>\n",
       "      <th>1</th>\n",
       "      <td>5</td>\n",
       "      <td>B</td>\n",
       "      <td>3</td>\n",
       "    </tr>\n",
       "    <tr>\n",
       "      <th>2</th>\n",
       "      <td>5</td>\n",
       "      <td>C</td>\n",
       "      <td>4</td>\n",
       "    </tr>\n",
       "  </tbody>\n",
       "</table>\n",
       "</div>"
      ],
      "text/plain": [
       "   Person Treatment  Score\n",
       "0       0         A      6\n",
       "1       0         B      8\n",
       "2       0         C     10\n",
       "0       1         A      4\n",
       "1       1         B      5\n",
       "2       1         C      6\n",
       "0       2         A      5\n",
       "1       2         B      5\n",
       "2       2         C      5\n",
       "0       3         A      1\n",
       "1       3         B      2\n",
       "2       3         C      3\n",
       "0       4         A      0\n",
       "1       4         B      1\n",
       "2       4         C      2\n",
       "0       5         A      2\n",
       "1       5         B      3\n",
       "2       5         C      4"
      ]
     },
     "execution_count": 26,
     "metadata": {},
     "output_type": "execute_result"
    }
   ],
   "source": [
    "exp_df_rv"
   ]
  },
  {
   "cell_type": "code",
   "execution_count": null,
   "id": "considerable-inspector",
   "metadata": {},
   "outputs": [],
   "source": []
  },
  {
   "cell_type": "code",
   "execution_count": 27,
   "id": "armed-pregnancy",
   "metadata": {},
   "outputs": [
    {
     "name": "stdout",
     "output_type": "stream",
     "text": [
      "[alpha 0.05] F_ratio:15.0, critical_region:F > 4.1\n",
      "=> null hypothesis rejection [True]\n"
     ]
    }
   ],
   "source": [
    "slow_stat = slow_statistic.Stats()\n",
    "\n",
    "n_array = exp_df.count(axis=0).to_list()\n",
    "t_array = exp_df.sum(axis=0).to_list()\n",
    "var_array = exp_df.var(axis=0).to_list()\n",
    "p_array = exp_df.sum(axis=1).to_list()\n",
    "\n",
    "slow_stat.f_oneway_rel_from_stat(n_array, t_array, var_array, p_array, var_type='variance')"
   ]
  },
  {
   "cell_type": "code",
   "execution_count": null,
   "id": "proud-evaluation",
   "metadata": {},
   "outputs": [],
   "source": []
  },
  {
   "cell_type": "code",
   "execution_count": 28,
   "id": "automotive-support",
   "metadata": {},
   "outputs": [
    {
     "name": "stdout",
     "output_type": "stream",
     "text": [
      "                 Anova\n",
      "=======================================\n",
      "          F Value Num DF  Den DF Pr > F\n",
      "---------------------------------------\n",
      "Treatment 15.0000 2.0000 10.0000 0.0010\n",
      "=======================================\n",
      "\n"
     ]
    }
   ],
   "source": [
    "print(AnovaRM(data=exp_df_rv, depvar='Score', subject='Person', within=['Treatment']).fit())"
   ]
  },
  {
   "cell_type": "code",
   "execution_count": null,
   "id": "missing-centre",
   "metadata": {},
   "outputs": [],
   "source": []
  },
  {
   "cell_type": "markdown",
   "id": "hispanic-agreement",
   "metadata": {},
   "source": [
    "# sample size와 repeated-ANOVA null hypothesis 기각 여부의 관계"
   ]
  },
  {
   "cell_type": "markdown",
   "id": "dirty-people",
   "metadata": {},
   "source": [
    "---\n",
    "![''](./13_src/13_17_01.png)\n",
    "\n",
    "![''](./13_src/13_17_02.png)"
   ]
  },
  {
   "cell_type": "code",
   "execution_count": 32,
   "id": "complimentary-plenty",
   "metadata": {},
   "outputs": [],
   "source": [
    "exp_df = pd.DataFrame({'A':[1, 4, 2, 1], \n",
    "                       'B':[4, 8, 7, 5], \n",
    "                       'C':[7, 6, 9, 6]})\n",
    "exp_df_r = []\n",
    "for i in exp_df.index:\n",
    "    exp_df_sub = exp_df.loc[i].reset_index()\n",
    "    exp_df_sub.insert(0, 'Person', i)\n",
    "    exp_df_sub.columns = ['Person', 'Treatment', 'Score']\n",
    "    exp_df_r.append(exp_df_sub)\n",
    "exp_df_rv = pd.concat(exp_df_r, sort=False)"
   ]
  },
  {
   "cell_type": "code",
   "execution_count": null,
   "id": "under-plastic",
   "metadata": {},
   "outputs": [],
   "source": []
  },
  {
   "cell_type": "code",
   "execution_count": 33,
   "id": "settled-lender",
   "metadata": {},
   "outputs": [
    {
     "name": "stdout",
     "output_type": "stream",
     "text": [
      "[alpha 0.05] F_ratio:16.8, critical_region:F > 5.14\n",
      "=> null hypothesis rejection [True]\n"
     ]
    }
   ],
   "source": [
    "slow_stat = slow_statistic.Stats()\n",
    "\n",
    "n_array = exp_df.count(axis=0).to_list()\n",
    "t_array = exp_df.sum(axis=0).to_list()\n",
    "var_array = exp_df.var(axis=0).to_list()\n",
    "p_array = exp_df.sum(axis=1).to_list()\n",
    "\n",
    "slow_stat.f_oneway_rel_from_stat(n_array, t_array, var_array, p_array, var_type='variance')"
   ]
  },
  {
   "cell_type": "code",
   "execution_count": null,
   "id": "quiet-addition",
   "metadata": {},
   "outputs": [],
   "source": []
  },
  {
   "cell_type": "code",
   "execution_count": 34,
   "id": "opposite-methodology",
   "metadata": {},
   "outputs": [
    {
     "name": "stdout",
     "output_type": "stream",
     "text": [
      "                Anova\n",
      "======================================\n",
      "          F Value Num DF Den DF Pr > F\n",
      "--------------------------------------\n",
      "Treatment 16.8000 2.0000 6.0000 0.0035\n",
      "======================================\n",
      "\n"
     ]
    }
   ],
   "source": [
    "print(AnovaRM(data=exp_df_rv, depvar='Score', subject='Person', within=['Treatment']).fit())"
   ]
  },
  {
   "cell_type": "code",
   "execution_count": null,
   "id": "auburn-glasgow",
   "metadata": {},
   "outputs": [],
   "source": []
  },
  {
   "cell_type": "code",
   "execution_count": null,
   "id": "stretch-mistake",
   "metadata": {},
   "outputs": [],
   "source": []
  },
  {
   "cell_type": "code",
   "execution_count": null,
   "id": "located-overhead",
   "metadata": {},
   "outputs": [],
   "source": []
  },
  {
   "cell_type": "code",
   "execution_count": 36,
   "id": "authorized-vulnerability",
   "metadata": {},
   "outputs": [],
   "source": [
    "exp_df = pd.DataFrame({'A':[1, 4, 2, 1] * 2, \n",
    "                       'B':[4, 8, 7, 5] * 2, \n",
    "                       'C':[7, 6, 9, 6] * 2})\n",
    "exp_df_r = []\n",
    "for i in exp_df.index:\n",
    "    exp_df_sub = exp_df.loc[i].reset_index()\n",
    "    exp_df_sub.insert(0, 'Person', i)\n",
    "    exp_df_sub.columns = ['Person', 'Treatment', 'Score']\n",
    "    exp_df_r.append(exp_df_sub)\n",
    "exp_df_rv = pd.concat(exp_df_r, sort=False)"
   ]
  },
  {
   "cell_type": "code",
   "execution_count": null,
   "id": "first-interview",
   "metadata": {},
   "outputs": [],
   "source": []
  },
  {
   "cell_type": "code",
   "execution_count": 37,
   "id": "celtic-lloyd",
   "metadata": {},
   "outputs": [
    {
     "name": "stdout",
     "output_type": "stream",
     "text": [
      "[alpha 0.05] F_ratio:39.199999999999996, critical_region:F > 3.74\n",
      "=> null hypothesis rejection [True]\n"
     ]
    }
   ],
   "source": [
    "slow_stat = slow_statistic.Stats()\n",
    "\n",
    "n_array = exp_df.count(axis=0).to_list()\n",
    "t_array = exp_df.sum(axis=0).to_list()\n",
    "var_array = exp_df.var(axis=0).to_list()\n",
    "p_array = exp_df.sum(axis=1).to_list()\n",
    "\n",
    "slow_stat.f_oneway_rel_from_stat(n_array, t_array, var_array, p_array, var_type='variance')"
   ]
  },
  {
   "cell_type": "code",
   "execution_count": null,
   "id": "intellectual-channels",
   "metadata": {},
   "outputs": [],
   "source": []
  },
  {
   "cell_type": "code",
   "execution_count": 38,
   "id": "public-structure",
   "metadata": {},
   "outputs": [
    {
     "name": "stdout",
     "output_type": "stream",
     "text": [
      "                 Anova\n",
      "=======================================\n",
      "          F Value Num DF  Den DF Pr > F\n",
      "---------------------------------------\n",
      "Treatment 39.2000 2.0000 14.0000 0.0000\n",
      "=======================================\n",
      "\n"
     ]
    }
   ],
   "source": [
    "print(AnovaRM(data=exp_df_rv, depvar='Score', subject='Person', within=['Treatment']).fit())"
   ]
  },
  {
   "cell_type": "code",
   "execution_count": null,
   "id": "sustainable-agenda",
   "metadata": {},
   "outputs": [],
   "source": []
  },
  {
   "cell_type": "code",
   "execution_count": null,
   "id": "wound-atlas",
   "metadata": {},
   "outputs": [],
   "source": []
  },
  {
   "cell_type": "code",
   "execution_count": null,
   "id": "formal-chancellor",
   "metadata": {},
   "outputs": [],
   "source": []
  },
  {
   "cell_type": "code",
   "execution_count": null,
   "id": "color-layout",
   "metadata": {},
   "outputs": [],
   "source": []
  },
  {
   "cell_type": "markdown",
   "id": "seventh-directive",
   "metadata": {},
   "source": [
    "# individual difference와 repeated-ANOVA null hypothesis 기각 여부의 관계"
   ]
  },
  {
   "cell_type": "markdown",
   "id": "fatty-indicator",
   "metadata": {},
   "source": [
    "---\n",
    "![''](./13_src/13_18_01.png)"
   ]
  },
  {
   "cell_type": "code",
   "execution_count": null,
   "id": "german-heaven",
   "metadata": {},
   "outputs": [],
   "source": []
  },
  {
   "cell_type": "markdown",
   "id": "absolute-alignment",
   "metadata": {},
   "source": [
    "---\n",
    "![''](./13_src/13_19_01.png)\n",
    "\n",
    "![''](./13_src/13_19_02.png)"
   ]
  },
  {
   "cell_type": "code",
   "execution_count": null,
   "id": "proprietary-mitchell",
   "metadata": {},
   "outputs": [],
   "source": []
  },
  {
   "cell_type": "code",
   "execution_count": null,
   "id": "tropical-wagner",
   "metadata": {},
   "outputs": [],
   "source": []
  },
  {
   "cell_type": "code",
   "execution_count": null,
   "id": "covered-emission",
   "metadata": {},
   "outputs": [],
   "source": []
  },
  {
   "cell_type": "markdown",
   "id": "auburn-germany",
   "metadata": {},
   "source": [
    "# independent-measures ANOVA, repeated-measures ANOVA 비교"
   ]
  },
  {
   "cell_type": "markdown",
   "id": "italian-christian",
   "metadata": {},
   "source": [
    "---\n",
    "![''](./13_src/13_22_01.png)"
   ]
  },
  {
   "cell_type": "code",
   "execution_count": null,
   "id": "acknowledged-security",
   "metadata": {},
   "outputs": [],
   "source": []
  },
  {
   "cell_type": "code",
   "execution_count": null,
   "id": "hourly-decline",
   "metadata": {},
   "outputs": [],
   "source": []
  },
  {
   "cell_type": "markdown",
   "id": "overall-teens",
   "metadata": {},
   "source": [
    "---\n",
    "![''](./13_src/13_23_01.png)"
   ]
  },
  {
   "cell_type": "code",
   "execution_count": null,
   "id": "vulnerable-hearing",
   "metadata": {},
   "outputs": [],
   "source": []
  },
  {
   "cell_type": "code",
   "execution_count": null,
   "id": "indie-supplier",
   "metadata": {},
   "outputs": [],
   "source": []
  },
  {
   "cell_type": "code",
   "execution_count": null,
   "id": "associate-genetics",
   "metadata": {},
   "outputs": [],
   "source": []
  },
  {
   "cell_type": "code",
   "execution_count": null,
   "id": "adopted-price",
   "metadata": {},
   "outputs": [],
   "source": []
  },
  {
   "cell_type": "code",
   "execution_count": null,
   "id": "ambient-battle",
   "metadata": {},
   "outputs": [],
   "source": []
  },
  {
   "cell_type": "markdown",
   "id": "wired-confidentiality",
   "metadata": {},
   "source": [
    "# ANOVA, t-test의 관계"
   ]
  },
  {
   "cell_type": "markdown",
   "id": "instrumental-boulder",
   "metadata": {},
   "source": [
    "---\n",
    "![''](./13_src/13_07_01.png)"
   ]
  },
  {
   "cell_type": "markdown",
   "id": "premium-smoke",
   "metadata": {},
   "source": [
    "---\n",
    "![''](./13_src/13_24_01.png)"
   ]
  },
  {
   "cell_type": "markdown",
   "id": "nasty-penguin",
   "metadata": {},
   "source": [
    "---\n",
    "![''](./13_src/13_25_01.png)\n",
    "\n",
    "![''](./13_src/13_25_02.png)"
   ]
  },
  {
   "cell_type": "markdown",
   "id": "civilian-america",
   "metadata": {},
   "source": [
    "---\n",
    "![''](./13_src/13_26_01.png)"
   ]
  },
  {
   "cell_type": "code",
   "execution_count": null,
   "id": "selected-brake",
   "metadata": {},
   "outputs": [],
   "source": []
  },
  {
   "cell_type": "code",
   "execution_count": null,
   "id": "studied-uniform",
   "metadata": {},
   "outputs": [],
   "source": []
  },
  {
   "cell_type": "code",
   "execution_count": null,
   "id": "trying-canadian",
   "metadata": {},
   "outputs": [],
   "source": []
  }
 ],
 "metadata": {
  "kernelspec": {
   "display_name": "Python 3",
   "language": "python",
   "name": "python3"
  },
  "language_info": {
   "codemirror_mode": {
    "name": "ipython",
    "version": 3
   },
   "file_extension": ".py",
   "mimetype": "text/x-python",
   "name": "python",
   "nbconvert_exporter": "python",
   "pygments_lexer": "ipython3",
   "version": "3.9.1"
  }
 },
 "nbformat": 4,
 "nbformat_minor": 5
}
