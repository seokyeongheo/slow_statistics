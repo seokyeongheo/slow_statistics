{
 "cells": [
  {
   "cell_type": "code",
   "execution_count": 2,
   "id": "mediterranean-president",
   "metadata": {},
   "outputs": [],
   "source": [
    "import numpy as np\n",
    "import pandas as pd\n",
    "from scipy import stats\n",
    "from statsmodels.stats.anova import AnovaRM\n",
    "\n",
    "import slow_statistic"
   ]
  },
  {
   "cell_type": "code",
   "execution_count": 6,
   "id": "absent-tuning",
   "metadata": {},
   "outputs": [],
   "source": [
    "from statsmodels.stats.anova import "
   ]
  },
  {
   "cell_type": "code",
   "execution_count": null,
   "id": "dominican-modification",
   "metadata": {},
   "outputs": [],
   "source": []
  },
  {
   "cell_type": "code",
   "execution_count": null,
   "id": "documentary-serbia",
   "metadata": {},
   "outputs": [],
   "source": []
  },
  {
   "cell_type": "code",
   "execution_count": null,
   "id": "color-secondary",
   "metadata": {},
   "outputs": [],
   "source": []
  },
  {
   "cell_type": "markdown",
   "id": "periodic-portsmouth",
   "metadata": {},
   "source": [
    "# 유형\n",
    "1. \n",
    "2. \n",
    "3. \n",
    "4. \n",
    "5. \n",
    "6. \n",
    "7. "
   ]
  },
  {
   "cell_type": "code",
   "execution_count": null,
   "id": "auburn-corps",
   "metadata": {},
   "outputs": [],
   "source": []
  },
  {
   "cell_type": "code",
   "execution_count": null,
   "id": "starting-remainder",
   "metadata": {},
   "outputs": [],
   "source": []
  },
  {
   "cell_type": "code",
   "execution_count": null,
   "id": "compound-disposition",
   "metadata": {},
   "outputs": [],
   "source": []
  },
  {
   "cell_type": "markdown",
   "id": "acting-council",
   "metadata": {},
   "source": [
    "---\n",
    "![''](./12_src/12_13_01.png)"
   ]
  },
  {
   "cell_type": "code",
   "execution_count": null,
   "id": "capital-myanmar",
   "metadata": {},
   "outputs": [],
   "source": []
  },
  {
   "cell_type": "code",
   "execution_count": null,
   "id": "double-location",
   "metadata": {},
   "outputs": [],
   "source": []
  },
  {
   "cell_type": "code",
   "execution_count": null,
   "id": "convinced-premiere",
   "metadata": {},
   "outputs": [],
   "source": []
  }
 ],
 "metadata": {
  "kernelspec": {
   "display_name": "Python 3",
   "language": "python",
   "name": "python3"
  },
  "language_info": {
   "codemirror_mode": {
    "name": "ipython",
    "version": 3
   },
   "file_extension": ".py",
   "mimetype": "text/x-python",
   "name": "python",
   "nbconvert_exporter": "python",
   "pygments_lexer": "ipython3",
   "version": "3.7.7"
  }
 },
 "nbformat": 4,
 "nbformat_minor": 5
}
