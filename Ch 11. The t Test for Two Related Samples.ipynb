{
 "cells": [
  {
   "cell_type": "code",
   "execution_count": 1,
   "id": "necessary-tomato",
   "metadata": {},
   "outputs": [],
   "source": [
    "import numpy as np\n",
    "import pandas as pd\n",
    "from scipy import stats\n",
    "\n",
    "import slow_statistic"
   ]
  },
  {
   "cell_type": "code",
   "execution_count": 2,
   "id": "tight-operator",
   "metadata": {
    "jupyter": {
     "source_hidden": true
    }
   },
   "outputs": [],
   "source": [
    "# def __calculate_t_statistic_rel__(M_d, SS, n):\n",
    "\n",
    "#     std_error = np.sqrt((SS / (n - 1)) / n)\n",
    "#     t_statistic = (M_d - 0) / std_error\n",
    "    \n",
    "#     return t_statistic\n",
    "\n",
    "# def __calculate_t_portion_rel__(n, alpha, tail_num):\n",
    "    \n",
    "#     df = n - 1\n",
    "#     t_portion = round(stats.t.ppf(1 - alpha/tail_num, df=df), 3)\n",
    "    \n",
    "#     return t_portion\n",
    "\n",
    "# def ttest_rel_from_stats(M_d, SS, n, alpha=0.05, tail_num=2):\n",
    "    \n",
    "#     t, cr = __calculate_t_statistic_rel__(M_d, SS, n), __calculate_t_portion_rel__(n, alpha, tail_num)\n",
    "\n",
    "#     if tail_num == 2:\n",
    "\n",
    "#         rejection_decision = (t > cr) | (t < -1 * cr)\n",
    "#         region = f't > {cr} or t < -{cr}'\n",
    "#         criteria = f'two tail, alpha {alpha}'\n",
    "\n",
    "#     elif tail_num == 1:\n",
    "\n",
    "#         if t > 0:\n",
    "\n",
    "#             rejection_decision = (t > cr)\n",
    "#             region = f't > {cr}'\n",
    "\n",
    "#         else:\n",
    "\n",
    "#             rejection_decision = (t < -1 * cr)\n",
    "#             region = f't < -{cr}'\n",
    "\n",
    "#         criteria = f'one tail, alpha {alpha}'\n",
    "\n",
    "#     else:\n",
    "#         print('Should use tail_num 1 or 2.')\n",
    "#         return None\n",
    "\n",
    "#     print(f'[{criteria}] t_statistic:{t}, critical_region:{region}\\n=> null hypothesis rejection [{rejection_decision}]')\n",
    "\n",
    "# def cohens_d_rel_from_stats(M_d, SS, n):\n",
    "    \n",
    "#     s = np.sqrt(SS / (n - 1))\n",
    "#     estimated_d = round(M_d / s, 3)\n",
    "    \n",
    "#     return estimated_d\n",
    "\n",
    "# def r_squared_rel(M_d, SS, n):\n",
    "    \n",
    "#     t_statistic = __calculate_t_statistic_rel__(M_d, SS, n)\n",
    "#     r_squared = round(t_statistic**2 / (t_statistic**2 + n - 1), 4)\n",
    "    \n",
    "#     return r_squared\n",
    "\n",
    "# def confidence_interval_rel_from_stats(M_d, SS, n, alpha=0.05, tail_num=2):\n",
    "    \n",
    "#     std_error = np.sqrt((SS / (n - 1)) / n)\n",
    "#     ci_start = round(M_d - __calculate_t_portion_rel__(n, alpha, tail_num) * std_error, 4)\n",
    "#     ci_end = round(M_d + __calculate_t_portion_rel__(n, alpha, tail_num) * std_error, 4)\n",
    "    \n",
    "#     print(f'[confidence interval] {ci_start} ~ {ci_end}')"
   ]
  },
  {
   "cell_type": "code",
   "execution_count": null,
   "id": "killing-cleveland",
   "metadata": {},
   "outputs": [],
   "source": []
  },
  {
   "cell_type": "markdown",
   "id": "descending-anderson",
   "metadata": {},
   "source": [
    "# 유형\n",
    "1. repeated-measure t test (using statistic)\n",
    "2. repeated-measure t test (using raw dataset)\n",
    "3. sample standard deviation/mean difference/size 와 null hypothesis 기각 여부의 관계\n",
    "4. independent-measure와 repeated-measure 비교"
   ]
  },
  {
   "cell_type": "code",
   "execution_count": null,
   "id": "artificial-toddler",
   "metadata": {},
   "outputs": [],
   "source": []
  },
  {
   "cell_type": "markdown",
   "id": "lucky-sandwich",
   "metadata": {},
   "source": [
    "# repeated-measure t test (using statistic)"
   ]
  },
  {
   "cell_type": "markdown",
   "id": "capable-apple",
   "metadata": {},
   "source": [
    "---\n",
    "![''](./11_src/11_06_01.png)\n",
    "\n",
    "![''](./11_src/11_06_02.png)"
   ]
  },
  {
   "cell_type": "code",
   "execution_count": 3,
   "id": "hired-garden",
   "metadata": {},
   "outputs": [
    {
     "name": "stdout",
     "output_type": "stream",
     "text": [
      "[two tail, alpha 0.05] t_statistic:2.4, critical_region:t > 2.201 or t < -2.201\n",
      "=> null hypothesis rejection [True]\n"
     ]
    }
   ],
   "source": [
    "slow_stat = slow_statistic.Stats()\n",
    "\n",
    "n = 12\n",
    "SS = 33\n",
    "M_d = 1.2\n",
    "\n",
    "slow_stat.ttest_rel_from_stats(M_d, SS, n)"
   ]
  },
  {
   "cell_type": "code",
   "execution_count": null,
   "id": "described-melbourne",
   "metadata": {},
   "outputs": [],
   "source": []
  },
  {
   "cell_type": "markdown",
   "id": "plain-bacteria",
   "metadata": {},
   "source": [
    "---\n",
    "![''](./11_src/11_08_01.png)"
   ]
  },
  {
   "cell_type": "code",
   "execution_count": 4,
   "id": "military-gauge",
   "metadata": {},
   "outputs": [
    {
     "name": "stdout",
     "output_type": "stream",
     "text": [
      "[two tail, alpha 0.05] t_statistic:3.466666666666667, critical_region:t > 2.131 or t < -2.131\n",
      "=> null hypothesis rejection [True]\n"
     ]
    }
   ],
   "source": [
    "slow_stat = slow_statistic.Stats()\n",
    "\n",
    "n = 16\n",
    "SS = 135\n",
    "M_d = 2.6\n",
    "\n",
    "slow_stat.ttest_rel_from_stats(M_d, SS, n)"
   ]
  },
  {
   "cell_type": "code",
   "execution_count": 5,
   "id": "mineral-ordinary",
   "metadata": {},
   "outputs": [
    {
     "data": {
      "text/plain": [
       "0.867"
      ]
     },
     "execution_count": 5,
     "metadata": {},
     "output_type": "execute_result"
    }
   ],
   "source": [
    "slow_stat.cohens_d_rel_from_stats(M_d, SS, n)"
   ]
  },
  {
   "cell_type": "code",
   "execution_count": null,
   "id": "furnished-finnish",
   "metadata": {},
   "outputs": [],
   "source": []
  },
  {
   "cell_type": "markdown",
   "id": "loose-compatibility",
   "metadata": {},
   "source": [
    "---\n",
    "![''](./11_src/11_09_01.png)\n",
    "\n",
    "![''](./11_src/11_09_02.png)"
   ]
  },
  {
   "cell_type": "code",
   "execution_count": 6,
   "id": "experienced-india",
   "metadata": {},
   "outputs": [
    {
     "name": "stdout",
     "output_type": "stream",
     "text": [
      "[two tail, alpha 0.05] t_statistic:2.64, critical_region:t > 2.064 or t < -2.064\n",
      "=> null hypothesis rejection [True]\n"
     ]
    }
   ],
   "source": [
    "slow_stat = slow_statistic.Stats()\n",
    "\n",
    "n = 25\n",
    "SS = 150\n",
    "M_d = 1.32\n",
    "\n",
    "slow_stat.ttest_rel_from_stats(M_d, SS, n)"
   ]
  },
  {
   "cell_type": "code",
   "execution_count": 7,
   "id": "important-minister",
   "metadata": {},
   "outputs": [
    {
     "data": {
      "text/plain": [
       "0.225"
      ]
     },
     "execution_count": 7,
     "metadata": {},
     "output_type": "execute_result"
    }
   ],
   "source": [
    "# slow_stat.cohens_d_rel_from_stats(M_d, SS, n)\n",
    "slow_stat.r_squared_rel_from_stats(M_d, SS, n)"
   ]
  },
  {
   "cell_type": "code",
   "execution_count": null,
   "id": "suspended-light",
   "metadata": {},
   "outputs": [],
   "source": []
  },
  {
   "cell_type": "markdown",
   "id": "mechanical-wildlife",
   "metadata": {},
   "source": [
    "---\n",
    "![''](./11_src/11_10_01.png)"
   ]
  },
  {
   "cell_type": "code",
   "execution_count": 8,
   "id": "pretty-addiction",
   "metadata": {},
   "outputs": [
    {
     "name": "stdout",
     "output_type": "stream",
     "text": [
      "[one tail, alpha 0.05] t_statistic:1.92, critical_region:t > 1.729\n",
      "=> null hypothesis rejection [True]\n"
     ]
    }
   ],
   "source": [
    "slow_stat = slow_statistic.Stats()\n",
    "\n",
    "n = 20\n",
    "SS = 125 * (n - 1)\n",
    "M_d = 4.8\n",
    "slow_stat.tail_num = 1\n",
    "\n",
    "slow_stat.ttest_rel_from_stats(M_d, SS, n)"
   ]
  },
  {
   "cell_type": "code",
   "execution_count": 9,
   "id": "useful-stand",
   "metadata": {},
   "outputs": [
    {
     "name": "stdout",
     "output_type": "stream",
     "text": [
      "[confidence interval] 2.6475 ~ 6.9525\n"
     ]
    }
   ],
   "source": [
    "# slow_stat.cohens_d_rel_from_stats(M_d, SS, n)\n",
    "# slow_stat.r_squared_rel_from_stats(M_d, SS, n)\n",
    "slow_stat.alpha = 0.2\n",
    "slow_stat.tail_num = 1\n",
    "\n",
    "slow_stat.confidence_interval_rel_from_stats(M_d, SS, n)"
   ]
  },
  {
   "cell_type": "code",
   "execution_count": null,
   "id": "beginning-nightlife",
   "metadata": {},
   "outputs": [],
   "source": []
  },
  {
   "cell_type": "code",
   "execution_count": null,
   "id": "ceramic-style",
   "metadata": {},
   "outputs": [],
   "source": []
  },
  {
   "cell_type": "markdown",
   "id": "printable-management",
   "metadata": {},
   "source": [
    "---\n",
    "![''](./11_src/11_11_01.png)\n",
    "\n",
    "![''](./11_src/11_11_02.png)"
   ]
  },
  {
   "cell_type": "code",
   "execution_count": 10,
   "id": "dental-dylan",
   "metadata": {},
   "outputs": [
    {
     "name": "stdout",
     "output_type": "stream",
     "text": [
      "[two tail, alpha 0.01] t_statistic:6.0, critical_region:t > 2.947 or t < -2.947\n",
      "=> null hypothesis rejection [True]\n"
     ]
    }
   ],
   "source": [
    "slow_stat = slow_statistic.Stats()\n",
    "\n",
    "n = 16\n",
    "SS = 2940\n",
    "M_d = 21\n",
    "slow_stat.alpha = 0.01\n",
    "\n",
    "slow_stat.ttest_rel_from_stats(M_d, SS, n)"
   ]
  },
  {
   "cell_type": "code",
   "execution_count": 11,
   "id": "minor-profile",
   "metadata": {},
   "outputs": [
    {
     "name": "stdout",
     "output_type": "stream",
     "text": [
      "[confidence interval] 13.5415 ~ 28.4585\n"
     ]
    }
   ],
   "source": [
    "# slow_stat.cohens_d_rel_from_stats(M_d, SS, n)\n",
    "# slow_stat.r_squared_rel_from_stats(M_d, SS, n)\n",
    "slow_stat.alpha = 0.05\n",
    "\n",
    "slow_stat.confidence_interval_rel_from_stats(M_d, SS, n)"
   ]
  },
  {
   "cell_type": "code",
   "execution_count": null,
   "id": "ranking-yellow",
   "metadata": {},
   "outputs": [],
   "source": []
  },
  {
   "cell_type": "markdown",
   "id": "reserved-radical",
   "metadata": {},
   "source": [
    "---\n",
    "![''](./11_src/11_12_01.png)"
   ]
  },
  {
   "cell_type": "code",
   "execution_count": 12,
   "id": "comparative-scanner",
   "metadata": {},
   "outputs": [
    {
     "name": "stdout",
     "output_type": "stream",
     "text": [
      "[two tail, alpha 0.01] t_statistic:6.0, critical_region:t > 2.947 or t < -2.947\n",
      "=> null hypothesis rejection [True]\n"
     ]
    }
   ],
   "source": [
    "slow_stat = slow_statistic.Stats()\n",
    "\n",
    "n = 16\n",
    "SS = 2940\n",
    "M_d = 21\n",
    "slow_stat.alpha = 0.01\n",
    "\n",
    "slow_stat.ttest_rel_from_stats(M_d, SS, n)"
   ]
  },
  {
   "cell_type": "code",
   "execution_count": 13,
   "id": "statistical-timing",
   "metadata": {},
   "outputs": [
    {
     "data": {
      "text/plain": [
       "1.5"
      ]
     },
     "execution_count": 13,
     "metadata": {},
     "output_type": "execute_result"
    }
   ],
   "source": [
    "slow_stat.alpha = 0.05\n",
    "\n",
    "slow_stat.cohens_d_rel_from_stats(M_d, SS, n)\n",
    "# slow_stat.r_squared_rel_from_stats(M_d, SS, n)\n",
    "# slow_stat.confidence_interval_rel_from_stats(M_d, SS, n)"
   ]
  },
  {
   "cell_type": "code",
   "execution_count": null,
   "id": "olympic-ratio",
   "metadata": {},
   "outputs": [],
   "source": []
  },
  {
   "cell_type": "markdown",
   "id": "european-therapist",
   "metadata": {},
   "source": [
    "---\n",
    "![''](./11_src/11_13_01.png)"
   ]
  },
  {
   "cell_type": "code",
   "execution_count": 14,
   "id": "conceptual-increase",
   "metadata": {},
   "outputs": [
    {
     "name": "stdout",
     "output_type": "stream",
     "text": [
      "[two tail, alpha 0.05] t_statistic:6.75, critical_region:t > 2.064 or t < -2.064\n",
      "=> null hypothesis rejection [True]\n"
     ]
    }
   ],
   "source": [
    "slow_stat = slow_statistic.Stats()\n",
    "\n",
    "s = 2\n",
    "n = 25\n",
    "SS = s**2 * (n - 1)\n",
    "M_d = 2.7\n",
    "\n",
    "slow_stat.ttest_rel_from_stats(M_d, SS, n)"
   ]
  },
  {
   "cell_type": "code",
   "execution_count": null,
   "id": "entire-lingerie",
   "metadata": {},
   "outputs": [],
   "source": []
  },
  {
   "cell_type": "markdown",
   "id": "negative-crystal",
   "metadata": {},
   "source": [
    "---\n",
    "![''](./11_src/11_14_01.png)\n",
    "\n",
    "![''](./11_src/11_14_02.png)"
   ]
  },
  {
   "cell_type": "code",
   "execution_count": 15,
   "id": "tutorial-spencer",
   "metadata": {},
   "outputs": [
    {
     "name": "stdout",
     "output_type": "stream",
     "text": [
      "[two tail, alpha 0.05] t_statistic:3.5, critical_region:t > 2.306 or t < -2.306\n",
      "=> null hypothesis rejection [True]\n"
     ]
    }
   ],
   "source": [
    "slow_stat = slow_statistic.Stats()\n",
    "\n",
    "n = 9\n",
    "SS = 288\n",
    "M_d = 7\n",
    "\n",
    "slow_stat.ttest_rel_from_stats(M_d, SS, n)"
   ]
  },
  {
   "cell_type": "code",
   "execution_count": 16,
   "id": "sporting-arrow",
   "metadata": {},
   "outputs": [
    {
     "name": "stdout",
     "output_type": "stream",
     "text": [
      "[confidence interval] 2.388 ~ 11.612\n"
     ]
    }
   ],
   "source": [
    "# slow_stat.alpha = 0.05\n",
    "# slow_stat.cohens_d_rel_from_stats(M_d, SS, n)\n",
    "# slow_stat.r_squared_rel_from_stats(M_d, SS, n)\n",
    "slow_stat.confidence_interval_rel_from_stats(M_d, SS, n)"
   ]
  },
  {
   "cell_type": "code",
   "execution_count": null,
   "id": "intended-cruise",
   "metadata": {},
   "outputs": [],
   "source": []
  },
  {
   "cell_type": "markdown",
   "id": "vertical-reaction",
   "metadata": {},
   "source": [
    "# repeated-measure t test (using raw dataset)"
   ]
  },
  {
   "cell_type": "markdown",
   "id": "friendly-bunny",
   "metadata": {},
   "source": [
    "---\n",
    "![''](./11_src/11_07_01.png)"
   ]
  },
  {
   "cell_type": "code",
   "execution_count": 17,
   "id": "compliant-hollow",
   "metadata": {},
   "outputs": [
    {
     "data": {
      "text/html": [
       "<div>\n",
       "<style scoped>\n",
       "    .dataframe tbody tr th:only-of-type {\n",
       "        vertical-align: middle;\n",
       "    }\n",
       "\n",
       "    .dataframe tbody tr th {\n",
       "        vertical-align: top;\n",
       "    }\n",
       "\n",
       "    .dataframe thead th {\n",
       "        text-align: right;\n",
       "    }\n",
       "</style>\n",
       "<table border=\"1\" class=\"dataframe\">\n",
       "  <thead>\n",
       "    <tr style=\"text-align: right;\">\n",
       "      <th></th>\n",
       "      <th>A</th>\n",
       "      <th>B</th>\n",
       "    </tr>\n",
       "  </thead>\n",
       "  <tbody>\n",
       "    <tr>\n",
       "      <th>0</th>\n",
       "      <td>7</td>\n",
       "      <td>8</td>\n",
       "    </tr>\n",
       "    <tr>\n",
       "      <th>1</th>\n",
       "      <td>2</td>\n",
       "      <td>9</td>\n",
       "    </tr>\n",
       "    <tr>\n",
       "      <th>2</th>\n",
       "      <td>4</td>\n",
       "      <td>6</td>\n",
       "    </tr>\n",
       "    <tr>\n",
       "      <th>3</th>\n",
       "      <td>5</td>\n",
       "      <td>7</td>\n",
       "    </tr>\n",
       "    <tr>\n",
       "      <th>4</th>\n",
       "      <td>5</td>\n",
       "      <td>6</td>\n",
       "    </tr>\n",
       "    <tr>\n",
       "      <th>5</th>\n",
       "      <td>3</td>\n",
       "      <td>8</td>\n",
       "    </tr>\n",
       "  </tbody>\n",
       "</table>\n",
       "</div>"
      ],
      "text/plain": [
       "   A  B\n",
       "0  7  8\n",
       "1  2  9\n",
       "2  4  6\n",
       "3  5  7\n",
       "4  5  6\n",
       "5  3  8"
      ]
     },
     "execution_count": 17,
     "metadata": {},
     "output_type": "execute_result"
    }
   ],
   "source": [
    "exp_df = pd.DataFrame({'A':[7, 2, 4, 5, 5, 3], \n",
    "                       'B':[8, 9, 6, 7, 6, 8]})\n",
    "exp_df"
   ]
  },
  {
   "cell_type": "code",
   "execution_count": 18,
   "id": "owned-occasions",
   "metadata": {},
   "outputs": [
    {
     "name": "stdout",
     "output_type": "stream",
     "text": [
      "[two tail, alpha 0.05] t_statistic:-3.0, critical_region:t > 2.571 or t < -2.571\n",
      "=> null hypothesis rejection [True]\n"
     ]
    }
   ],
   "source": [
    "slow_stat = slow_statistic.Stats()\n",
    "\n",
    "diff_sr = (exp_df.A - exp_df.B)\n",
    "n = len(diff_sr)\n",
    "M_d = diff_sr.mean()\n",
    "SS = np.sum([r**2 for r in diff_sr]) - (np.sum(diff_sr)**2 / n)\n",
    "\n",
    "slow_stat.ttest_rel_from_stats(M_d, SS, n)"
   ]
  },
  {
   "cell_type": "code",
   "execution_count": null,
   "id": "disturbed-diameter",
   "metadata": {},
   "outputs": [],
   "source": []
  },
  {
   "cell_type": "code",
   "execution_count": 19,
   "id": "disturbed-journal",
   "metadata": {},
   "outputs": [
    {
     "data": {
      "text/plain": [
       "Ttest_relResult(statistic=-3.0, pvalue=0.03009924789746257)"
      ]
     },
     "execution_count": 19,
     "metadata": {},
     "output_type": "execute_result"
    }
   ],
   "source": [
    "stats.ttest_rel(exp_df.A, exp_df.B)"
   ]
  },
  {
   "cell_type": "code",
   "execution_count": null,
   "id": "tropical-stupid",
   "metadata": {},
   "outputs": [],
   "source": []
  },
  {
   "cell_type": "markdown",
   "id": "desperate-essay",
   "metadata": {},
   "source": [
    "---\n",
    "![''](./11_src/11_15_01.png)"
   ]
  },
  {
   "cell_type": "code",
   "execution_count": 20,
   "id": "practical-lexington",
   "metadata": {},
   "outputs": [
    {
     "data": {
      "text/html": [
       "<div>\n",
       "<style scoped>\n",
       "    .dataframe tbody tr th:only-of-type {\n",
       "        vertical-align: middle;\n",
       "    }\n",
       "\n",
       "    .dataframe tbody tr th {\n",
       "        vertical-align: top;\n",
       "    }\n",
       "\n",
       "    .dataframe thead th {\n",
       "        text-align: right;\n",
       "    }\n",
       "</style>\n",
       "<table border=\"1\" class=\"dataframe\">\n",
       "  <thead>\n",
       "    <tr style=\"text-align: right;\">\n",
       "      <th></th>\n",
       "      <th>A</th>\n",
       "      <th>B</th>\n",
       "    </tr>\n",
       "  </thead>\n",
       "  <tbody>\n",
       "    <tr>\n",
       "      <th>0</th>\n",
       "      <td>4</td>\n",
       "      <td>7</td>\n",
       "    </tr>\n",
       "    <tr>\n",
       "      <th>1</th>\n",
       "      <td>6</td>\n",
       "      <td>7</td>\n",
       "    </tr>\n",
       "    <tr>\n",
       "      <th>2</th>\n",
       "      <td>5</td>\n",
       "      <td>8</td>\n",
       "    </tr>\n",
       "    <tr>\n",
       "      <th>3</th>\n",
       "      <td>5</td>\n",
       "      <td>9</td>\n",
       "    </tr>\n",
       "    <tr>\n",
       "      <th>4</th>\n",
       "      <td>6</td>\n",
       "      <td>9</td>\n",
       "    </tr>\n",
       "    <tr>\n",
       "      <th>5</th>\n",
       "      <td>4</td>\n",
       "      <td>7</td>\n",
       "    </tr>\n",
       "    <tr>\n",
       "      <th>6</th>\n",
       "      <td>3</td>\n",
       "      <td>9</td>\n",
       "    </tr>\n",
       "    <tr>\n",
       "      <th>7</th>\n",
       "      <td>8</td>\n",
       "      <td>9</td>\n",
       "    </tr>\n",
       "    <tr>\n",
       "      <th>8</th>\n",
       "      <td>6</td>\n",
       "      <td>9</td>\n",
       "    </tr>\n",
       "  </tbody>\n",
       "</table>\n",
       "</div>"
      ],
      "text/plain": [
       "   A  B\n",
       "0  4  7\n",
       "1  6  7\n",
       "2  5  8\n",
       "3  5  9\n",
       "4  6  9\n",
       "5  4  7\n",
       "6  3  9\n",
       "7  8  9\n",
       "8  6  9"
      ]
     },
     "execution_count": 20,
     "metadata": {},
     "output_type": "execute_result"
    }
   ],
   "source": [
    "exp_df = pd.DataFrame({'A':[4, 6, 5, 5, 6, 4, 3, 8, 6], \n",
    "                       'B':[7, 7, 8, 9, 9, 7, 9, 9, 9]})\n",
    "exp_df"
   ]
  },
  {
   "cell_type": "code",
   "execution_count": 21,
   "id": "raising-sewing",
   "metadata": {},
   "outputs": [
    {
     "name": "stdout",
     "output_type": "stream",
     "text": [
      "[two tail, alpha 0.01] t_statistic:-6.0, critical_region:t > 3.355 or t < -3.355\n",
      "=> null hypothesis rejection [True]\n"
     ]
    }
   ],
   "source": [
    "slow_stat = slow_statistic.Stats()\n",
    "\n",
    "diff_sr = (exp_df.A - exp_df.B)\n",
    "n = len(diff_sr)\n",
    "M_d = diff_sr.mean()\n",
    "SS = np.sum([r**2 for r in diff_sr]) - (np.sum(diff_sr)**2 / n)\n",
    "slow_stat.alpha = 0.01\n",
    "\n",
    "slow_stat.ttest_rel_from_stats(M_d, SS, n)"
   ]
  },
  {
   "cell_type": "code",
   "execution_count": null,
   "id": "identical-china",
   "metadata": {},
   "outputs": [],
   "source": []
  },
  {
   "cell_type": "code",
   "execution_count": 22,
   "id": "conceptual-issue",
   "metadata": {},
   "outputs": [
    {
     "data": {
      "text/plain": [
       "Ttest_relResult(statistic=-6.0, pvalue=0.0003233932218851488)"
      ]
     },
     "execution_count": 22,
     "metadata": {},
     "output_type": "execute_result"
    }
   ],
   "source": [
    "stats.ttest_rel(exp_df.A, exp_df.B)"
   ]
  },
  {
   "cell_type": "code",
   "execution_count": null,
   "id": "starting-grocery",
   "metadata": {},
   "outputs": [],
   "source": []
  },
  {
   "cell_type": "markdown",
   "id": "mathematical-trainer",
   "metadata": {},
   "source": [
    "---\n",
    "![''](./11_src/11_16_01.png)\n",
    "\n",
    "![''](./11_src/11_16_02.png)"
   ]
  },
  {
   "cell_type": "code",
   "execution_count": 23,
   "id": "handmade-mixer",
   "metadata": {},
   "outputs": [
    {
     "data": {
      "text/html": [
       "<div>\n",
       "<style scoped>\n",
       "    .dataframe tbody tr th:only-of-type {\n",
       "        vertical-align: middle;\n",
       "    }\n",
       "\n",
       "    .dataframe tbody tr th {\n",
       "        vertical-align: top;\n",
       "    }\n",
       "\n",
       "    .dataframe thead th {\n",
       "        text-align: right;\n",
       "    }\n",
       "</style>\n",
       "<table border=\"1\" class=\"dataframe\">\n",
       "  <thead>\n",
       "    <tr style=\"text-align: right;\">\n",
       "      <th></th>\n",
       "      <th>A</th>\n",
       "      <th>B</th>\n",
       "    </tr>\n",
       "  </thead>\n",
       "  <tbody>\n",
       "    <tr>\n",
       "      <th>0</th>\n",
       "      <td>94</td>\n",
       "      <td>59</td>\n",
       "    </tr>\n",
       "    <tr>\n",
       "      <th>1</th>\n",
       "      <td>70</td>\n",
       "      <td>61</td>\n",
       "    </tr>\n",
       "    <tr>\n",
       "      <th>2</th>\n",
       "      <td>52</td>\n",
       "      <td>47</td>\n",
       "    </tr>\n",
       "    <tr>\n",
       "      <th>3</th>\n",
       "      <td>83</td>\n",
       "      <td>60</td>\n",
       "    </tr>\n",
       "    <tr>\n",
       "      <th>4</th>\n",
       "      <td>46</td>\n",
       "      <td>35</td>\n",
       "    </tr>\n",
       "    <tr>\n",
       "      <th>5</th>\n",
       "      <td>117</td>\n",
       "      <td>92</td>\n",
       "    </tr>\n",
       "    <tr>\n",
       "      <th>6</th>\n",
       "      <td>69</td>\n",
       "      <td>53</td>\n",
       "    </tr>\n",
       "    <tr>\n",
       "      <th>7</th>\n",
       "      <td>39</td>\n",
       "      <td>30</td>\n",
       "    </tr>\n",
       "    <tr>\n",
       "      <th>8</th>\n",
       "      <td>51</td>\n",
       "      <td>56</td>\n",
       "    </tr>\n",
       "    <tr>\n",
       "      <th>9</th>\n",
       "      <td>73</td>\n",
       "      <td>61</td>\n",
       "    </tr>\n",
       "  </tbody>\n",
       "</table>\n",
       "</div>"
      ],
      "text/plain": [
       "     A   B\n",
       "0   94  59\n",
       "1   70  61\n",
       "2   52  47\n",
       "3   83  60\n",
       "4   46  35\n",
       "5  117  92\n",
       "6   69  53\n",
       "7   39  30\n",
       "8   51  56\n",
       "9   73  61"
      ]
     },
     "execution_count": 23,
     "metadata": {},
     "output_type": "execute_result"
    }
   ],
   "source": [
    "exp_df = pd.DataFrame({'A':[94, 70, 52, 83, 46, 117, 69, 39, 51, 73], \n",
    "                       'B':[59, 61, 47, 60, 35, 92, 53, 30, 56, 61]})\n",
    "exp_df"
   ]
  },
  {
   "cell_type": "code",
   "execution_count": 24,
   "id": "downtown-lounge",
   "metadata": {},
   "outputs": [
    {
     "name": "stdout",
     "output_type": "stream",
     "text": [
      "[two tail, alpha 0.01] t_statistic:3.913118960624632, critical_region:t > 3.25 or t < -3.25\n",
      "=> null hypothesis rejection [True]\n"
     ]
    }
   ],
   "source": [
    "slow_stat = slow_statistic.Stats()\n",
    "\n",
    "diff_sr = (exp_df.A - exp_df.B)\n",
    "n = len(diff_sr)\n",
    "M_d = diff_sr.mean()\n",
    "SS = np.sum([r**2 for r in diff_sr]) - (np.sum(diff_sr)**2 / n)\n",
    "slow_stat.alpha = 0.01\n",
    "\n",
    "slow_stat.ttest_rel_from_stats(M_d, SS, n)"
   ]
  },
  {
   "cell_type": "code",
   "execution_count": 25,
   "id": "animated-amendment",
   "metadata": {},
   "outputs": [
    {
     "data": {
      "text/plain": [
       "0.6298"
      ]
     },
     "execution_count": 25,
     "metadata": {},
     "output_type": "execute_result"
    }
   ],
   "source": [
    "# slow_stat.alpha = 0.05\n",
    "# slow_stat.cohens_d_rel_from_stats(M_d, SS, n)\n",
    "slow_stat.r_squared_rel_from_stats(M_d, SS, n)\n",
    "# slow_stat.confidence_interval_rel_from_stats(M_d, SS, n)"
   ]
  },
  {
   "cell_type": "code",
   "execution_count": null,
   "id": "collaborative-blair",
   "metadata": {},
   "outputs": [],
   "source": []
  },
  {
   "cell_type": "code",
   "execution_count": 26,
   "id": "mounted-intervention",
   "metadata": {},
   "outputs": [
    {
     "data": {
      "text/plain": [
       "Ttest_relResult(statistic=3.913118960624632, pvalue=0.00354788605082344)"
      ]
     },
     "execution_count": 26,
     "metadata": {},
     "output_type": "execute_result"
    }
   ],
   "source": [
    "stats.ttest_rel(exp_df.A, exp_df.B)"
   ]
  },
  {
   "cell_type": "code",
   "execution_count": null,
   "id": "demanding-lender",
   "metadata": {},
   "outputs": [],
   "source": []
  },
  {
   "cell_type": "code",
   "execution_count": 27,
   "id": "functional-calendar",
   "metadata": {},
   "outputs": [
    {
     "ename": "NameError",
     "evalue": "name 'r_squared_rel' is not defined",
     "output_type": "error",
     "traceback": [
      "\u001b[0;31m---------------------------------------------------------------------------\u001b[0m",
      "\u001b[0;31mNameError\u001b[0m                                 Traceback (most recent call last)",
      "\u001b[0;32m<ipython-input-27-ddbf79ab4894>\u001b[0m in \u001b[0;36m<module>\u001b[0;34m\u001b[0m\n\u001b[0;32m----> 1\u001b[0;31m \u001b[0mr_squared_rel\u001b[0m\u001b[0;34m(\u001b[0m\u001b[0mM_d\u001b[0m\u001b[0;34m,\u001b[0m \u001b[0mSS\u001b[0m\u001b[0;34m,\u001b[0m \u001b[0mn\u001b[0m\u001b[0;34m)\u001b[0m\u001b[0;34m\u001b[0m\u001b[0;34m\u001b[0m\u001b[0m\n\u001b[0m",
      "\u001b[0;31mNameError\u001b[0m: name 'r_squared_rel' is not defined"
     ]
    }
   ],
   "source": [
    "r_squared_rel(M_d, SS, n)"
   ]
  },
  {
   "cell_type": "code",
   "execution_count": null,
   "id": "amino-instrumentation",
   "metadata": {},
   "outputs": [],
   "source": []
  },
  {
   "cell_type": "markdown",
   "id": "wrong-cookbook",
   "metadata": {},
   "source": [
    "# sample standard deviation/mean difference/size 와 null hypothesis 기각 여부의 관계"
   ]
  },
  {
   "cell_type": "markdown",
   "id": "italian-confirmation",
   "metadata": {},
   "source": [
    "---\n",
    "![''](./11_src/11_17_01.png)"
   ]
  },
  {
   "cell_type": "code",
   "execution_count": 28,
   "id": "japanese-coach",
   "metadata": {},
   "outputs": [
    {
     "name": "stdout",
     "output_type": "stream",
     "text": [
      "[two tail, alpha 0.05] t_statistic:3.0, critical_region:t > 2.131 or t < -2.131\n",
      "=> null hypothesis rejection [True]\n"
     ]
    }
   ],
   "source": [
    "slow_stat = slow_statistic.Stats()\n",
    "\n",
    "s = 4\n",
    "n, M_d = 16, 3\n",
    "SS = s**2 * (n - 1)\n",
    "\n",
    "slow_stat.ttest_rel_from_stats(M_d, SS, n)"
   ]
  },
  {
   "cell_type": "code",
   "execution_count": 29,
   "id": "asian-hamilton",
   "metadata": {},
   "outputs": [
    {
     "name": "stdout",
     "output_type": "stream",
     "text": [
      "[two tail, alpha 0.05] t_statistic:1.0, critical_region:t > 2.131 or t < -2.131\n",
      "=> null hypothesis rejection [False]\n"
     ]
    }
   ],
   "source": [
    "slow_stat = slow_statistic.Stats()\n",
    "\n",
    "s = 12\n",
    "n, M_d = 16, 3\n",
    "SS = s**2 * (n - 1)\n",
    "\n",
    "slow_stat.ttest_rel_from_stats(M_d, SS, n)"
   ]
  },
  {
   "cell_type": "markdown",
   "id": "closed-failure",
   "metadata": {},
   "source": [
    "> repeated-measure t test에서, sample std가 증가하면 null hypothesis 기각 가능성이 감소한다."
   ]
  },
  {
   "cell_type": "code",
   "execution_count": null,
   "id": "analyzed-hundred",
   "metadata": {},
   "outputs": [],
   "source": []
  },
  {
   "cell_type": "markdown",
   "id": "alone-begin",
   "metadata": {},
   "source": [
    "---\n",
    "![''](./11_src/11_18_01.png)\n",
    "\n",
    "![''](./11_src/11_18_02.png)"
   ]
  },
  {
   "cell_type": "code",
   "execution_count": 30,
   "id": "touched-teacher",
   "metadata": {},
   "outputs": [
    {
     "name": "stdout",
     "output_type": "stream",
     "text": [
      "[two tail, alpha 0.05] t_statistic:2.0, critical_region:t > 2.131 or t < -2.131\n",
      "=> null hypothesis rejection [False]\n"
     ]
    }
   ],
   "source": [
    "slow_stat = slow_statistic.Stats()\n",
    "\n",
    "s = 8\n",
    "n, M_d = 16, 4\n",
    "SS = s**2 * (n - 1)\n",
    "\n",
    "slow_stat.ttest_rel_from_stats(M_d, SS, n)"
   ]
  },
  {
   "cell_type": "code",
   "execution_count": 31,
   "id": "american-spiritual",
   "metadata": {},
   "outputs": [
    {
     "name": "stdout",
     "output_type": "stream",
     "text": [
      "[two tail, alpha 0.05] t_statistic:5.0, critical_region:t > 2.131 or t < -2.131\n",
      "=> null hypothesis rejection [True]\n"
     ]
    }
   ],
   "source": [
    "slow_stat = slow_statistic.Stats()\n",
    "\n",
    "s = 8\n",
    "n, M_d = 16, 10\n",
    "SS = s**2 * (n - 1)\n",
    "\n",
    "slow_stat.ttest_rel_from_stats(M_d, SS, n)"
   ]
  },
  {
   "cell_type": "markdown",
   "id": "invisible-prince",
   "metadata": {},
   "source": [
    "> repeated-measure t test에서, sample mean difference가 증가하면 null hypothesis 기각 가능성이 증가한다."
   ]
  },
  {
   "cell_type": "code",
   "execution_count": null,
   "id": "collect-stone",
   "metadata": {},
   "outputs": [],
   "source": []
  },
  {
   "cell_type": "markdown",
   "id": "removed-georgia",
   "metadata": {},
   "source": [
    "---\n",
    "![''](./11_src/11_19_01.png)"
   ]
  },
  {
   "cell_type": "code",
   "execution_count": 32,
   "id": "scheduled-complement",
   "metadata": {},
   "outputs": [
    {
     "name": "stdout",
     "output_type": "stream",
     "text": [
      "[two tail, alpha 0.05] t_statistic:1.5, critical_region:t > 3.182 or t < -3.182\n",
      "=> null hypothesis rejection [False]\n"
     ]
    }
   ],
   "source": [
    "slow_stat = slow_statistic.Stats()\n",
    "\n",
    "s = 4\n",
    "n, M_d = 4, 3\n",
    "SS = s**2 * (n - 1)\n",
    "\n",
    "slow_stat.ttest_rel_from_stats(M_d, SS, n)"
   ]
  },
  {
   "cell_type": "code",
   "execution_count": 33,
   "id": "german-coral",
   "metadata": {},
   "outputs": [
    {
     "name": "stdout",
     "output_type": "stream",
     "text": [
      "[two tail, alpha 0.05] t_statistic:3.0, critical_region:t > 2.131 or t < -2.131\n",
      "=> null hypothesis rejection [True]\n"
     ]
    }
   ],
   "source": [
    "slow_stat = slow_statistic.Stats()\n",
    "\n",
    "s = 4\n",
    "n, M_d = 16, 3\n",
    "SS = s**2 * (n - 1)\n",
    "\n",
    "slow_stat.ttest_rel_from_stats(M_d, SS, n)"
   ]
  },
  {
   "cell_type": "markdown",
   "id": "adaptive-visit",
   "metadata": {},
   "source": [
    "> repeated-measure t test에서, sample size가 증가하면 null hypothesis 기각 가능성이 증가한다."
   ]
  },
  {
   "cell_type": "code",
   "execution_count": null,
   "id": "chicken-jamaica",
   "metadata": {},
   "outputs": [],
   "source": []
  },
  {
   "cell_type": "markdown",
   "id": "metropolitan-exhibit",
   "metadata": {},
   "source": [
    "# independent-measure와 repeated-measure 비교"
   ]
  },
  {
   "cell_type": "markdown",
   "id": "downtown-freeware",
   "metadata": {},
   "source": [
    "---\n",
    "![''](./11_src/11_21_01.png)\n",
    "![''](./11_src/11_21_02.png)"
   ]
  },
  {
   "cell_type": "code",
   "execution_count": 34,
   "id": "simplified-observer",
   "metadata": {},
   "outputs": [
    {
     "data": {
      "text/html": [
       "<div>\n",
       "<style scoped>\n",
       "    .dataframe tbody tr th:only-of-type {\n",
       "        vertical-align: middle;\n",
       "    }\n",
       "\n",
       "    .dataframe tbody tr th {\n",
       "        vertical-align: top;\n",
       "    }\n",
       "\n",
       "    .dataframe thead th {\n",
       "        text-align: right;\n",
       "    }\n",
       "</style>\n",
       "<table border=\"1\" class=\"dataframe\">\n",
       "  <thead>\n",
       "    <tr style=\"text-align: right;\">\n",
       "      <th></th>\n",
       "      <th>A</th>\n",
       "      <th>B</th>\n",
       "    </tr>\n",
       "  </thead>\n",
       "  <tbody>\n",
       "    <tr>\n",
       "      <th>0</th>\n",
       "      <td>10</td>\n",
       "      <td>13</td>\n",
       "    </tr>\n",
       "    <tr>\n",
       "      <th>1</th>\n",
       "      <td>8</td>\n",
       "      <td>6</td>\n",
       "    </tr>\n",
       "    <tr>\n",
       "      <th>2</th>\n",
       "      <td>5</td>\n",
       "      <td>9</td>\n",
       "    </tr>\n",
       "    <tr>\n",
       "      <th>3</th>\n",
       "      <td>5</td>\n",
       "      <td>6</td>\n",
       "    </tr>\n",
       "    <tr>\n",
       "      <th>4</th>\n",
       "      <td>4</td>\n",
       "      <td>6</td>\n",
       "    </tr>\n",
       "    <tr>\n",
       "      <th>5</th>\n",
       "      <td>10</td>\n",
       "      <td>14</td>\n",
       "    </tr>\n",
       "    <tr>\n",
       "      <th>6</th>\n",
       "      <td>11</td>\n",
       "      <td>13</td>\n",
       "    </tr>\n",
       "    <tr>\n",
       "      <th>7</th>\n",
       "      <td>3</td>\n",
       "      <td>5</td>\n",
       "    </tr>\n",
       "  </tbody>\n",
       "</table>\n",
       "</div>"
      ],
      "text/plain": [
       "    A   B\n",
       "0  10  13\n",
       "1   8   6\n",
       "2   5   9\n",
       "3   5   6\n",
       "4   4   6\n",
       "5  10  14\n",
       "6  11  13\n",
       "7   3   5"
      ]
     },
     "execution_count": 34,
     "metadata": {},
     "output_type": "execute_result"
    }
   ],
   "source": [
    "exp_df = pd.DataFrame({'A':[10, 8, 5, 5, 4, 10, 11, 3], \n",
    "                       'B':[13, 6, 9, 6, 6, 14, 13, 5]})\n",
    "exp_df"
   ]
  },
  {
   "cell_type": "code",
   "execution_count": null,
   "id": "mexican-today",
   "metadata": {},
   "outputs": [],
   "source": []
  },
  {
   "cell_type": "markdown",
   "id": "driven-ivory",
   "metadata": {},
   "source": [
    "#### independent-measure t-test"
   ]
  },
  {
   "cell_type": "code",
   "execution_count": 35,
   "id": "medical-karen",
   "metadata": {},
   "outputs": [
    {
     "name": "stdout",
     "output_type": "stream",
     "text": [
      "[two tail, alpha 0.05] t_statistic:-1.1547005383792517, critical_region:t > 2.145 or t < -2.145\n",
      "=> null hypothesis rejection [False]\n"
     ]
    }
   ],
   "source": [
    "slow_stat = slow_statistic.Stats()\n",
    "\n",
    "n1, n2 = len(exp_df.A), len(exp_df.B)\n",
    "M1, M2 = exp_df.A.mean(), exp_df.B.mean()\n",
    "SS1, SS2 = np.sum([r**2 for r in exp_df.A]) - (np.sum(exp_df.A)**2 / n1), np.sum([r**2 for r in exp_df.B]) - (np.sum(exp_df.B)**2 / n2)\n",
    "\n",
    "slow_stat.ttest_ind_from_stats(M1, M2, SS1, SS2, n1, n2)"
   ]
  },
  {
   "cell_type": "code",
   "execution_count": 36,
   "id": "chicken-actress",
   "metadata": {},
   "outputs": [
    {
     "data": {
      "text/plain": [
       "(7.0, 9.0)"
      ]
     },
     "execution_count": 36,
     "metadata": {},
     "output_type": "execute_result"
    }
   ],
   "source": [
    "M1, M2"
   ]
  },
  {
   "cell_type": "markdown",
   "id": "duplicate-regulation",
   "metadata": {},
   "source": [
    "#### repeated-measure t-test"
   ]
  },
  {
   "cell_type": "code",
   "execution_count": 37,
   "id": "backed-platinum",
   "metadata": {},
   "outputs": [
    {
     "data": {
      "text/plain": [
       "0    35\n",
       "1     9\n",
       "2     5\n",
       "3    23\n",
       "4    11\n",
       "5    25\n",
       "6    16\n",
       "7     9\n",
       "8    -5\n",
       "9    12\n",
       "dtype: int64"
      ]
     },
     "execution_count": 37,
     "metadata": {},
     "output_type": "execute_result"
    }
   ],
   "source": [
    "diff_sr"
   ]
  },
  {
   "cell_type": "code",
   "execution_count": 38,
   "id": "informational-chosen",
   "metadata": {},
   "outputs": [
    {
     "name": "stdout",
     "output_type": "stream",
     "text": [
      "[two tail, alpha 0.05] t_statistic:-2.9351975428213715, critical_region:t > 2.365 or t < -2.365\n",
      "=> null hypothesis rejection [True]\n"
     ]
    }
   ],
   "source": [
    "slow_stat = slow_statistic.Stats()\n",
    "\n",
    "diff_sr = (exp_df.A - exp_df.B)\n",
    "n = len(diff_sr)\n",
    "M_d = diff_sr.mean()\n",
    "SS = np.sum([r**2 for r in diff_sr]) - (np.sum(diff_sr)**2 / n)\n",
    "\n",
    "slow_stat.ttest_rel_from_stats(M_d, SS, n)"
   ]
  },
  {
   "cell_type": "code",
   "execution_count": null,
   "id": "sensitive-isaac",
   "metadata": {},
   "outputs": [],
   "source": []
  },
  {
   "cell_type": "markdown",
   "id": "played-mortgage",
   "metadata": {},
   "source": [
    "---\n",
    "![''](./11_src/11_22_01.png)\n",
    "![''](./11_src/11_22_02.png)"
   ]
  },
  {
   "cell_type": "code",
   "execution_count": 39,
   "id": "black-bobby",
   "metadata": {},
   "outputs": [
    {
     "data": {
      "text/html": [
       "<div>\n",
       "<style scoped>\n",
       "    .dataframe tbody tr th:only-of-type {\n",
       "        vertical-align: middle;\n",
       "    }\n",
       "\n",
       "    .dataframe tbody tr th {\n",
       "        vertical-align: top;\n",
       "    }\n",
       "\n",
       "    .dataframe thead th {\n",
       "        text-align: right;\n",
       "    }\n",
       "</style>\n",
       "<table border=\"1\" class=\"dataframe\">\n",
       "  <thead>\n",
       "    <tr style=\"text-align: right;\">\n",
       "      <th></th>\n",
       "      <th>A</th>\n",
       "      <th>B</th>\n",
       "    </tr>\n",
       "  </thead>\n",
       "  <tbody>\n",
       "    <tr>\n",
       "      <th>0</th>\n",
       "      <td>10</td>\n",
       "      <td>13</td>\n",
       "    </tr>\n",
       "    <tr>\n",
       "      <th>1</th>\n",
       "      <td>8</td>\n",
       "      <td>14</td>\n",
       "    </tr>\n",
       "    <tr>\n",
       "      <th>2</th>\n",
       "      <td>5</td>\n",
       "      <td>13</td>\n",
       "    </tr>\n",
       "    <tr>\n",
       "      <th>3</th>\n",
       "      <td>5</td>\n",
       "      <td>5</td>\n",
       "    </tr>\n",
       "    <tr>\n",
       "      <th>4</th>\n",
       "      <td>4</td>\n",
       "      <td>9</td>\n",
       "    </tr>\n",
       "    <tr>\n",
       "      <th>5</th>\n",
       "      <td>10</td>\n",
       "      <td>6</td>\n",
       "    </tr>\n",
       "    <tr>\n",
       "      <th>6</th>\n",
       "      <td>11</td>\n",
       "      <td>6</td>\n",
       "    </tr>\n",
       "    <tr>\n",
       "      <th>7</th>\n",
       "      <td>3</td>\n",
       "      <td>6</td>\n",
       "    </tr>\n",
       "  </tbody>\n",
       "</table>\n",
       "</div>"
      ],
      "text/plain": [
       "    A   B\n",
       "0  10  13\n",
       "1   8  14\n",
       "2   5  13\n",
       "3   5   5\n",
       "4   4   9\n",
       "5  10   6\n",
       "6  11   6\n",
       "7   3   6"
      ]
     },
     "execution_count": 39,
     "metadata": {},
     "output_type": "execute_result"
    }
   ],
   "source": [
    "exp_df = pd.DataFrame({'A':[10, 8, 5, 5, 4, 10, 11, 3], \n",
    "                       'B':[13, 14, 13, 5, 9, 6, 6, 6]})\n",
    "exp_df"
   ]
  },
  {
   "cell_type": "code",
   "execution_count": null,
   "id": "political-resort",
   "metadata": {},
   "outputs": [],
   "source": []
  },
  {
   "cell_type": "markdown",
   "id": "killing-discretion",
   "metadata": {},
   "source": [
    "#### independent-measure t-test"
   ]
  },
  {
   "cell_type": "code",
   "execution_count": 40,
   "id": "annoying-hours",
   "metadata": {},
   "outputs": [
    {
     "name": "stdout",
     "output_type": "stream",
     "text": [
      "[two tail, alpha 0.05] t_statistic:-1.1547005383792517, critical_region:t > 2.145 or t < -2.145\n",
      "=> null hypothesis rejection [False]\n"
     ]
    }
   ],
   "source": [
    "slow_stat = slow_statistic.Stats()\n",
    "\n",
    "n1, n2 = len(exp_df.A), len(exp_df.B)\n",
    "M1, M2 = exp_df.A.mean(), exp_df.B.mean()\n",
    "SS1, SS2 = np.sum([r**2 for r in exp_df.A]) - (np.sum(exp_df.A)**2 / n1), np.sum([r**2 for r in exp_df.B]) - (np.sum(exp_df.B)**2 / n2)\n",
    "\n",
    "slow_stat.ttest_ind_from_stats(M1, M2, SS1, SS2, n1, n2)"
   ]
  },
  {
   "cell_type": "code",
   "execution_count": 41,
   "id": "official-eight",
   "metadata": {},
   "outputs": [
    {
     "data": {
      "text/plain": [
       "(7.0, 9.0)"
      ]
     },
     "execution_count": 41,
     "metadata": {},
     "output_type": "execute_result"
    }
   ],
   "source": [
    "M1, M2"
   ]
  },
  {
   "cell_type": "markdown",
   "id": "forced-fluid",
   "metadata": {},
   "source": [
    "#### repeated-measure t-test"
   ]
  },
  {
   "cell_type": "code",
   "execution_count": 42,
   "id": "mineral-awareness",
   "metadata": {},
   "outputs": [
    {
     "data": {
      "text/plain": [
       "0   -3\n",
       "1    2\n",
       "2   -4\n",
       "3   -1\n",
       "4   -2\n",
       "5   -4\n",
       "6   -2\n",
       "7   -2\n",
       "dtype: int64"
      ]
     },
     "execution_count": 42,
     "metadata": {},
     "output_type": "execute_result"
    }
   ],
   "source": [
    "diff_sr"
   ]
  },
  {
   "cell_type": "code",
   "execution_count": 43,
   "id": "confirmed-newcastle",
   "metadata": {},
   "outputs": [
    {
     "name": "stdout",
     "output_type": "stream",
     "text": [
      "[two tail, alpha 0.05] t_statistic:-1.2139539573337679, critical_region:t > 2.365 or t < -2.365\n",
      "=> null hypothesis rejection [False]\n"
     ]
    }
   ],
   "source": [
    "slow_stat = slow_statistic.Stats()\n",
    "\n",
    "diff_sr = (exp_df.A - exp_df.B)\n",
    "n = len(diff_sr)\n",
    "M_d = diff_sr.mean()\n",
    "SS = np.sum([r**2 for r in diff_sr]) - (np.sum(diff_sr)**2 / n)\n",
    "\n",
    "slow_stat.ttest_rel_from_stats(M_d, SS, n)"
   ]
  },
  {
   "cell_type": "code",
   "execution_count": null,
   "id": "allied-longitude",
   "metadata": {},
   "outputs": [],
   "source": []
  },
  {
   "cell_type": "code",
   "execution_count": null,
   "id": "verbal-separation",
   "metadata": {},
   "outputs": [],
   "source": []
  },
  {
   "cell_type": "code",
   "execution_count": null,
   "id": "sealed-wallpaper",
   "metadata": {},
   "outputs": [],
   "source": []
  }
 ],
 "metadata": {
  "kernelspec": {
   "display_name": "Python 3",
   "language": "python",
   "name": "python3"
  },
  "language_info": {
   "codemirror_mode": {
    "name": "ipython",
    "version": 3
   },
   "file_extension": ".py",
   "mimetype": "text/x-python",
   "name": "python",
   "nbconvert_exporter": "python",
   "pygments_lexer": "ipython3",
   "version": "3.9.1"
  }
 },
 "nbformat": 4,
 "nbformat_minor": 5
}
