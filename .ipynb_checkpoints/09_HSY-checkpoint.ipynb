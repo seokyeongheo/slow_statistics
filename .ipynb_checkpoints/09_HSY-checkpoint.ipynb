{
 "cells": [
  {
   "cell_type": "code",
   "execution_count": 1,
   "id": "authentic-spokesman",
   "metadata": {},
   "outputs": [],
   "source": [
    "import numpy as np\n",
    "import pandas as pd\n",
    "from scipy import stats"
   ]
  },
  {
   "cell_type": "code",
   "execution_count": 2,
   "id": "valid-guidance",
   "metadata": {},
   "outputs": [],
   "source": [
    "# stats.t.ppf?"
   ]
  },
  {
   "cell_type": "code",
   "execution_count": 42,
   "id": "junior-enclosure",
   "metadata": {},
   "outputs": [],
   "source": [
    "def calculate_t_statistic(n, mu, std, M):\n",
    "    se = std / np.sqrt(n)\n",
    "    return round((M - mu) / se, 2)\n",
    "\n",
    "def calculate_t_portion(n, alpha, tail_num):\n",
    "    df = n - 1\n",
    "    return round(stats.t.ppf(1 - alpha/tail_num, df=df), 3)\n",
    "\n",
    "def calculate_r_squared(n, mu, std, M):\n",
    "    t = calculate_t_statistic(n, mu, std, M)\n",
    "    return t ** 2 / (t ** 2 + n - 1)\n",
    "\n",
    "def ttest_1samp_from_stats(n, mu, std, M, alpha=0.05, tail_num=2):\n",
    "    \n",
    "    t, cr = calculate_t_statistic(n, mu, std, M), calculate_t_portion(n, alpha, tail_num)\n",
    "    \n",
    "    if tail_num == 2:\n",
    "        \n",
    "        rejection_decision = (t > cr) | (t < -1 * cr)\n",
    "        region = f't > {cr} or t < -{cr}'\n",
    "        criteria = f'two tail, alpha {alpha}'\n",
    "        \n",
    "    elif tail_num == 1:\n",
    "        \n",
    "        if t > 0:\n",
    "        \n",
    "            rejection_decision = (t > cr)\n",
    "            region = f't > {cr}'\n",
    "            \n",
    "        else:\n",
    "            \n",
    "            rejection_decision = (t < -1 * cr)\n",
    "            region = f't < -{cr}'\n",
    "        \n",
    "        criteria = f'one tail, alpha {alpha}'\n",
    "        \n",
    "    else:\n",
    "        print('Should use tail_num 1 or 2.')\n",
    "        return None\n",
    "            \n",
    "    print(f'[{criteria}] t_statistic:{t}, critical_region:{region}\\n=> null hypothesis rejection [{rejection_decision}]')\n",
    "    \n",
    "def calculate_cohens_d(mu, std, M):\n",
    "    return round(abs((M - mu) / std), 2)\n",
    "\n",
    "def calculate_stat_power(n, mu, std, M):\n",
    "    se = std / np.sqrt(n)\n",
    "    z = ((mu + 1.96 * se) - M) / se\n",
    "    return round(1 - stats.norm.cdf(z), 4)"
   ]
  },
  {
   "cell_type": "code",
   "execution_count": null,
   "id": "banned-spectacular",
   "metadata": {},
   "outputs": [],
   "source": []
  },
  {
   "cell_type": "markdown",
   "id": "blank-horse",
   "metadata": {},
   "source": [
    "# 유형\n",
    "1. t test - 가설검정 단계에 따라, Treatment 효과(M - mu) 통계적 유의성(significance)를 판단\n",
    "2. 표준편차(sigma), 샘플 개수(n)에 따른 귀무가설(null hypothesis) 기각의 관계\n",
    "3. 단측(one-sided test) / 양측(two-sided test), 유의수준(alpha)에 따른 결과 차이\n",
    "4. 신뢰구간(confidence interval) 구하는 법\n",
    "5. 결정계수(r sqaured) 구하는 법\n",
    "6. 샘플 수(n)과 결정계수(r squared)의 관계\n",
    "7. raw datapoint 기반 문제풀이 "
   ]
  },
  {
   "cell_type": "code",
   "execution_count": null,
   "id": "powerful-julian",
   "metadata": {},
   "outputs": [],
   "source": []
  },
  {
   "cell_type": "markdown",
   "id": "imposed-visitor",
   "metadata": {},
   "source": [
    "### t test - 가설검정 단계에 따라, Treatment 효과(M - mu) 통계적 유의성(significance)를 판단"
   ]
  },
  {
   "cell_type": "markdown",
   "id": "classified-active",
   "metadata": {},
   "source": [
    "---\n",
    "![''](./09_src/09_09_01.png)"
   ]
  },
  {
   "cell_type": "code",
   "execution_count": 4,
   "id": "suffering-height",
   "metadata": {},
   "outputs": [],
   "source": [
    "# stats?"
   ]
  },
  {
   "cell_type": "code",
   "execution_count": 10,
   "id": "unexpected-spider",
   "metadata": {},
   "outputs": [
    {
     "name": "stdout",
     "output_type": "stream",
     "text": [
      "[two tail, alpha 0.05] t_statistic:3.0, critical_region:t > 2.201 or t < -2.201\n",
      "=> null hypothesis rejection [True]\n"
     ]
    }
   ],
   "source": [
    "n, mu = 12, 70\n",
    "std, M = np.sqrt(297 / (n - 1)), 74.5\n",
    "\n",
    "ttest_1samp_from_stats(n, mu, std, M)"
   ]
  },
  {
   "cell_type": "code",
   "execution_count": null,
   "id": "lesser-symposium",
   "metadata": {},
   "outputs": [],
   "source": []
  },
  {
   "cell_type": "markdown",
   "id": "signed-festival",
   "metadata": {},
   "source": [
    "---\n",
    "![''](./09_src/09_10_01.png)"
   ]
  },
  {
   "cell_type": "code",
   "execution_count": 11,
   "id": "continuing-inclusion",
   "metadata": {},
   "outputs": [
    {
     "name": "stdout",
     "output_type": "stream",
     "text": [
      "[two tail, alpha 0.05] t_statistic:2.75, critical_region:t > 2.064 or t < -2.064\n",
      "=> null hypothesis rejection [True]\n"
     ]
    }
   ],
   "source": [
    "n, mu = 25, 20\n",
    "std, M = np.sqrt(384 / (n - 1)), 22.2\n",
    "\n",
    "ttest_1samp_from_stats(n, mu, std, M)"
   ]
  },
  {
   "cell_type": "code",
   "execution_count": null,
   "id": "separated-arthritis",
   "metadata": {},
   "outputs": [],
   "source": []
  },
  {
   "cell_type": "markdown",
   "id": "unable-suspension",
   "metadata": {},
   "source": [
    "### 표준편차(sigma), 샘플 개수(n)에 따른 귀무가설(null hypothesis) 기각의 관계"
   ]
  },
  {
   "cell_type": "markdown",
   "id": "catholic-cherry",
   "metadata": {},
   "source": [
    "---\n",
    "![''](./09_src/09_11_01.png)"
   ]
  },
  {
   "cell_type": "code",
   "execution_count": 12,
   "id": "innocent-flavor",
   "metadata": {},
   "outputs": [
    {
     "name": "stdout",
     "output_type": "stream",
     "text": [
      "[two tail, alpha 0.05] t_statistic:1.73, critical_region:t > 2.131 or t < -2.131\n",
      "=> null hypothesis rejection [False]\n"
     ]
    }
   ],
   "source": [
    "n, mu = 16, 30\n",
    "std, M = 3, 31.3\n",
    "\n",
    "ttest_1samp_from_stats(n, mu, std, M)"
   ]
  },
  {
   "cell_type": "code",
   "execution_count": 13,
   "id": "sticky-dollar",
   "metadata": {},
   "outputs": [
    {
     "name": "stdout",
     "output_type": "stream",
     "text": [
      "[two tail, alpha 0.05] t_statistic:2.6, critical_region:t > 2.03 or t < -2.03\n",
      "=> null hypothesis rejection [True]\n"
     ]
    }
   ],
   "source": [
    "n, mu = 36, 30\n",
    "std, M = 3, 31.3\n",
    "\n",
    "ttest_1samp_from_stats(n, mu, std, M)"
   ]
  },
  {
   "cell_type": "code",
   "execution_count": null,
   "id": "therapeutic-thread",
   "metadata": {},
   "outputs": [],
   "source": []
  },
  {
   "cell_type": "markdown",
   "id": "black-armor",
   "metadata": {},
   "source": [
    "---\n",
    "![''](./09_src/09_12_01.png)\n",
    "\n",
    "![''](./09_src/09_12_02.png)"
   ]
  },
  {
   "cell_type": "code",
   "execution_count": 14,
   "id": "hollow-pitch",
   "metadata": {},
   "outputs": [
    {
     "name": "stdout",
     "output_type": "stream",
     "text": [
      "[two tail, alpha 0.05] t_statistic:-2.5, critical_region:t > 2.365 or t < -2.365\n",
      "=> null hypothesis rejection [True]\n"
     ]
    }
   ],
   "source": [
    "n, mu = 8, 40\n",
    "std, M = np.sqrt(32), 35\n",
    "\n",
    "ttest_1samp_from_stats(n, mu, std, M)"
   ]
  },
  {
   "cell_type": "code",
   "execution_count": 15,
   "id": "extra-premises",
   "metadata": {},
   "outputs": [
    {
     "name": "stdout",
     "output_type": "stream",
     "text": [
      "[two tail, alpha 0.05] t_statistic:-1.67, critical_region:t > 2.365 or t < -2.365\n",
      "=> null hypothesis rejection [False]\n"
     ]
    }
   ],
   "source": [
    "n, mu = 8, 40\n",
    "std, M = np.sqrt(72), 35\n",
    "\n",
    "ttest_1samp_from_stats(n, mu, std, M)"
   ]
  },
  {
   "cell_type": "code",
   "execution_count": null,
   "id": "worth-dublin",
   "metadata": {},
   "outputs": [],
   "source": []
  },
  {
   "cell_type": "markdown",
   "id": "toxic-nickname",
   "metadata": {},
   "source": [
    "### 단측(one-sided test) / 양측(two-sided test), 유의수준(alpha)에 따른 결과 차이"
   ]
  },
  {
   "cell_type": "markdown",
   "id": "adolescent-student",
   "metadata": {},
   "source": [
    "---\n",
    "![''](./09_src/09_13_01.png)"
   ]
  },
  {
   "cell_type": "code",
   "execution_count": 16,
   "id": "broadband-tumor",
   "metadata": {},
   "outputs": [
    {
     "name": "stdout",
     "output_type": "stream",
     "text": [
      "[two tail, alpha 0.05] t_statistic:2.2, critical_region:t > 2.306 or t < -2.306\n",
      "=> null hypothesis rejection [False]\n"
     ]
    }
   ],
   "source": [
    "n, mu = 9, 3.1\n",
    "std, M = np.sqrt(162 / (n - 1)), 6.4\n",
    "\n",
    "ttest_1samp_from_stats(n, mu, std, M)"
   ]
  },
  {
   "cell_type": "code",
   "execution_count": 17,
   "id": "former-macro",
   "metadata": {},
   "outputs": [
    {
     "name": "stdout",
     "output_type": "stream",
     "text": [
      "[one tail, alpha 0.05] t_statistic:2.2, critical_region:t > 1.86\n",
      "=> null hypothesis rejection [True]\n"
     ]
    }
   ],
   "source": [
    "n, mu = 9, 3.1\n",
    "std, M = np.sqrt(162 / (n - 1)), 6.4\n",
    "\n",
    "ttest_1samp_from_stats(n, mu, std, M, alpha=0.05, tail_num=1)"
   ]
  },
  {
   "cell_type": "code",
   "execution_count": null,
   "id": "discrete-vessel",
   "metadata": {},
   "outputs": [],
   "source": []
  },
  {
   "cell_type": "markdown",
   "id": "dietary-control",
   "metadata": {},
   "source": [
    "---\n",
    "![''](./09_src/09_16_01.png)"
   ]
  },
  {
   "cell_type": "code",
   "execution_count": 18,
   "id": "coordinated-limit",
   "metadata": {},
   "outputs": [
    {
     "name": "stdout",
     "output_type": "stream",
     "text": [
      "[one tail, alpha 0.01] t_statistic:2.33, critical_region:t > 2.602\n",
      "=> null hypothesis rejection [False]\n"
     ]
    }
   ],
   "source": [
    "n, mu = 16, 73.4\n",
    "std, M = 8.4, 78.3\n",
    "\n",
    "ttest_1samp_from_stats(n, mu, std, M, alpha=0.01, tail_num=1)"
   ]
  },
  {
   "cell_type": "markdown",
   "id": "cutting-subcommittee",
   "metadata": {},
   "source": [
    "---\n",
    "![''](./09_src/09_21_01.png)"
   ]
  },
  {
   "cell_type": "code",
   "execution_count": 19,
   "id": "caring-sunrise",
   "metadata": {},
   "outputs": [
    {
     "name": "stdout",
     "output_type": "stream",
     "text": [
      "[one tail, alpha 0.05] t_statistic:2.04, critical_region:t > 1.753\n",
      "=> null hypothesis rejection [True]\n"
     ]
    }
   ],
   "source": [
    "n, mu = 16, 4\n",
    "std, M = 1.04, 4.53\n",
    "\n",
    "ttest_1samp_from_stats(n, mu, std, M, alpha=0.05, tail_num=1)"
   ]
  },
  {
   "cell_type": "code",
   "execution_count": 20,
   "id": "absolute-universal",
   "metadata": {},
   "outputs": [
    {
     "name": "stdout",
     "output_type": "stream",
     "text": [
      "[one tail, alpha 0.05] t_statistic:-2.37, critical_region:t < -1.753\n",
      "=> null hypothesis rejection [True]\n"
     ]
    }
   ],
   "source": [
    "n, mu = 16, 4\n",
    "std, M = 1.18, 3.30\n",
    "\n",
    "ttest_1samp_from_stats(n, mu, std, M, alpha=0.05, tail_num=1)"
   ]
  },
  {
   "cell_type": "code",
   "execution_count": null,
   "id": "detailed-device",
   "metadata": {},
   "outputs": [],
   "source": []
  },
  {
   "cell_type": "markdown",
   "id": "exclusive-product",
   "metadata": {},
   "source": [
    "### 신뢰구간(confidence interval), 결정계수(r sqaured) 구하는 법"
   ]
  },
  {
   "cell_type": "markdown",
   "id": "everyday-catch",
   "metadata": {},
   "source": [
    "---\n",
    "![''](./09_src/09_14_01.png)\n",
    "\n",
    "![''](./09_src/09_14_02.png)"
   ]
  },
  {
   "cell_type": "code",
   "execution_count": 21,
   "id": "worst-pulse",
   "metadata": {},
   "outputs": [
    {
     "name": "stdout",
     "output_type": "stream",
     "text": [
      "[one tail, alpha 0.05] t_statistic:-25.5, critical_region:t < -1.761\n",
      "=> null hypothesis rejection [True]\n"
     ]
    }
   ],
   "source": [
    "n, mu = 15, 60\n",
    "std, M = np.sqrt(210 / (n - 1)), 34.5\n",
    "\n",
    "ttest_1samp_from_stats(n, mu, std, M, alpha=0.05, tail_num=1)"
   ]
  },
  {
   "cell_type": "code",
   "execution_count": 20,
   "id": "included-circus",
   "metadata": {},
   "outputs": [
    {
     "name": "stdout",
     "output_type": "stream",
     "text": [
      "[one tail, alpha 0.05] t_statistic:-2.37, critical_region:t < -1.753\n",
      "=> null hypothesis rejection [True]\n"
     ]
    }
   ],
   "source": [
    "def calculate_cohens_d(mu, std, M):\n",
    "    return round(abs((M - mu) / std), 2)"
   ]
  },
  {
   "cell_type": "code",
   "execution_count": 22,
   "id": "ranking-train",
   "metadata": {},
   "outputs": [
    {
     "data": {
      "text/plain": [
       "6.58"
      ]
     },
     "execution_count": 22,
     "metadata": {},
     "output_type": "execute_result"
    }
   ],
   "source": [
    "cohens_d = calculate_cohens_d(mu, std, M)\n",
    "\n",
    "cohens_d"
   ]
  },
  {
   "cell_type": "markdown",
   "id": "suited-queue",
   "metadata": {},
   "source": [
    "---\n",
    "![''](./09_src/09_15_01.png)"
   ]
  },
  {
   "cell_type": "code",
   "execution_count": 24,
   "id": "enhanced-maintenance",
   "metadata": {},
   "outputs": [
    {
     "name": "stdout",
     "output_type": "stream",
     "text": [
      "[two tail, alpha 0.01] t_statistic:8.2, critical_region:t > 2.947 or t < -2.947\n",
      "=> null hypothesis rejection [True]\n"
     ]
    }
   ],
   "source": [
    "n, mu = 16, 15.1\n",
    "std, M = np.sqrt(240 / (n - 1)), 23.3\n",
    "\n",
    "ttest_1samp_from_stats(n, mu, std, M, alpha=0.01, tail_num=2)"
   ]
  },
  {
   "cell_type": "code",
   "execution_count": 25,
   "id": "tested-cigarette",
   "metadata": {},
   "outputs": [
    {
     "data": {
      "text/plain": [
       "4.0"
      ]
     },
     "execution_count": 25,
     "metadata": {},
     "output_type": "execute_result"
    }
   ],
   "source": [
    "std"
   ]
  },
  {
   "cell_type": "code",
   "execution_count": 31,
   "id": "velvet-insured",
   "metadata": {},
   "outputs": [
    {
     "data": {
      "text/plain": [
       "(21.547, 25.053)"
      ]
     },
     "execution_count": 31,
     "metadata": {},
     "output_type": "execute_result"
    }
   ],
   "source": [
    "ci_start = M - calculate_t_portion(n, alpha=0.1, tail_num=2) * (std / np.sqrt(n))\n",
    "ci_end = M + calculate_t_portion(n, alpha=0.1, tail_num=2) * (std / np.sqrt(n))\n",
    "\n",
    "ci_start, ci_end"
   ]
  },
  {
   "cell_type": "code",
   "execution_count": null,
   "id": "hairy-superintendent",
   "metadata": {},
   "outputs": [],
   "source": []
  },
  {
   "cell_type": "markdown",
   "id": "worst-cutting",
   "metadata": {},
   "source": [
    "---\n",
    "![''](./09_src/09_17_01.png)\n",
    "\n",
    "![''](./09_src/09_17_02.png)"
   ]
  },
  {
   "cell_type": "code",
   "execution_count": 32,
   "id": "european-soviet",
   "metadata": {},
   "outputs": [
    {
     "name": "stdout",
     "output_type": "stream",
     "text": [
      "[two tail, alpha 0.05] t_statistic:-2.37, critical_region:t > 2.306 or t < -2.306\n",
      "=> null hypothesis rejection [True]\n"
     ]
    }
   ],
   "source": [
    "n, mu = 9, 81.7\n",
    "std, M = 5.7, 77.2\n",
    "\n",
    "ttest_1samp_from_stats(n, mu, std, M, alpha=0.05, tail_num=2)"
   ]
  },
  {
   "cell_type": "code",
   "execution_count": 33,
   "id": "trying-breed",
   "metadata": {},
   "outputs": [
    {
     "data": {
      "text/plain": [
       "(73.666, 80.73400000000001)"
      ]
     },
     "execution_count": 33,
     "metadata": {},
     "output_type": "execute_result"
    }
   ],
   "source": [
    "ci_start = M - calculate_t_portion(n, alpha=0.1, tail_num=2) * (std / np.sqrt(n))\n",
    "ci_end = M + calculate_t_portion(n, alpha=0.1, tail_num=2) * (std / np.sqrt(n))\n",
    "\n",
    "ci_start, ci_end"
   ]
  },
  {
   "cell_type": "code",
   "execution_count": null,
   "id": "municipal-glenn",
   "metadata": {},
   "outputs": [],
   "source": []
  },
  {
   "cell_type": "markdown",
   "id": "technological-adjustment",
   "metadata": {},
   "source": [
    "---\n",
    "![''](./09_src/09_20_01.png)\n",
    "\n",
    "![''](./09_src/09_20_02.png)"
   ]
  },
  {
   "cell_type": "code",
   "execution_count": 44,
   "id": "early-briefs",
   "metadata": {},
   "outputs": [
    {
     "name": "stdout",
     "output_type": "stream",
     "text": [
      "[one tail, alpha 0.01] t_statistic:11.0, critical_region:t > 2.492\n",
      "=> null hypothesis rejection [True]\n"
     ]
    }
   ],
   "source": [
    "n, mu = 25, 10\n",
    "std, M = 1, 12.2\n",
    "\n",
    "ttest_1samp_from_stats(n, mu, std, M, alpha=0.01, tail_num=1)"
   ]
  },
  {
   "cell_type": "code",
   "execution_count": 45,
   "id": "capable-therapist",
   "metadata": {},
   "outputs": [
    {
     "data": {
      "text/plain": [
       "(2.2, 0.8344827586206897)"
      ]
     },
     "execution_count": 45,
     "metadata": {},
     "output_type": "execute_result"
    }
   ],
   "source": [
    "cohens_d = calculate_cohens_d(mu, std, M)\n",
    "\n",
    "r_squared = calculate_r_squared(n, mu, std, M)\n",
    "\n",
    "cohens_d, r_squared"
   ]
  },
  {
   "cell_type": "code",
   "execution_count": null,
   "id": "corresponding-testament",
   "metadata": {},
   "outputs": [],
   "source": []
  },
  {
   "cell_type": "code",
   "execution_count": null,
   "id": "supposed-floor",
   "metadata": {},
   "outputs": [],
   "source": []
  },
  {
   "cell_type": "code",
   "execution_count": null,
   "id": "historical-webmaster",
   "metadata": {},
   "outputs": [],
   "source": []
  },
  {
   "cell_type": "markdown",
   "id": "planned-disclosure",
   "metadata": {},
   "source": [
    "### 샘플 수(n)과 결정계수(r squared)의 관계"
   ]
  },
  {
   "cell_type": "markdown",
   "id": "eight-bandwidth",
   "metadata": {},
   "source": [
    "---\n",
    "![''](./09_src/09_18_01.png)"
   ]
  },
  {
   "cell_type": "code",
   "execution_count": 46,
   "id": "automotive-insert",
   "metadata": {},
   "outputs": [],
   "source": [
    "n, mu = 16, 45\n",
    "std, M = 8, 49.2"
   ]
  },
  {
   "cell_type": "code",
   "execution_count": 47,
   "id": "suffering-subsection",
   "metadata": {},
   "outputs": [
    {
     "data": {
      "text/plain": [
       "(0.53, 0.22720247295208656)"
      ]
     },
     "execution_count": 47,
     "metadata": {},
     "output_type": "execute_result"
    }
   ],
   "source": [
    "cohens_d = calculate_cohens_d(mu, std, M)\n",
    "\n",
    "r_squared = calculate_r_squared(n, mu, std, M)\n",
    "\n",
    "cohens_d, r_squared"
   ]
  },
  {
   "cell_type": "code",
   "execution_count": null,
   "id": "pressed-nylon",
   "metadata": {},
   "outputs": [],
   "source": []
  },
  {
   "cell_type": "code",
   "execution_count": 48,
   "id": "going-peninsula",
   "metadata": {},
   "outputs": [],
   "source": [
    "n, mu = 16, 45\n",
    "std, M = 20, 49.2"
   ]
  },
  {
   "cell_type": "code",
   "execution_count": 49,
   "id": "bulgarian-plaza",
   "metadata": {},
   "outputs": [
    {
     "data": {
      "text/plain": [
       "(0.21, 0.04492665036674816)"
      ]
     },
     "execution_count": 49,
     "metadata": {},
     "output_type": "execute_result"
    }
   ],
   "source": [
    "cohens_d = calculate_cohens_d(mu, std, M)\n",
    "\n",
    "r_squared = calculate_r_squared(n, mu, std, M)\n",
    "\n",
    "cohens_d, r_squared"
   ]
  },
  {
   "cell_type": "code",
   "execution_count": null,
   "id": "minute-detroit",
   "metadata": {},
   "outputs": [],
   "source": []
  },
  {
   "cell_type": "markdown",
   "id": "hollow-kruger",
   "metadata": {},
   "source": [
    "---\n",
    "![''](./09_src/09_19_01.png)"
   ]
  },
  {
   "cell_type": "code",
   "execution_count": 50,
   "id": "tight-chuck",
   "metadata": {},
   "outputs": [],
   "source": [
    "n, mu = 9, 45\n",
    "std, M = 12, 49"
   ]
  },
  {
   "cell_type": "code",
   "execution_count": 51,
   "id": "continent-detection",
   "metadata": {},
   "outputs": [
    {
     "data": {
      "text/plain": [
       "(0.33, 0.1111111111111111)"
      ]
     },
     "execution_count": 51,
     "metadata": {},
     "output_type": "execute_result"
    }
   ],
   "source": [
    "cohens_d = calculate_cohens_d(mu, std, M)\n",
    "\n",
    "r_squared = calculate_r_squared(n, mu, std, M)\n",
    "\n",
    "cohens_d, r_squared"
   ]
  },
  {
   "cell_type": "code",
   "execution_count": null,
   "id": "settled-hazard",
   "metadata": {},
   "outputs": [],
   "source": []
  },
  {
   "cell_type": "code",
   "execution_count": 52,
   "id": "angry-correlation",
   "metadata": {},
   "outputs": [],
   "source": [
    "n, mu = 16, 45\n",
    "std, M = 12, 49"
   ]
  },
  {
   "cell_type": "code",
   "execution_count": 53,
   "id": "complimentary-guinea",
   "metadata": {},
   "outputs": [
    {
     "data": {
      "text/plain": [
       "(0.33, 0.10548694309107934)"
      ]
     },
     "execution_count": 53,
     "metadata": {},
     "output_type": "execute_result"
    }
   ],
   "source": [
    "cohens_d = calculate_cohens_d(mu, std, M)\n",
    "\n",
    "r_squared = calculate_r_squared(n, mu, std, M)\n",
    "\n",
    "cohens_d, r_squared"
   ]
  },
  {
   "cell_type": "code",
   "execution_count": null,
   "id": "adaptive-priority",
   "metadata": {},
   "outputs": [],
   "source": []
  },
  {
   "cell_type": "code",
   "execution_count": null,
   "id": "continent-restaurant",
   "metadata": {},
   "outputs": [],
   "source": []
  },
  {
   "cell_type": "markdown",
   "id": "surprising-virginia",
   "metadata": {},
   "source": [
    "### raw datapoint 기반 문제풀이"
   ]
  },
  {
   "cell_type": "markdown",
   "id": "horizontal-airfare",
   "metadata": {},
   "source": [
    "---\n",
    "![''](./09_src/09_22_01.png)\n",
    "\n",
    "![''](./09_src/09_22_02.png)"
   ]
  },
  {
   "cell_type": "code",
   "execution_count": 54,
   "id": "behavioral-video",
   "metadata": {},
   "outputs": [],
   "source": [
    "raw_dataset = [38, 37, 41, 35, 42, 40, 33, 33, 36, 38, 32, 39]"
   ]
  },
  {
   "cell_type": "code",
   "execution_count": 55,
   "id": "unsigned-mouth",
   "metadata": {},
   "outputs": [],
   "source": [
    "n, mu = 12, 40"
   ]
  },
  {
   "cell_type": "code",
   "execution_count": 64,
   "id": "detailed-electron",
   "metadata": {},
   "outputs": [
    {
     "data": {
      "text/plain": [
       "(3.2752515517548764, 37.0)"
      ]
     },
     "execution_count": 64,
     "metadata": {},
     "output_type": "execute_result"
    }
   ],
   "source": [
    "ss = np.sum([r**2 for r in raw_dataset]) - (np.sum(raw_dataset)**2 / n)\n",
    "std = np.sqrt(ss / (n - 1))\n",
    "M = np.mean(raw_dataset)\n",
    "\n",
    "std, M"
   ]
  },
  {
   "cell_type": "code",
   "execution_count": 65,
   "id": "equipped-discussion",
   "metadata": {},
   "outputs": [
    {
     "name": "stdout",
     "output_type": "stream",
     "text": [
      "[two tail, alpha 0.05] t_statistic:-3.17, critical_region:t > 2.201 or t < -2.201\n",
      "=> null hypothesis rejection [True]\n"
     ]
    }
   ],
   "source": [
    "ttest_1samp_from_stats(n, mu, std, M, alpha=0.05, tail_num=2)"
   ]
  },
  {
   "cell_type": "code",
   "execution_count": null,
   "id": "conscious-account",
   "metadata": {},
   "outputs": [],
   "source": []
  },
  {
   "cell_type": "code",
   "execution_count": 68,
   "id": "boolean-australian",
   "metadata": {},
   "outputs": [
    {
     "data": {
      "text/plain": [
       "Ttest_1sampResult(statistic=array([-3.17297914]), pvalue=array([0.00887141]))"
      ]
     },
     "execution_count": 68,
     "metadata": {},
     "output_type": "execute_result"
    }
   ],
   "source": [
    "stats.ttest_1samp(raw_dataset, [mu])"
   ]
  },
  {
   "cell_type": "code",
   "execution_count": 69,
   "id": "accurate-paint",
   "metadata": {},
   "outputs": [
    {
     "data": {
      "text/plain": [
       "0.92"
      ]
     },
     "execution_count": 69,
     "metadata": {},
     "output_type": "execute_result"
    }
   ],
   "source": [
    "calculate_cohens_d(mu, std, M)"
   ]
  },
  {
   "cell_type": "code",
   "execution_count": null,
   "id": "rotary-briefs",
   "metadata": {},
   "outputs": [],
   "source": []
  },
  {
   "cell_type": "markdown",
   "id": "surface-teens",
   "metadata": {},
   "source": [
    "---\n",
    "![''](./09_src/09_23_01.png)\n",
    "\n",
    "![''](./09_src/09_23_02.png)"
   ]
  },
  {
   "cell_type": "code",
   "execution_count": 70,
   "id": "conscious-ethiopia",
   "metadata": {},
   "outputs": [],
   "source": [
    "raw_dataset = [53, 57, 61, 49, 52, 56, 58, 62, 51, 56]"
   ]
  },
  {
   "cell_type": "code",
   "execution_count": 71,
   "id": "historical-graduate",
   "metadata": {},
   "outputs": [],
   "source": [
    "n, mu = 10, 50"
   ]
  },
  {
   "cell_type": "code",
   "execution_count": 72,
   "id": "every-screen",
   "metadata": {},
   "outputs": [
    {
     "data": {
      "text/plain": [
       "(4.249182927993988, 55.5)"
      ]
     },
     "execution_count": 72,
     "metadata": {},
     "output_type": "execute_result"
    }
   ],
   "source": [
    "ss = np.sum([r**2 for r in raw_dataset]) - (np.sum(raw_dataset)**2 / n)\n",
    "std = np.sqrt(ss / (n - 1))\n",
    "M = np.mean(raw_dataset)\n",
    "\n",
    "std, M"
   ]
  },
  {
   "cell_type": "code",
   "execution_count": 73,
   "id": "horizontal-scotland",
   "metadata": {},
   "outputs": [
    {
     "name": "stdout",
     "output_type": "stream",
     "text": [
      "[two tail, alpha 0.05] t_statistic:4.09, critical_region:t > 2.262 or t < -2.262\n",
      "=> null hypothesis rejection [True]\n"
     ]
    }
   ],
   "source": [
    "ttest_1samp_from_stats(n, mu, std, M, alpha=0.05, tail_num=2)"
   ]
  },
  {
   "cell_type": "code",
   "execution_count": null,
   "id": "advance-equality",
   "metadata": {},
   "outputs": [],
   "source": []
  },
  {
   "cell_type": "code",
   "execution_count": 74,
   "id": "municipal-kernel",
   "metadata": {},
   "outputs": [
    {
     "data": {
      "text/plain": [
       "Ttest_1sampResult(statistic=array([4.09314624]), pvalue=array([0.00270428]))"
      ]
     },
     "execution_count": 74,
     "metadata": {},
     "output_type": "execute_result"
    }
   ],
   "source": [
    "stats.ttest_1samp(raw_dataset, [mu])"
   ]
  },
  {
   "cell_type": "code",
   "execution_count": null,
   "id": "talented-pottery",
   "metadata": {},
   "outputs": [],
   "source": []
  },
  {
   "cell_type": "code",
   "execution_count": 75,
   "id": "experienced-techno",
   "metadata": {},
   "outputs": [
    {
     "data": {
      "text/plain": [
       "1.29"
      ]
     },
     "execution_count": 75,
     "metadata": {},
     "output_type": "execute_result"
    }
   ],
   "source": [
    "calculate_cohens_d(mu, std, M)"
   ]
  },
  {
   "cell_type": "code",
   "execution_count": null,
   "id": "integrated-pennsylvania",
   "metadata": {},
   "outputs": [],
   "source": []
  },
  {
   "cell_type": "code",
   "execution_count": null,
   "id": "pharmaceutical-puppy",
   "metadata": {},
   "outputs": [],
   "source": []
  },
  {
   "cell_type": "code",
   "execution_count": null,
   "id": "grand-boating",
   "metadata": {},
   "outputs": [],
   "source": []
  }
 ],
 "metadata": {
  "kernelspec": {
   "display_name": "Python 3",
   "language": "python",
   "name": "python3"
  },
  "language_info": {
   "codemirror_mode": {
    "name": "ipython",
    "version": 3
   },
   "file_extension": ".py",
   "mimetype": "text/x-python",
   "name": "python",
   "nbconvert_exporter": "python",
   "pygments_lexer": "ipython3",
   "version": "3.9.1"
  }
 },
 "nbformat": 4,
 "nbformat_minor": 5
}
