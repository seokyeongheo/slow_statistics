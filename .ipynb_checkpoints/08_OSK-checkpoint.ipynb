{
 "cells": [
  {
   "cell_type": "markdown",
   "metadata": {},
   "source": [
    "## 용어 정의"
   ]
  },
  {
   "cell_type": "code",
   "execution_count": null,
   "metadata": {},
   "outputs": [],
   "source": [
    "#가설설정\n",
    "# A hypothesis test is a statistical method that uses sample data to evaluate a hypothesis about a population.\n",
    "\n",
    "1. First, we state a hypothesis about a population. Usually the hypothesis concerns the value of a population parameter. \n",
    "2. Before we select a sample, we use the hypothesis to predict the characteristics that the sample should have. \n",
    "3. Next, we obtain a random sample from the population. \n",
    "4. Finally, we compare the obtained sample data with the prediction that was made from the hypothesis.\n",
    "\n",
    "## 가설설정 프로세스\n",
    "1. State the hypothesis. null hypothesis(H0) \n",
    "\n",
    "귀무가설 : 독립변수가 종속변수에 어떤 영향을 미치지 않는다는 것 => 레스토랑의 웨이터가 레드 셔츠 입는 것이 팁에 영향이 없다.\n",
    "The null hypothesis (H0) states that in the general population \n",
    "there is no change, no difference, or no relationship.\n",
    "In the context of an experiment, \n",
    "H0 predicts that the independent variable (treatment) \n",
    "has no effect on the dependent variable (scores) for the population.\n",
    "\n",
    "m = 15.8\n",
    "\n",
    "대안가설 : 어떤 변인이 종속 변수에 효과가 있다는 것 => 레스토랑의 웨이터가 레드 셔츠 입는 것 팁에 영향이 있다. \n",
    "The alternative hypothesis (H1) states that there is a change, a difference, \n",
    "or a relationship for the general population. \n",
    "In the context of an experiment,\n",
    "H1 predicts that the independent variable (treatment) does have an effect on the dependent variable.\n",
    "    \n",
    "m != 15.8 이다.\n",
    "\n",
    "이 실험에서는 \n",
    "m > 15.8\n",
    "\n",
    "directional hypothisis test\n",
    "\n",
    "2. set the criteria for a decision\n",
    "\n",
    "a. Sample means that are likely to be obtained if H0 is true; \n",
    "that is, sample means that are close to the null hypothesis\n",
    "\n",
    "b. Sample means that are very unlikely to be obtained if H0 is true;\n",
    "that is, sample means that are very different from the null hypothesis\n",
    "\n",
    "\n",
    "The Alpha Level\n",
    "\n",
    "alpha levels are α = .05 (5%), α = .01 (1%), and α = .001 (0.1%).\n",
    "\n",
    "The alpha level, or the level of significance, \n",
    "is a probability value that is used to define the concept of \n",
    "“very unlikely” in a hypothesis test.\n",
    "\n",
    "The critical region is composed of the extreme sample values that are very unlikely (as defined by the alpha level) to be obtained if the null hypothesis is true. The boundaries for the critical region are determined by the alpha level. \n",
    "If sample data fall in the critical region, the null hypothesis is rejected.\n",
    "\n",
    "\n",
    "3. Collect data and compute sample statistics.\n",
    "\n",
    "z = sample mean - hypothesized population mean / standard error between M and m\n",
    "\n",
    "4. Make a decision\n",
    "\n",
    "1. Thesampledataarelocatedinthecriticalregion.\n",
    "Bydefinition,asamplevaluein the critical region is very unlikely to occur if the null hypothesis is true. \n",
    "\n",
    "2. The sample data are not in the critical region. \n",
    "In this case, the sample mean is reasonably close to the population mean specified in the null hypothesis (in the center of the distribution)."
   ]
  },
  {
   "cell_type": "markdown",
   "metadata": {},
   "source": [
    "# Problems"
   ]
  },
  {
   "cell_type": "code",
   "execution_count": null,
   "metadata": {},
   "outputs": [],
   "source": [
    "1. Identify the four steps of a hypothesis test as presented in this chapter.\n",
    "\n",
    "1)State the hypothesis.\n",
    "귀무가설과 대안가설 언급\n",
    "\n",
    "2)alpha level 설정, 신뢰 구간 설정\n",
    "\n",
    "3) Collect data and compute sample statistics. \n",
    "데이터 수집과 샘플 통계적 계산\n",
    "\n",
    "4)make decision\n",
    "결론 결정\n"
   ]
  },
  {
   "cell_type": "code",
   "execution_count": null,
   "metadata": {},
   "outputs": [],
   "source": [
    "2. Define the alpha level and the critical region for a hypothesis test.\n",
    "독립변수와 종속변수에 대한 귀무가설을 reject하기 위해 그 통계치를 통상적인 수치를 벗어나 의미있는 수가 나온 것을 설정해준다. "
   ]
  },
  {
   "cell_type": "code",
   "execution_count": null,
   "metadata": {},
   "outputs": [],
   "source": [
    "3. Define a Type I error and a Type II error and explain the consequences of each.\n",
    "가설검증에서 실제효과가 없는데 효과가 있는 것으로 나온것, 실제 효과가 있는데, 없는 것으로 나온것. 가설 설정에 문제"
   ]
  },
  {
   "cell_type": "code",
   "execution_count": null,
   "metadata": {},
   "outputs": [],
   "source": [
    "4. If the alpha level is changed from α = .05 to α = .01,\n",
    "a. What happens to the boundaries for the critical\n",
    "region?\n",
    "신뢰구간이 줄어든다.\n",
    "b. What happens to the probability of a Type I error?\n",
    "에러 확률은 낮아진다. "
   ]
  },
  {
   "cell_type": "code",
   "execution_count": 1,
   "metadata": {},
   "outputs": [
    {
     "ename": "SyntaxError",
     "evalue": "invalid syntax (<ipython-input-1-28c3674de345>, line 1)",
     "output_type": "error",
     "traceback": [
      "\u001b[0;36m  File \u001b[0;32m\"<ipython-input-1-28c3674de345>\"\u001b[0;36m, line \u001b[0;32m1\u001b[0m\n\u001b[0;31m    6. Although there is a popular belief that herbal remedies such as Ginkgo biloba and Ginseng may improve learning and memory in healthy adults, these effects are usually not supported by well- controlled research (Persson, Bringlov, Nilsson, and Nyberg, 2004). In a typical study, a researcher\u001b[0m\n\u001b[0m              ^\u001b[0m\n\u001b[0;31mSyntaxError\u001b[0m\u001b[0;31m:\u001b[0m invalid syntax\n"
     ]
    }
   ],
   "source": [
    "6. Although there is a popular belief that herbal remedies such as Ginkgo biloba and Ginseng may improve learning and memory in healthy adults, these effects are usually not supported by well- controlled research (Persson, Bringlov, Nilsson, and Nyberg, 2004). In a typical study, a researcher\n",
    "obtains a sample of n = 16 participants and has each person take the herbal supplements every day for\n",
    "90 days. At the end of the 90 days, each person takes a standardized memory test. For the general popula- tion, scores from the test form a normal distribution with a mean of μ = 50 and a standard deviation of\n",
    "σ = 12. The sample of research participants had an average of M = 54.\n",
    "a. Assuming a two-tailed test, state the null hypoth-\n",
    "esis in a sentence that includes the two variables\n",
    "being examined.\n",
    "b. Using the standard 4-step procedure, conduct a\n",
    "two-tailed hypothesis test with α = .05 to evaluate the effect of the supplements.\n",
    "\n",
    "\n"
   ]
  },
  {
   "cell_type": "code",
   "execution_count": 8,
   "metadata": {},
   "outputs": [
    {
     "data": {
      "text/plain": [
       "Ttest_1sampResult(statistic=4.118438837901868, pvalue=0.014631051442021578)"
      ]
     },
     "execution_count": 8,
     "metadata": {},
     "output_type": "execute_result"
    }
   ],
   "source": [
    "from scipy import stats\n",
    "\n",
    "sample_number = 16 # 샘플수 \n",
    "population_mean = 50 # 모집단의 평균\n",
    "standard_deviation = 12 # 표준편차\n",
    "sample_mean = 54 # 샘플의 평균\n",
    "\n",
    "\n",
    "result = stats.ttest_1samp(sample_mean, 50)   # 비교집단, 관측치\n",
    "\n",
    "result"
   ]
  },
  {
   "cell_type": "code",
   "execution_count": 40,
   "metadata": {},
   "outputs": [
    {
     "ename": "TypeError",
     "evalue": "unsupported operand type(s) for -: 'list' and 'int'",
     "output_type": "error",
     "traceback": [
      "\u001b[0;31m---------------------------------------------------------------------------\u001b[0m",
      "\u001b[0;31mTypeError\u001b[0m                                 Traceback (most recent call last)",
      "\u001b[0;32m<ipython-input-40-88a6f55a064f>\u001b[0m in \u001b[0;36m<module>\u001b[0;34m\u001b[0m\n\u001b[0;32m----> 1\u001b[0;31m \u001b[0msample_mean\u001b[0m \u001b[0;34m-\u001b[0m \u001b[0mpopulation_mean\u001b[0m\u001b[0;34m\u001b[0m\u001b[0m\n\u001b[0m",
      "\u001b[0;31mTypeError\u001b[0m: unsupported operand type(s) for -: 'list' and 'int'"
     ]
    }
   ],
   "source": [
    "sample_mean - population_mean"
   ]
  },
  {
   "cell_type": "code",
   "execution_count": 54,
   "metadata": {},
   "outputs": [],
   "source": [
    "## Import \n",
    "import numpy as np\n",
    "from scipy import stats\n",
    "\n",
    "\n",
    "sample_number = 16 # 샘플수 \n",
    "population_mean = 50 # 모집단의 평균\n",
    "standard_deviation = 12 # 표준편차\n",
    "sample_mean = 54 # 샘플의 평균\n",
    "\n",
    "\n",
    "## 신뢰구간을 벗어나는지 아닌지 확인 함수     \n",
    "\n",
    "alpha_level05 = 1.96\n",
    "alpha_level01 = 2.58\n",
    "\n",
    "def h_test(sample_mean, population_mean, standard_deviation, sample_number, alpha_level):\n",
    "    \n",
    "    \n",
    "    result = (sample_mean - population_mean)/ (standard_deviation/np.sqrt(sample_number))\n",
    "                                         \n",
    "                                               \n",
    "    if result> alpha_level or result< - alpha_level:\n",
    "       print(\"a = .05 신뢰구간에서 귀무가설 reject되고, 가설이 ok\")\n",
    "\n",
    "    else:\n",
    "       print(\"귀무가설이 reject 되지 않아 가설이 기각됩니다.\")\n",
    "\n",
    "    return result\n",
    "\n",
    "\n",
    "##Compute Cohen’s d\n",
    "def Cohen(sample_mean, population_mean, standard_deviation):\n",
    "    result = (sample_mean - population_mean) / (standard_deviation)\n",
    "    \n",
    "    \n",
    "    if result<=0.2:\n",
    "        print(\"small effect\")\n",
    "\n",
    "    elif result<= 0.5:\n",
    "        print(\"medium effect\")\n",
    "\n",
    "    elif result<= 0.8:\n",
    "        print(\"Large effect\")\n",
    "    \n",
    "    return result\n",
    "\n",
    "  "
   ]
  },
  {
   "cell_type": "code",
   "execution_count": 59,
   "metadata": {},
   "outputs": [
    {
     "name": "stdout",
     "output_type": "stream",
     "text": [
      "귀무가설이 reject 되지 않아 가설이 기각됩니다.\n"
     ]
    },
    {
     "data": {
      "text/plain": [
       "1.3333333333333333"
      ]
     },
     "execution_count": 59,
     "metadata": {},
     "output_type": "execute_result"
    }
   ],
   "source": [
    "## 신뢰구간을 벗어나는지 아닌지 확인 함수                                             \n",
    "h_test(sample_mean, population_mean, standard_deviation, sample_number, alpha_level05)\n",
    "\n",
    "                                               \n"
   ]
  },
  {
   "cell_type": "code",
   "execution_count": 60,
   "metadata": {},
   "outputs": [
    {
     "name": "stdout",
     "output_type": "stream",
     "text": [
      "medium effect\n"
     ]
    },
    {
     "data": {
      "text/plain": [
       "0.3333333333333333"
      ]
     },
     "execution_count": 60,
     "metadata": {},
     "output_type": "execute_result"
    }
   ],
   "source": [
    "Cohen(sample_mean, population_mean, standard_deviation)"
   ]
  },
  {
   "cell_type": "code",
   "execution_count": null,
   "metadata": {},
   "outputs": [],
   "source": [
    "함수를 활용해서, 신뢰구간과 cohen's d를 구할 수 있다. \n"
   ]
  },
  {
   "cell_type": "code",
   "execution_count": null,
   "metadata": {},
   "outputs": [],
   "source": [
    "# ## Import the packages\n",
    "# import numpy as np\n",
    "# from scipy import stats\n",
    "\n",
    "\n",
    "# ## 함수로 만들기\n",
    "\n",
    "# #Sample Size\n",
    "# sample_number = 16 \n",
    "# population_mean = 50 # 모집단의 평균\n",
    "# standard_deviation = 12 # 표준편차\n",
    "# sample_mean = [54,54,58,53,52] # 샘플의 평균\n",
    "\n",
    "# def h_test(sample_mean, population_mean, standard_deviation, sample_number):\n",
    "    \n",
    "#     #For unbiased max likelihood estimate we have to divide the var by N-1, and therefore the parameter ddof = 1\n",
    "#     var_sample_mean = sample_mean.var(ddof=1)\n",
    "#     var_population_mean = population_mean.var(ddof=1)\n",
    "    \n",
    "#     #std deviation\n",
    "#     std_deviation = np.sqrt((var_sample_mean + var_population_mean)/2)\n",
    "    \n",
    "#     ## Calculate the t-statistics\n",
    "#     t = (a.mean() - b.mean())/(s*np.sqrt(2/N))\n",
    "    \n",
    "# ## Define 2 random distributions\n",
    "\n",
    "# N = 10\n",
    "# #Gaussian distributed data with mean = 2 and var = 1\n",
    "# a = np.random.randn(N) + 2\n",
    "# #Gaussian distributed data with with mean = 0 and var = 1\n",
    "# b = np.random.randn(N)\n",
    "\n",
    "\n",
    "# ## Calculate the Standard Deviation\n",
    "# #Calculate the variance to get the standard deviation\n",
    "\n",
    "# #For unbiased max likelihood estimate we have to divide the var by N-1, and therefore the parameter ddof = 1\n",
    "# var_a = a.var(ddof=1)\n",
    "# var_b = b.var(ddof=1)\n",
    "\n",
    "# #std deviation\n",
    "# s = np.sqrt((var_a + var_b)/2)\n",
    "# s\n",
    "\n",
    "\n",
    "\n",
    "# ## Calculate the t-statistics\n",
    "# t = (a.mean() - b.mean())/(s*np.sqrt(2/N))\n",
    "\n",
    "\n",
    "\n",
    "# ## Compare with the critical t-value\n",
    "# #Degrees of freedom\n",
    "# df = 2*N - 2\n",
    "\n",
    "# #p-value after comparison with the t \n",
    "# p = 1 - stats.t.cdf(t,df=df)\n",
    "\n",
    "\n",
    "# print(\"t = \" + str(t))\n",
    "# print(\"p = \" + str(2*p))\n",
    "# ### You can see that after comparing the t statistic with the critical t value (computed internally) we get a good p value of 0.0005 and thus we reject the null hypothesis and thus it proves that the mean of the two distributions are different and statistically significant.\n",
    "\n",
    "\n",
    "# ## Cross Checking with the internal scipy function\n",
    "# t2, p2 = stats.ttest_ind(a,b)\n",
    "# print(\"t = \" + str(t2))\n",
    "# print(\"p = \" + str(p2))"
   ]
  }
 ],
 "metadata": {
  "kernelspec": {
   "display_name": "Python 3",
   "language": "python",
   "name": "python3"
  },
  "language_info": {
   "codemirror_mode": {
    "name": "ipython",
    "version": 3
   },
   "file_extension": ".py",
   "mimetype": "text/x-python",
   "name": "python",
   "nbconvert_exporter": "python",
   "pygments_lexer": "ipython3",
   "version": "3.9.1"
  }
 },
 "nbformat": 4,
 "nbformat_minor": 4
}
