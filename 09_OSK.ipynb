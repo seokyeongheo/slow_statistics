{
 "cells": [
  {
   "cell_type": "code",
   "execution_count": null,
   "metadata": {},
   "outputs": [],
   "source": [
    "## t statistic이 필요한 이유! \n",
    "the standard deviation for the population is not known.\n",
    "\n"
   ]
  },
  {
   "cell_type": "code",
   "execution_count": null,
   "metadata": {},
   "outputs": [],
   "source": [
    "## \n",
    "\n",
    "sample variance = s**2 = SS/(n-1) = SS/df\n",
    "sample standard deviation = s = np.sqrt(SS/(n-1)) = np.sqrt(SS/df)\n",
    "\n",
    "standarderror = S(m) = s/n**0.5 = np.sqrt(s**2/n)\n",
    "\n",
    "estimated standard error = S(m) = s/n**0.5 = np.sqrt(s**2/n)\n",
    "\n",
    "standard error = np.sqrt(sample variance / sample size)\n",
    "\n",
    "\n",
    "t= m−μ/sm =  m−μ/np.sqrt(s**2/n)\n"
   ]
  },
  {
   "cell_type": "code",
   "execution_count": 12,
   "metadata": {},
   "outputs": [
    {
     "ename": "SyntaxError",
     "evalue": "invalid syntax (<ipython-input-12-42954f2c8f1e>, line 7)",
     "output_type": "error",
     "traceback": [
      "\u001b[0;36m  File \u001b[0;32m\"<ipython-input-12-42954f2c8f1e>\"\u001b[0;36m, line \u001b[0;32m7\u001b[0m\n\u001b[0;31m    result = stats.ttest_1samp(one_sample, 175.6)   # 비교집단, 관측치\u001b[0m\n\u001b[0m         ^\u001b[0m\n\u001b[0;31mSyntaxError\u001b[0m\u001b[0;31m:\u001b[0m invalid syntax\n"
     ]
    }
   ],
   "source": [
    "## t test를 위한 라이브러리\n",
    "from scipy import stats\n",
    "\n",
    "#ex)\n",
    "one_sample = [177.3, 182.7, 169.6, 176.3, 180.3, 179.4, 178.5, 177.2, 181.8, 176.5]\n",
    "print(mean(one_sample)   # 177.96\n",
    "result = stats.ttest_1samp(one_sample, 175.6)   # 비교집단, 관측치\n",
    "\n",
    "print('t검정 통계량 = %.3f, pvalue = %.3f'%(one_sample_result))  \n",
    "\n",
    "// t검정 통계량 = 2.296, pvalue = 0.072\n",
    "      \n",
    "# def t_test(sample_mean, population_mean,standard_deviation, sample_number)\n",
    "    \n"
   ]
  },
  {
   "cell_type": "code",
   "execution_count": null,
   "metadata": {},
   "outputs": [],
   "source": [
    "## Import \n",
    "import numpy as np\n",
    "from scipy import stats\n",
    "\n",
    "\n",
    "sample_number = 16 # 샘플수 \n",
    "degrees of freedom = sample_number - 1\n",
    "population_mean = 50 # 모집단의 평균\n",
    "standard_deviation = 12 # 표준편차\n",
    "sample_mean = 54 # 샘플의 평균\n",
    "\n",
    "\n",
    "## 신뢰구간을 벗어나는지 아닌지 확인 함수     \n",
    "\n",
    "t_distribution for α = .05\n",
    "\n",
    "critical_region= None\n",
    "\n",
    "def t_test(sample_mean, population_mean, standard_deviation, sample_number, critical_region):\n",
    "    \n",
    "    \n",
    "    result = (sample_mean - population_mean)/ (standard_deviation/np.sqrt(sample_number-1))\n",
    "                                         \n",
    "                                               \n",
    "    if result> critical_region or result< -critical_region:\n",
    "       print(\"a = .05 신뢰구간에서 귀무가설 reject되고, 가설이 ok\")\n",
    "\n",
    "    else:\n",
    "       print(\"귀무가설이 reject 되지 않아 가설이 기각됩니다.\")\n",
    "\n",
    "    return result\n"
   ]
  },
  {
   "cell_type": "code",
   "execution_count": 2,
   "metadata": {},
   "outputs": [
    {
     "data": {
      "text/plain": [
       "1.1547005383792515"
      ]
     },
     "execution_count": 2,
     "metadata": {},
     "output_type": "execute_result"
    }
   ],
   "source": [
    "import numpy as np\n",
    "from scipy import stats\n",
    "\n",
    "sample_number = 9\n",
    "sum_suqare = 1152\n",
    "\n",
    "def estmated_se(sample_number, sum_suqare):\n",
    "    sample_standard_deviation = np.sqrt(sum_suqare/(sample_number-1))\n",
    "    estimated_standard_error = np.sqrt(sample_standard_deviation/sample_number)\n",
    "    \n",
    "    return estimated_standard_error\n",
    "\n",
    "estmated_se(sample_number, sum_suqare)\n",
    "    "
   ]
  },
  {
   "cell_type": "code",
   "execution_count": 3,
   "metadata": {},
   "outputs": [
    {
     "data": {
      "text/plain": [
       "0.6123724356957945"
      ]
     },
     "execution_count": 3,
     "metadata": {},
     "output_type": "execute_result"
    }
   ],
   "source": [
    "sample_number = 16\n",
    "sum_suqare = 540\n",
    "\n",
    "estmated_se(sample_number, sum_suqare)\n"
   ]
  },
  {
   "cell_type": "code",
   "execution_count": null,
   "metadata": {},
   "outputs": [],
   "source": []
  },
  {
   "cell_type": "code",
   "execution_count": 7,
   "metadata": {},
   "outputs": [
    {
     "data": {
      "text/plain": [
       "3.0"
      ]
     },
     "execution_count": 7,
     "metadata": {},
     "output_type": "execute_result"
    }
   ],
   "source": [
    "## 샘플 mean, standard deviation \n",
    "sample = np.array([2,2,6,2])\n",
    "sample\n",
    "\n",
    "sample_mean = sample.mean()\n",
    "sample_mean"
   ]
  },
  {
   "cell_type": "code",
   "execution_count": 10,
   "metadata": {},
   "outputs": [
    {
     "data": {
      "text/plain": [
       "1.7320508075688772"
      ]
     },
     "execution_count": 10,
     "metadata": {},
     "output_type": "execute_result"
    }
   ],
   "source": [
    "sum_squared = np.sqrt(sum((sample - sample_mean)**2)/len(sample))\n",
    "\n",
    "sum_squared"
   ]
  },
  {
   "cell_type": "code",
   "execution_count": null,
   "metadata": {},
   "outputs": [],
   "source": []
  }
 ],
 "metadata": {
  "kernelspec": {
   "display_name": "Python 3",
   "language": "python",
   "name": "python3"
  },
  "language_info": {
   "codemirror_mode": {
    "name": "ipython",
    "version": 3
   },
   "file_extension": ".py",
   "mimetype": "text/x-python",
   "name": "python",
   "nbconvert_exporter": "python",
   "pygments_lexer": "ipython3",
   "version": "3.9.1"
  }
 },
 "nbformat": 4,
 "nbformat_minor": 4
}
