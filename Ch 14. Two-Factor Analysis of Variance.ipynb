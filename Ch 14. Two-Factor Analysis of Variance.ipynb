{
 "cells": [
  {
   "cell_type": "code",
   "execution_count": 1,
   "id": "living-german",
   "metadata": {},
   "outputs": [],
   "source": [
    "import numpy as np\n",
    "import pandas as pd\n",
    "from scipy import stats\n",
    "from statsmodels.stats.anova import AnovaRM\n",
    "\n",
    "import slow_statistic"
   ]
  },
  {
   "cell_type": "markdown",
   "id": "auburn-light",
   "metadata": {},
   "source": [
    "# 유형\n",
    "1. "
   ]
  },
  {
   "cell_type": "code",
   "execution_count": null,
   "id": "hollywood-church",
   "metadata": {},
   "outputs": [],
   "source": []
  },
  {
   "cell_type": "code",
   "execution_count": null,
   "id": "loving-transformation",
   "metadata": {},
   "outputs": [],
   "source": []
  },
  {
   "cell_type": "code",
   "execution_count": null,
   "id": "three-sleeve",
   "metadata": {},
   "outputs": [],
   "source": []
  },
  {
   "cell_type": "code",
   "execution_count": null,
   "id": "steady-plaintiff",
   "metadata": {},
   "outputs": [],
   "source": []
  },
  {
   "cell_type": "code",
   "execution_count": null,
   "id": "diagnostic-classic",
   "metadata": {},
   "outputs": [],
   "source": []
  },
  {
   "cell_type": "markdown",
   "id": "guided-catalyst",
   "metadata": {},
   "source": [
    "# ..."
   ]
  },
  {
   "cell_type": "markdown",
   "id": "complex-flashing",
   "metadata": {},
   "source": [
    "---\n",
    "![''](./14_src/14_12_01.png)"
   ]
  },
  {
   "cell_type": "markdown",
   "id": "correct-despite",
   "metadata": {},
   "source": [
    "---\n",
    "![''](./14_src/14_13_01.png)\n",
    "\n",
    "![''](./14_src/14_13_02.png)"
   ]
  },
  {
   "cell_type": "markdown",
   "id": "complicated-patent",
   "metadata": {},
   "source": [
    "---\n",
    "![''](./14_src/14_14_01.png)"
   ]
  },
  {
   "cell_type": "markdown",
   "id": "homeless-discrimination",
   "metadata": {},
   "source": [
    "---\n",
    "![''](./14_src/14_12_01.png)"
   ]
  },
  {
   "cell_type": "markdown",
   "id": "opening-harris",
   "metadata": {},
   "source": [
    "---\n",
    "![''](./14_src/14_15_01.png)"
   ]
  },
  {
   "cell_type": "markdown",
   "id": "lyric-adoption",
   "metadata": {},
   "source": [
    "---\n",
    "![''](./14_src/14_16_01.png)\n",
    "\n",
    "![''](./14_src/14_16_02.png)"
   ]
  },
  {
   "cell_type": "markdown",
   "id": "reverse-charm",
   "metadata": {},
   "source": [
    "---\n",
    "![''](./14_src/14_20_01.png)"
   ]
  },
  {
   "cell_type": "markdown",
   "id": "concrete-celebration",
   "metadata": {},
   "source": [
    "---\n",
    "![''](./14_src/14_21_01.png)\n",
    "\n",
    "![''](./14_src/14_21_02.png)"
   ]
  },
  {
   "cell_type": "markdown",
   "id": "headed-stress",
   "metadata": {},
   "source": [
    "---\n",
    "![''](./14_src/14_22_01.png)\n",
    "\n",
    "![''](./14_src/14_22_02.png)"
   ]
  },
  {
   "cell_type": "markdown",
   "id": "western-quick",
   "metadata": {},
   "source": [
    "---\n",
    "![''](./14_src/14_23_01.png)"
   ]
  },
  {
   "cell_type": "markdown",
   "id": "alike-radius",
   "metadata": {},
   "source": [
    "---\n",
    "![''](./14_src/14_24_01.png)\n",
    "\n",
    "![''](./14_src/14_24_02.png)"
   ]
  },
  {
   "cell_type": "markdown",
   "id": "historical-amber",
   "metadata": {},
   "source": [
    "---\n",
    "![''](./14_src/14_25_01.png)"
   ]
  },
  {
   "cell_type": "code",
   "execution_count": null,
   "id": "cooperative-affiliate",
   "metadata": {},
   "outputs": [],
   "source": []
  },
  {
   "cell_type": "code",
   "execution_count": null,
   "id": "informal-grove",
   "metadata": {},
   "outputs": [],
   "source": []
  },
  {
   "cell_type": "code",
   "execution_count": null,
   "id": "raised-equity",
   "metadata": {},
   "outputs": [],
   "source": []
  },
  {
   "cell_type": "code",
   "execution_count": null,
   "id": "acceptable-pressing",
   "metadata": {},
   "outputs": [],
   "source": []
  },
  {
   "cell_type": "code",
   "execution_count": null,
   "id": "eastern-stake",
   "metadata": {},
   "outputs": [],
   "source": []
  },
  {
   "cell_type": "code",
   "execution_count": null,
   "id": "valuable-funds",
   "metadata": {},
   "outputs": [],
   "source": []
  }
 ],
 "metadata": {
  "kernelspec": {
   "display_name": "Python 3",
   "language": "python",
   "name": "python3"
  },
  "language_info": {
   "codemirror_mode": {
    "name": "ipython",
    "version": 3
   },
   "file_extension": ".py",
   "mimetype": "text/x-python",
   "name": "python",
   "nbconvert_exporter": "python",
   "pygments_lexer": "ipython3",
   "version": "3.9.1"
  }
 },
 "nbformat": 4,
 "nbformat_minor": 5
}
