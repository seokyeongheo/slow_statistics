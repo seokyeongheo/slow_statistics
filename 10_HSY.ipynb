{
 "cells": [
  {
   "cell_type": "code",
   "execution_count": 1,
   "id": "illegal-institution",
   "metadata": {},
   "outputs": [],
   "source": [
    "import numpy as np\n",
    "import pandas as pd\n",
    "from scipy import stats\n",
    "\n",
    "import slow_statistic"
   ]
  },
  {
   "cell_type": "code",
   "execution_count": 109,
   "id": "usual-anaheim",
   "metadata": {},
   "outputs": [],
   "source": [
    "def __calculate_t_statistic_ind__(M1, M2, SS1, SS2, n1, n2):\n",
    "    \n",
    "    pool_var = (SS1 + SS2) / (n1 - 1 + n2 - 1)\n",
    "    std_error = np.sqrt((pool_var / n1) + (pool_var / n2))\n",
    "    M_d = M1 - M2\n",
    "    t_statistic = M_d / std_error\n",
    "    \n",
    "    return t_statistic\n",
    "\n",
    "def __calculate_t_portion_ind__(n1, n2, alpha, tail_num):\n",
    "    \n",
    "    df = n1 + n2 - 2\n",
    "    t_portion = round(stats.t.ppf(1 - alpha/tail_num, df=df), 3)\n",
    "    \n",
    "    return t_portion\n",
    "\n",
    "def ttest_ind_from_stats(M1, M2, SS1, SS2, n1, n2, alpha=0.05, tail_num=2):\n",
    "    \n",
    "    t, cr = __calculate_t_statistic_ind__(M1, M2, SS1, SS2, n1, n2), __calculate_t_portion_ind__(n1, n2, alpha, tail_num)\n",
    "\n",
    "    if tail_num == 2:\n",
    "\n",
    "        rejection_decision = (t > cr) | (t < -1 * cr)\n",
    "        region = f't > {cr} or t < -{cr}'\n",
    "        criteria = f'two tail, alpha {alpha}'\n",
    "\n",
    "    elif tail_num == 1:\n",
    "\n",
    "        if t > 0:\n",
    "\n",
    "            rejection_decision = (t > cr)\n",
    "            region = f't > {cr}'\n",
    "\n",
    "        else:\n",
    "\n",
    "            rejection_decision = (t < -1 * cr)\n",
    "            region = f't < -{cr}'\n",
    "\n",
    "        criteria = f'one tail, alpha {alpha}'\n",
    "\n",
    "    else:\n",
    "        print('Should use tail_num 1 or 2.')\n",
    "        return None\n",
    "\n",
    "    print(f'[{criteria}] t_statistic:{t}, critical_region:{region}\\n=> null hypothesis rejection [{rejection_decision}]')\n",
    "\n",
    "def cohens_d_ind_from_stats(M1, M2, SS1, SS2, n1, n2):\n",
    "    \n",
    "    M_d = M1 - M2\n",
    "    pool_var = (SS1 + SS2) / (n1 - 1 + n2 - 1)\n",
    "    estimated_d = round(M_d / np.sqrt(pool_var), 3)\n",
    "    \n",
    "    return estimated_d\n",
    "\n",
    "def r_squared_ind(M1, M2, SS1, SS2, n1, n2):\n",
    "    \n",
    "    t_statistic = __calculate_t_statistic_ind__(M1, M2, SS1, SS2, n1, n2)\n",
    "    r_squared = round(t_statistic**2 / (t_statistic**2 + n1 + n2 - 2), 4)\n",
    "    \n",
    "    return r_squared"
   ]
  },
  {
   "cell_type": "code",
   "execution_count": null,
   "id": "dramatic-blind",
   "metadata": {},
   "outputs": [],
   "source": []
  },
  {
   "cell_type": "code",
   "execution_count": null,
   "id": "unlimited-brown",
   "metadata": {},
   "outputs": [],
   "source": []
  },
  {
   "cell_type": "code",
   "execution_count": null,
   "id": "black-growing",
   "metadata": {},
   "outputs": [],
   "source": []
  },
  {
   "cell_type": "markdown",
   "id": "bacterial-pharmacy",
   "metadata": {},
   "source": [
    "# 유형\n",
    "1. Pool Variance. 그룹 별 샘플 사이즈와 pool variance의 관계. \n",
    "2. Pool Variance, Estimated standard Error, null hypothesis 기각 여부 결정\n",
    "3. independent-measure t test (using statistic)\n",
    "4. independent-measure t test (using raw dataset)\n",
    "5. sample size, variability가 standard error for the sample mean difference(estimated standard error)에 끼치는 영향"
   ]
  },
  {
   "cell_type": "code",
   "execution_count": null,
   "id": "certified-correlation",
   "metadata": {},
   "outputs": [],
   "source": []
  },
  {
   "cell_type": "markdown",
   "id": "aware-plane",
   "metadata": {},
   "source": [
    "# Pool Variance. 그룹 별 샘플 사이즈와 pool variance의 관계. "
   ]
  },
  {
   "cell_type": "markdown",
   "id": "latest-allah",
   "metadata": {},
   "source": [
    "---\n",
    "![''](./10_src/10_03_01.png)"
   ]
  },
  {
   "cell_type": "code",
   "execution_count": 2,
   "id": "portable-ceramic",
   "metadata": {},
   "outputs": [],
   "source": [
    "SS1, SS2 = 36, 18"
   ]
  },
  {
   "cell_type": "code",
   "execution_count": 3,
   "id": "synthetic-yeast",
   "metadata": {},
   "outputs": [
    {
     "data": {
      "text/plain": [
       "9.0"
      ]
     },
     "execution_count": 3,
     "metadata": {},
     "output_type": "execute_result"
    }
   ],
   "source": [
    "# a. \n",
    "n1, n2 = 4, 4\n",
    "pool_var = (SS1 + SS2) / (n1 - 1 + n2 - 1)\n",
    "pool_var"
   ]
  },
  {
   "cell_type": "code",
   "execution_count": 4,
   "id": "other-satellite",
   "metadata": {},
   "outputs": [
    {
     "data": {
      "text/plain": [
       "6.0"
      ]
     },
     "execution_count": 4,
     "metadata": {},
     "output_type": "execute_result"
    }
   ],
   "source": [
    "# b. \n",
    "n1, n2 = 4, 7\n",
    "pool_var = (SS1 + SS2) / (n1 - 1 + n2 - 1)\n",
    "pool_var"
   ]
  },
  {
   "cell_type": "code",
   "execution_count": null,
   "id": "ahead-monte",
   "metadata": {},
   "outputs": [],
   "source": []
  },
  {
   "cell_type": "markdown",
   "id": "funny-consistency",
   "metadata": {},
   "source": [
    "---\n",
    "![''](./10_src/10_04_01.png)\n",
    "\n",
    "![''](./10_src/10_04_02.png)"
   ]
  },
  {
   "cell_type": "code",
   "execution_count": 5,
   "id": "after-powder",
   "metadata": {},
   "outputs": [],
   "source": [
    "SS1, SS2 = 60, 48"
   ]
  },
  {
   "cell_type": "code",
   "execution_count": 6,
   "id": "exclusive-acquisition",
   "metadata": {},
   "outputs": [
    {
     "data": {
      "text/plain": [
       "9.0"
      ]
     },
     "execution_count": 6,
     "metadata": {},
     "output_type": "execute_result"
    }
   ],
   "source": [
    "# a. \n",
    "n1, n2 = 7, 7\n",
    "pool_var = (SS1 + SS2) / (n1 - 1 + n2 - 1)\n",
    "pool_var"
   ]
  },
  {
   "cell_type": "code",
   "execution_count": 7,
   "id": "detailed-brave",
   "metadata": {},
   "outputs": [
    {
     "data": {
      "text/plain": [
       "10.8"
      ]
     },
     "execution_count": 7,
     "metadata": {},
     "output_type": "execute_result"
    }
   ],
   "source": [
    "# a. \n",
    "n1, n2 = 7, 5\n",
    "pool_var = (SS1 + SS2) / (n1 - 1 + n2 - 1)\n",
    "pool_var"
   ]
  },
  {
   "cell_type": "code",
   "execution_count": null,
   "id": "valid-syndication",
   "metadata": {},
   "outputs": [],
   "source": []
  },
  {
   "cell_type": "markdown",
   "id": "seasonal-growth",
   "metadata": {},
   "source": [
    "# Pool Variance, Estimated standard Error, null hypothesis 기각 여부 결정"
   ]
  },
  {
   "cell_type": "markdown",
   "id": "absent-magnitude",
   "metadata": {},
   "source": [
    "---\n",
    "![''](./10_src/10_05_01.png)"
   ]
  },
  {
   "cell_type": "code",
   "execution_count": 35,
   "id": "employed-smile",
   "metadata": {},
   "outputs": [],
   "source": [
    "SS1, SS2 = 1740, 1620\n",
    "n1, n2 = 15, 15"
   ]
  },
  {
   "cell_type": "code",
   "execution_count": 36,
   "id": "pressing-iraqi",
   "metadata": {},
   "outputs": [
    {
     "data": {
      "text/plain": [
       "120.0"
      ]
     },
     "execution_count": 36,
     "metadata": {},
     "output_type": "execute_result"
    }
   ],
   "source": [
    "# a.\n",
    "pool_var = (SS1 + SS2) / (n1 - 1 + n2 - 1)\n",
    "pool_var"
   ]
  },
  {
   "cell_type": "code",
   "execution_count": 37,
   "id": "popular-denmark",
   "metadata": {},
   "outputs": [
    {
     "data": {
      "text/plain": [
       "4.0"
      ]
     },
     "execution_count": 37,
     "metadata": {},
     "output_type": "execute_result"
    }
   ],
   "source": [
    "# b.\n",
    "std_error = np.sqrt((pool_var / n1) + (pool_var / n2))\n",
    "std_error"
   ]
  },
  {
   "cell_type": "code",
   "execution_count": 38,
   "id": "lyric-administration",
   "metadata": {},
   "outputs": [
    {
     "data": {
      "text/plain": [
       "(2.0, 2.048, False)"
      ]
     },
     "execution_count": 38,
     "metadata": {},
     "output_type": "execute_result"
    }
   ],
   "source": [
    "# c. \n",
    "M_d = 8\n",
    "\n",
    "t_portion = calculate_t_portion(n1, n2, alpha=0.05, tail_num=2)\n",
    "t_statistic = M_d / std_error\n",
    "\n",
    "t_statistic, t_portion, t_statistic > t_portion"
   ]
  },
  {
   "cell_type": "code",
   "execution_count": null,
   "id": "falling-clinic",
   "metadata": {},
   "outputs": [],
   "source": []
  },
  {
   "cell_type": "markdown",
   "id": "duplicate-exercise",
   "metadata": {},
   "source": [
    "---\n",
    "![''](./10_src/10_06_01.png)"
   ]
  },
  {
   "cell_type": "code",
   "execution_count": 39,
   "id": "returning-april",
   "metadata": {},
   "outputs": [],
   "source": [
    "SS1, SS2 = 462, 420\n",
    "n1, n2 = 9, 7"
   ]
  },
  {
   "cell_type": "code",
   "execution_count": 40,
   "id": "premier-twenty",
   "metadata": {},
   "outputs": [
    {
     "data": {
      "text/plain": [
       "63.0"
      ]
     },
     "execution_count": 40,
     "metadata": {},
     "output_type": "execute_result"
    }
   ],
   "source": [
    "# a.\n",
    "pool_var = (SS1 + SS2) / (n1 - 1 + n2 - 1)\n",
    "pool_var"
   ]
  },
  {
   "cell_type": "code",
   "execution_count": 41,
   "id": "legal-point",
   "metadata": {},
   "outputs": [
    {
     "data": {
      "text/plain": [
       "4.0"
      ]
     },
     "execution_count": 41,
     "metadata": {},
     "output_type": "execute_result"
    }
   ],
   "source": [
    "# b.\n",
    "std_error = np.sqrt((pool_var / n1) + (pool_var / n2))\n",
    "std_error"
   ]
  },
  {
   "cell_type": "code",
   "execution_count": 42,
   "id": "continued-ethics",
   "metadata": {},
   "outputs": [
    {
     "data": {
      "text/plain": [
       "(2.5, 2.145, True)"
      ]
     },
     "execution_count": 42,
     "metadata": {},
     "output_type": "execute_result"
    }
   ],
   "source": [
    "# c. \n",
    "M_d = 10\n",
    "\n",
    "t_portion = calculate_t_portion(n1, n2, alpha=0.05, tail_num=2)\n",
    "t_statistic = M_d / std_error\n",
    "\n",
    "t_statistic, t_portion, t_statistic > t_portion"
   ]
  },
  {
   "cell_type": "code",
   "execution_count": null,
   "id": "excited-multimedia",
   "metadata": {},
   "outputs": [],
   "source": []
  },
  {
   "cell_type": "markdown",
   "id": "filled-garlic",
   "metadata": {},
   "source": [
    "# independent-measure t test (using statistic)\n",
    "- change alpah level\n",
    "- calculate cohens_d\n",
    "- calculate r_squared\n",
    "- calculate confidence_interval"
   ]
  },
  {
   "cell_type": "markdown",
   "id": "developing-butter",
   "metadata": {},
   "source": [
    "---\n",
    "![''](./10_src/10_07_01.png)"
   ]
  },
  {
   "cell_type": "code",
   "execution_count": 52,
   "id": "endangered-preparation",
   "metadata": {},
   "outputs": [],
   "source": [
    "SS1, SS2 = 200, 160\n",
    "n1, n2 = 10, 10\n",
    "M1, M2 = 93, 85"
   ]
  },
  {
   "cell_type": "code",
   "execution_count": 57,
   "id": "outdoor-possible",
   "metadata": {},
   "outputs": [
    {
     "name": "stdout",
     "output_type": "stream",
     "text": [
      "[two tail, alpha 0.05] t_statistic:4.0, critical_region:t > 2.101 or t < -2.101\n",
      "=> null hypothesis rejection [True]\n"
     ]
    }
   ],
   "source": [
    "ttest_ind_from_stats(M1, M2, SS1, SS2, n1, n2)"
   ]
  },
  {
   "cell_type": "code",
   "execution_count": null,
   "id": "iraqi-mouse",
   "metadata": {},
   "outputs": [],
   "source": []
  },
  {
   "cell_type": "markdown",
   "id": "suspended-basic",
   "metadata": {},
   "source": [
    "---\n",
    "![''](./10_src/10_08_01.png)\n",
    "\n",
    "![''](./10_src/10_08_02.png)"
   ]
  },
  {
   "cell_type": "code",
   "execution_count": 66,
   "id": "tribal-clothing",
   "metadata": {},
   "outputs": [],
   "source": [
    "SS1, SS2 = 398, 370\n",
    "n1, n2 = 18, 16\n",
    "M1, M2 = 42, 48.6"
   ]
  },
  {
   "cell_type": "code",
   "execution_count": 61,
   "id": "dedicated-miracle",
   "metadata": {},
   "outputs": [
    {
     "name": "stdout",
     "output_type": "stream",
     "text": [
      "[two tail, alpha 0.01] t_statistic:-3.920984270187631, critical_region:t > 2.738 or t < -2.738\n",
      "=> null hypothesis rejection [True]\n"
     ]
    }
   ],
   "source": [
    "ttest_ind_from_stats(M1, M2, SS1, SS2, n1, n2, alpha=0.01)"
   ]
  },
  {
   "cell_type": "code",
   "execution_count": null,
   "id": "colonial-garlic",
   "metadata": {},
   "outputs": [],
   "source": []
  },
  {
   "cell_type": "code",
   "execution_count": 70,
   "id": "standard-citizen",
   "metadata": {},
   "outputs": [
    {
     "data": {
      "text/plain": [
       "-1.347"
      ]
     },
     "execution_count": 70,
     "metadata": {},
     "output_type": "execute_result"
    }
   ],
   "source": [
    "cohens_d_ind_from_stats(M1, M2, SS1, SS2, n1, n2)"
   ]
  },
  {
   "cell_type": "code",
   "execution_count": null,
   "id": "enormous-canyon",
   "metadata": {},
   "outputs": [],
   "source": []
  },
  {
   "cell_type": "markdown",
   "id": "unauthorized-lunch",
   "metadata": {},
   "source": [
    "---\n",
    "![''](./10_src/10_09_01.png)"
   ]
  },
  {
   "cell_type": "code",
   "execution_count": 73,
   "id": "delayed-marble",
   "metadata": {},
   "outputs": [],
   "source": [
    "# # s = np.sqrt(SS1 / (n - 1))\n",
    "# SS1 / (n - 1) = s**2\n",
    "# SS1 = s**2 * (n - 1)"
   ]
  },
  {
   "cell_type": "code",
   "execution_count": 72,
   "id": "dried-chambers",
   "metadata": {},
   "outputs": [],
   "source": [
    "s1, s2 = 85, 91\n",
    "n1, n2 = 100, 100\n",
    "\n",
    "SS1, SS2 = s1**2 * (n1 - 1), s2**2 * (n2 - 1)\n",
    "M1, M2 = 786, 772"
   ]
  },
  {
   "cell_type": "code",
   "execution_count": 75,
   "id": "closing-insider",
   "metadata": {},
   "outputs": [
    {
     "name": "stdout",
     "output_type": "stream",
     "text": [
      "[two tail, alpha 0.05] t_statistic:1.124289477102992, critical_region:t > 1.972 or t < -1.972\n",
      "=> null hypothesis rejection [False]\n"
     ]
    }
   ],
   "source": [
    "ttest_ind_from_stats(M1, M2, SS1, SS2, n1, n2)"
   ]
  },
  {
   "cell_type": "code",
   "execution_count": 81,
   "id": "vertical-discount",
   "metadata": {},
   "outputs": [],
   "source": []
  },
  {
   "cell_type": "code",
   "execution_count": 82,
   "id": "constitutional-sphere",
   "metadata": {},
   "outputs": [
    {
     "data": {
      "text/plain": [
       "0.0063"
      ]
     },
     "execution_count": 82,
     "metadata": {},
     "output_type": "execute_result"
    }
   ],
   "source": [
    "r_squared_ind(M1, M2, SS1, SS2, n1, n2)"
   ]
  },
  {
   "cell_type": "code",
   "execution_count": null,
   "id": "southeast-tanzania",
   "metadata": {},
   "outputs": [],
   "source": []
  },
  {
   "cell_type": "markdown",
   "id": "neutral-harmony",
   "metadata": {},
   "source": [
    "---\n",
    "![''](./10_src/10_10_01.png)\n",
    "\n",
    "![''](./10_src/10_10_02.png)"
   ]
  },
  {
   "cell_type": "code",
   "execution_count": 85,
   "id": "forbidden-salad",
   "metadata": {},
   "outputs": [],
   "source": [
    "n1, n2 = 15, 15\n",
    "M1, M2 = 40.8, 34\n",
    "SS1, SS2 = 510, 414"
   ]
  },
  {
   "cell_type": "code",
   "execution_count": 86,
   "id": "scenic-infrared",
   "metadata": {},
   "outputs": [
    {
     "name": "stdout",
     "output_type": "stream",
     "text": [
      "[two tail, alpha 0.05] t_statistic:3.2417728034350124, critical_region:t > 2.048 or t < -2.048\n",
      "=> null hypothesis rejection [True]\n"
     ]
    }
   ],
   "source": [
    "ttest_ind_from_stats(M1, M2, SS1, SS2, n1, n2)"
   ]
  },
  {
   "cell_type": "code",
   "execution_count": 87,
   "id": "according-raising",
   "metadata": {},
   "outputs": [
    {
     "data": {
      "text/plain": [
       "1.184"
      ]
     },
     "execution_count": 87,
     "metadata": {},
     "output_type": "execute_result"
    }
   ],
   "source": [
    "cohens_d_ind_from_stats(M1, M2, SS1, SS2, n1, n2)"
   ]
  },
  {
   "cell_type": "code",
   "execution_count": null,
   "id": "announced-wisconsin",
   "metadata": {},
   "outputs": [],
   "source": []
  },
  {
   "cell_type": "markdown",
   "id": "italic-license",
   "metadata": {},
   "source": [
    "---\n",
    "![''](./10_src/10_11_01.png)"
   ]
  },
  {
   "cell_type": "code",
   "execution_count": 88,
   "id": "reduced-kansas",
   "metadata": {},
   "outputs": [],
   "source": [
    "n1, n2 = 27, 27\n",
    "M1, M2 = 7.41, 4.78\n",
    "SS1, SS2 = 749.5, 830"
   ]
  },
  {
   "cell_type": "code",
   "execution_count": 95,
   "id": "charitable-march",
   "metadata": {},
   "outputs": [
    {
     "name": "stdout",
     "output_type": "stream",
     "text": [
      "[one tail, alpha 0.05] t_statistic:1.7533333333333332, critical_region:t > 1.675\n",
      "=> null hypothesis rejection [True]\n"
     ]
    }
   ],
   "source": [
    "ttest_ind_from_stats(M1, M2, SS1, SS2, n1, n2, tail_num=1)"
   ]
  },
  {
   "cell_type": "code",
   "execution_count": 96,
   "id": "numerical-avatar",
   "metadata": {},
   "outputs": [
    {
     "data": {
      "text/plain": [
       "0.477"
      ]
     },
     "execution_count": 96,
     "metadata": {},
     "output_type": "execute_result"
    }
   ],
   "source": [
    "cohens_d_ind_from_stats(M1, M2, SS1, SS2, n1, n2)"
   ]
  },
  {
   "cell_type": "code",
   "execution_count": null,
   "id": "emerging-calculator",
   "metadata": {},
   "outputs": [],
   "source": []
  },
  {
   "cell_type": "markdown",
   "id": "matched-great",
   "metadata": {},
   "source": [
    "---\n",
    "![''](./10_src/10_15_01.png)"
   ]
  },
  {
   "cell_type": "code",
   "execution_count": 121,
   "id": "parliamentary-distance",
   "metadata": {},
   "outputs": [],
   "source": [
    "n1, n2 = 8, 8\n",
    "M1, M2 = 10.5, 6.16\n",
    "SS1, SS2 = 108, 116"
   ]
  },
  {
   "cell_type": "code",
   "execution_count": 122,
   "id": "swiss-webster",
   "metadata": {},
   "outputs": [
    {
     "name": "stdout",
     "output_type": "stream",
     "text": [
      "[two tail, alpha 0.05] t_statistic:2.17, critical_region:t > 2.145 or t < -2.145\n",
      "=> null hypothesis rejection [True]\n"
     ]
    }
   ],
   "source": [
    "ttest_ind_from_stats(M1, M2, SS1, SS2, n1, n2)"
   ]
  },
  {
   "cell_type": "markdown",
   "id": "combined-spanking",
   "metadata": {},
   "source": [
    "---\n",
    "![''](./10_src/10_17_01.png)"
   ]
  },
  {
   "cell_type": "code",
   "execution_count": null,
   "id": "disciplinary-international",
   "metadata": {},
   "outputs": [],
   "source": []
  },
  {
   "cell_type": "code",
   "execution_count": null,
   "id": "revolutionary-comparative",
   "metadata": {},
   "outputs": [],
   "source": []
  },
  {
   "cell_type": "code",
   "execution_count": null,
   "id": "mechanical-drilling",
   "metadata": {},
   "outputs": [],
   "source": []
  },
  {
   "cell_type": "markdown",
   "id": "essential-scotland",
   "metadata": {},
   "source": [
    "# independent-measure t test (using raw dataset)"
   ]
  },
  {
   "cell_type": "markdown",
   "id": "colored-portugal",
   "metadata": {},
   "source": [
    "---\n",
    "![''](./10_src/10_12_01.png)\n",
    "\n",
    "![''](./10_src/10_12_02.png)"
   ]
  },
  {
   "cell_type": "code",
   "execution_count": 97,
   "id": "velvet-amount",
   "metadata": {},
   "outputs": [
    {
     "data": {
      "text/html": [
       "<div>\n",
       "<style scoped>\n",
       "    .dataframe tbody tr th:only-of-type {\n",
       "        vertical-align: middle;\n",
       "    }\n",
       "\n",
       "    .dataframe tbody tr th {\n",
       "        vertical-align: top;\n",
       "    }\n",
       "\n",
       "    .dataframe thead th {\n",
       "        text-align: right;\n",
       "    }\n",
       "</style>\n",
       "<table border=\"1\" class=\"dataframe\">\n",
       "  <thead>\n",
       "    <tr style=\"text-align: right;\">\n",
       "      <th></th>\n",
       "      <th>A</th>\n",
       "      <th>B</th>\n",
       "    </tr>\n",
       "  </thead>\n",
       "  <tbody>\n",
       "    <tr>\n",
       "      <th>0</th>\n",
       "      <td>24</td>\n",
       "      <td>26</td>\n",
       "    </tr>\n",
       "    <tr>\n",
       "      <th>1</th>\n",
       "      <td>25</td>\n",
       "      <td>23</td>\n",
       "    </tr>\n",
       "    <tr>\n",
       "      <th>2</th>\n",
       "      <td>22</td>\n",
       "      <td>20</td>\n",
       "    </tr>\n",
       "    <tr>\n",
       "      <th>3</th>\n",
       "      <td>24</td>\n",
       "      <td>23</td>\n",
       "    </tr>\n",
       "    <tr>\n",
       "      <th>4</th>\n",
       "      <td>26</td>\n",
       "      <td>20</td>\n",
       "    </tr>\n",
       "    <tr>\n",
       "      <th>5</th>\n",
       "      <td>17</td>\n",
       "      <td>16</td>\n",
       "    </tr>\n",
       "    <tr>\n",
       "      <th>6</th>\n",
       "      <td>21</td>\n",
       "      <td>21</td>\n",
       "    </tr>\n",
       "    <tr>\n",
       "      <th>7</th>\n",
       "      <td>22</td>\n",
       "      <td>17</td>\n",
       "    </tr>\n",
       "    <tr>\n",
       "      <th>8</th>\n",
       "      <td>22</td>\n",
       "      <td>18</td>\n",
       "    </tr>\n",
       "    <tr>\n",
       "      <th>9</th>\n",
       "      <td>19</td>\n",
       "      <td>23</td>\n",
       "    </tr>\n",
       "    <tr>\n",
       "      <th>10</th>\n",
       "      <td>24</td>\n",
       "      <td>16</td>\n",
       "    </tr>\n",
       "    <tr>\n",
       "      <th>11</th>\n",
       "      <td>23</td>\n",
       "      <td>20</td>\n",
       "    </tr>\n",
       "    <tr>\n",
       "      <th>12</th>\n",
       "      <td>23</td>\n",
       "      <td>25</td>\n",
       "    </tr>\n",
       "    <tr>\n",
       "      <th>13</th>\n",
       "      <td>28</td>\n",
       "      <td>19</td>\n",
       "    </tr>\n",
       "    <tr>\n",
       "      <th>14</th>\n",
       "      <td>25</td>\n",
       "      <td>17</td>\n",
       "    </tr>\n",
       "    <tr>\n",
       "      <th>15</th>\n",
       "      <td>23</td>\n",
       "      <td>16</td>\n",
       "    </tr>\n",
       "  </tbody>\n",
       "</table>\n",
       "</div>"
      ],
      "text/plain": [
       "     A   B\n",
       "0   24  26\n",
       "1   25  23\n",
       "2   22  20\n",
       "3   24  23\n",
       "4   26  20\n",
       "5   17  16\n",
       "6   21  21\n",
       "7   22  17\n",
       "8   22  18\n",
       "9   19  23\n",
       "10  24  16\n",
       "11  23  20\n",
       "12  23  25\n",
       "13  28  19\n",
       "14  25  17\n",
       "15  23  16"
      ]
     },
     "execution_count": 97,
     "metadata": {},
     "output_type": "execute_result"
    }
   ],
   "source": [
    "exp_df = pd.DataFrame({'A':[24, 25, 22, 24, 26, 17, 21, 22, 22, 19, 24, 23, 23, 28, 25, 23], \n",
    "                       'B':[26, 23, 20, 23, 20, 16, 21, 17, 18, 23, 16, 20, 25, 19, 17, 16]})\n",
    "exp_df"
   ]
  },
  {
   "cell_type": "code",
   "execution_count": 106,
   "id": "polish-likelihood",
   "metadata": {},
   "outputs": [],
   "source": [
    "n1, n2 = len(exp_df.A), len(exp_df.A)\n",
    "M1, M2 = exp_df.A.mean(), exp_df.B.mean()\n",
    "SS1, SS2 = np.sum([r**2 for r in exp_df.A]) - (np.sum(exp_df.A)**2 / n1), np.sum([r**2 for r in exp_df.B]) - (np.sum(exp_df.B)**2 / n2)"
   ]
  },
  {
   "cell_type": "code",
   "execution_count": 108,
   "id": "hybrid-insured",
   "metadata": {},
   "outputs": [
    {
     "name": "stdout",
     "output_type": "stream",
     "text": [
      "[two tail, alpha 0.05] t_statistic:2.8603877677367766, critical_region:t > 2.042 or t < -2.042\n",
      "=> null hypothesis rejection [True]\n"
     ]
    }
   ],
   "source": [
    "ttest_ind_from_stats(M1, M2, SS1, SS2, n1, n2)"
   ]
  },
  {
   "cell_type": "code",
   "execution_count": 110,
   "id": "through-switzerland",
   "metadata": {},
   "outputs": [
    {
     "data": {
      "text/plain": [
       "Ttest_indResult(statistic=2.8603877677367766, pvalue=0.007632564205742544)"
      ]
     },
     "execution_count": 110,
     "metadata": {},
     "output_type": "execute_result"
    }
   ],
   "source": [
    "stats.ttest_ind(exp_df.A, exp_df.B)"
   ]
  },
  {
   "cell_type": "code",
   "execution_count": null,
   "id": "forty-cambridge",
   "metadata": {},
   "outputs": [],
   "source": []
  },
  {
   "cell_type": "markdown",
   "id": "greek-spice",
   "metadata": {},
   "source": [
    "---\n",
    "![''](./10_src/10_13_01.png)"
   ]
  },
  {
   "cell_type": "code",
   "execution_count": 111,
   "id": "bizarre-documentary",
   "metadata": {},
   "outputs": [
    {
     "data": {
      "text/html": [
       "<div>\n",
       "<style scoped>\n",
       "    .dataframe tbody tr th:only-of-type {\n",
       "        vertical-align: middle;\n",
       "    }\n",
       "\n",
       "    .dataframe tbody tr th {\n",
       "        vertical-align: top;\n",
       "    }\n",
       "\n",
       "    .dataframe thead th {\n",
       "        text-align: right;\n",
       "    }\n",
       "</style>\n",
       "<table border=\"1\" class=\"dataframe\">\n",
       "  <thead>\n",
       "    <tr style=\"text-align: right;\">\n",
       "      <th></th>\n",
       "      <th>A</th>\n",
       "      <th>B</th>\n",
       "    </tr>\n",
       "  </thead>\n",
       "  <tbody>\n",
       "    <tr>\n",
       "      <th>0</th>\n",
       "      <td>10</td>\n",
       "      <td>7</td>\n",
       "    </tr>\n",
       "    <tr>\n",
       "      <th>1</th>\n",
       "      <td>8</td>\n",
       "      <td>4</td>\n",
       "    </tr>\n",
       "    <tr>\n",
       "      <th>2</th>\n",
       "      <td>7</td>\n",
       "      <td>9</td>\n",
       "    </tr>\n",
       "    <tr>\n",
       "      <th>3</th>\n",
       "      <td>9</td>\n",
       "      <td>3</td>\n",
       "    </tr>\n",
       "    <tr>\n",
       "      <th>4</th>\n",
       "      <td>13</td>\n",
       "      <td>7</td>\n",
       "    </tr>\n",
       "    <tr>\n",
       "      <th>5</th>\n",
       "      <td>7</td>\n",
       "      <td>6</td>\n",
       "    </tr>\n",
       "    <tr>\n",
       "      <th>6</th>\n",
       "      <td>6</td>\n",
       "      <td>10</td>\n",
       "    </tr>\n",
       "    <tr>\n",
       "      <th>7</th>\n",
       "      <td>12</td>\n",
       "      <td>2</td>\n",
       "    </tr>\n",
       "  </tbody>\n",
       "</table>\n",
       "</div>"
      ],
      "text/plain": [
       "    A   B\n",
       "0  10   7\n",
       "1   8   4\n",
       "2   7   9\n",
       "3   9   3\n",
       "4  13   7\n",
       "5   7   6\n",
       "6   6  10\n",
       "7  12   2"
      ]
     },
     "execution_count": 111,
     "metadata": {},
     "output_type": "execute_result"
    }
   ],
   "source": [
    "exp_df = pd.DataFrame({'A':[10, 8, 7, 9, 13, 7, 6, 12], \n",
    "                       'B':[7, 4, 9, 3, 7, 6, 10, 2]})\n",
    "exp_df"
   ]
  },
  {
   "cell_type": "code",
   "execution_count": 112,
   "id": "opening-times",
   "metadata": {},
   "outputs": [],
   "source": [
    "n1, n2 = len(exp_df.A), len(exp_df.A)\n",
    "M1, M2 = exp_df.A.mean(), exp_df.B.mean()\n",
    "SS1, SS2 = np.sum([r**2 for r in exp_df.A]) - (np.sum(exp_df.A)**2 / n1), np.sum([r**2 for r in exp_df.B]) - (np.sum(exp_df.B)**2 / n2)"
   ]
  },
  {
   "cell_type": "code",
   "execution_count": 113,
   "id": "confident-buying",
   "metadata": {},
   "outputs": [
    {
     "name": "stdout",
     "output_type": "stream",
     "text": [
      "[one tail, alpha 0.05] t_statistic:2.244994432064365, critical_region:t > 1.761\n",
      "=> null hypothesis rejection [True]\n"
     ]
    }
   ],
   "source": [
    "ttest_ind_from_stats(M1, M2, SS1, SS2, n1, n2, tail_num=1)"
   ]
  },
  {
   "cell_type": "code",
   "execution_count": 114,
   "id": "injured-fluid",
   "metadata": {},
   "outputs": [
    {
     "data": {
      "text/plain": [
       "Ttest_indResult(statistic=2.244994432064365, pvalue=0.04144310815279534)"
      ]
     },
     "execution_count": 114,
     "metadata": {},
     "output_type": "execute_result"
    }
   ],
   "source": [
    "stats.ttest_ind(exp_df.A, exp_df.B)"
   ]
  },
  {
   "cell_type": "code",
   "execution_count": 115,
   "id": "interested-phoenix",
   "metadata": {},
   "outputs": [
    {
     "data": {
      "text/plain": [
       "0.2647"
      ]
     },
     "execution_count": 115,
     "metadata": {},
     "output_type": "execute_result"
    }
   ],
   "source": [
    "r_squared_ind(M1, M2, SS1, SS2, n1, n2)"
   ]
  },
  {
   "cell_type": "code",
   "execution_count": null,
   "id": "classified-mediterranean",
   "metadata": {},
   "outputs": [],
   "source": []
  },
  {
   "cell_type": "markdown",
   "id": "previous-nothing",
   "metadata": {},
   "source": [
    "---\n",
    "![''](./10_src/10_14_01.png)\n",
    "\n",
    "![''](./10_src/10_14_02.png)"
   ]
  },
  {
   "cell_type": "code",
   "execution_count": 116,
   "id": "medieval-production",
   "metadata": {},
   "outputs": [
    {
     "data": {
      "text/html": [
       "<div>\n",
       "<style scoped>\n",
       "    .dataframe tbody tr th:only-of-type {\n",
       "        vertical-align: middle;\n",
       "    }\n",
       "\n",
       "    .dataframe tbody tr th {\n",
       "        vertical-align: top;\n",
       "    }\n",
       "\n",
       "    .dataframe thead th {\n",
       "        text-align: right;\n",
       "    }\n",
       "</style>\n",
       "<table border=\"1\" class=\"dataframe\">\n",
       "  <thead>\n",
       "    <tr style=\"text-align: right;\">\n",
       "      <th></th>\n",
       "      <th>A</th>\n",
       "      <th>B</th>\n",
       "    </tr>\n",
       "  </thead>\n",
       "  <tbody>\n",
       "    <tr>\n",
       "      <th>0</th>\n",
       "      <td>7</td>\n",
       "      <td>9</td>\n",
       "    </tr>\n",
       "    <tr>\n",
       "      <th>1</th>\n",
       "      <td>8</td>\n",
       "      <td>11</td>\n",
       "    </tr>\n",
       "    <tr>\n",
       "      <th>2</th>\n",
       "      <td>10</td>\n",
       "      <td>13</td>\n",
       "    </tr>\n",
       "    <tr>\n",
       "      <th>3</th>\n",
       "      <td>6</td>\n",
       "      <td>10</td>\n",
       "    </tr>\n",
       "    <tr>\n",
       "      <th>4</th>\n",
       "      <td>8</td>\n",
       "      <td>11</td>\n",
       "    </tr>\n",
       "    <tr>\n",
       "      <th>5</th>\n",
       "      <td>5</td>\n",
       "      <td>9</td>\n",
       "    </tr>\n",
       "    <tr>\n",
       "      <th>6</th>\n",
       "      <td>7</td>\n",
       "      <td>15</td>\n",
       "    </tr>\n",
       "    <tr>\n",
       "      <th>7</th>\n",
       "      <td>12</td>\n",
       "      <td>14</td>\n",
       "    </tr>\n",
       "    <tr>\n",
       "      <th>8</th>\n",
       "      <td>5</td>\n",
       "      <td>10</td>\n",
       "    </tr>\n",
       "  </tbody>\n",
       "</table>\n",
       "</div>"
      ],
      "text/plain": [
       "    A   B\n",
       "0   7   9\n",
       "1   8  11\n",
       "2  10  13\n",
       "3   6  10\n",
       "4   8  11\n",
       "5   5   9\n",
       "6   7  15\n",
       "7  12  14\n",
       "8   5  10"
      ]
     },
     "execution_count": 116,
     "metadata": {},
     "output_type": "execute_result"
    }
   ],
   "source": [
    "exp_df = pd.DataFrame({'A':[7, 8, 10, 6, 8, 5, 7, 12, 5], \n",
    "                       'B':[9, 11, 13, 10, 11, 9, 15, 14, 10]})\n",
    "exp_df"
   ]
  },
  {
   "cell_type": "code",
   "execution_count": 117,
   "id": "hawaiian-miller",
   "metadata": {},
   "outputs": [],
   "source": [
    "n1, n2 = len(exp_df.A), len(exp_df.A)\n",
    "M1, M2 = exp_df.A.mean(), exp_df.B.mean()\n",
    "SS1, SS2 = np.sum([r**2 for r in exp_df.A]) - (np.sum(exp_df.A)**2 / n1), np.sum([r**2 for r in exp_df.B]) - (np.sum(exp_df.B)**2 / n2)"
   ]
  },
  {
   "cell_type": "code",
   "execution_count": 118,
   "id": "recognized-booth",
   "metadata": {},
   "outputs": [
    {
     "name": "stdout",
     "output_type": "stream",
     "text": [
      "[one tail, alpha 0.05] t_statistic:-3.578947368421054, critical_region:t < -1.746\n",
      "=> null hypothesis rejection [True]\n"
     ]
    }
   ],
   "source": [
    "ttest_ind_from_stats(M1, M2, SS1, SS2, n1, n2, tail_num=1)"
   ]
  },
  {
   "cell_type": "code",
   "execution_count": 119,
   "id": "cordless-destiny",
   "metadata": {},
   "outputs": [
    {
     "data": {
      "text/plain": [
       "Ttest_indResult(statistic=-3.578947368421053, pvalue=0.0025083298432781805)"
      ]
     },
     "execution_count": 119,
     "metadata": {},
     "output_type": "execute_result"
    }
   ],
   "source": [
    "stats.ttest_ind(exp_df.A, exp_df.B)"
   ]
  },
  {
   "cell_type": "code",
   "execution_count": 120,
   "id": "significant-orientation",
   "metadata": {},
   "outputs": [
    {
     "data": {
      "text/plain": [
       "-1.687"
      ]
     },
     "execution_count": 120,
     "metadata": {},
     "output_type": "execute_result"
    }
   ],
   "source": [
    "cohens_d_ind_from_stats(M1, M2, SS1, SS2, n1, n2)"
   ]
  },
  {
   "cell_type": "code",
   "execution_count": null,
   "id": "educated-institute",
   "metadata": {},
   "outputs": [],
   "source": []
  },
  {
   "cell_type": "code",
   "execution_count": null,
   "id": "wanted-judges",
   "metadata": {},
   "outputs": [],
   "source": [
    "# Pool Variance, Estimated standard Error, null hypothesis 기각 여부 결정\n",
    "# independent-measure t test (using statistic)\n",
    "# independent-measure t test (using raw dataset)"
   ]
  },
  {
   "cell_type": "code",
   "execution_count": null,
   "id": "absent-forestry",
   "metadata": {},
   "outputs": [],
   "source": []
  },
  {
   "cell_type": "code",
   "execution_count": null,
   "id": "present-straight",
   "metadata": {},
   "outputs": [],
   "source": []
  },
  {
   "cell_type": "markdown",
   "id": "seeing-holiday",
   "metadata": {},
   "source": [
    "---\n",
    "![''](./10_src/10_16_01.png)"
   ]
  },
  {
   "cell_type": "markdown",
   "id": "common-belgium",
   "metadata": {},
   "source": [
    "---\n",
    "![''](./10_src/10_19_01.png)"
   ]
  },
  {
   "cell_type": "code",
   "execution_count": null,
   "id": "executed-monaco",
   "metadata": {},
   "outputs": [],
   "source": []
  },
  {
   "cell_type": "code",
   "execution_count": null,
   "id": "classical-thomas",
   "metadata": {},
   "outputs": [],
   "source": []
  },
  {
   "cell_type": "code",
   "execution_count": null,
   "id": "residential-salad",
   "metadata": {},
   "outputs": [],
   "source": []
  },
  {
   "cell_type": "markdown",
   "id": "residential-fantasy",
   "metadata": {},
   "source": [
    "# sample size, variability가 standard error for the sample mean difference(estimated standard error)에 끼치는 영향"
   ]
  },
  {
   "cell_type": "markdown",
   "id": "genuine-capture",
   "metadata": {},
   "source": [
    "---\n",
    "![''](./10_src/10_20_01.png)"
   ]
  },
  {
   "cell_type": "markdown",
   "id": "artificial-insert",
   "metadata": {},
   "source": [
    "---\n",
    "![''](./10_src/10_21_01.png)\n",
    "\n",
    "![''](./10_src/10_21_02.png)"
   ]
  },
  {
   "cell_type": "markdown",
   "id": "daily-gnome",
   "metadata": {},
   "source": [
    "---\n",
    "![''](./10_src/10_22_01.png)"
   ]
  },
  {
   "cell_type": "markdown",
   "id": "electric-neighborhood",
   "metadata": {},
   "source": [
    "---\n",
    "![''](./10_src/10_23_01.png)"
   ]
  },
  {
   "cell_type": "code",
   "execution_count": null,
   "id": "essential-operation",
   "metadata": {},
   "outputs": [],
   "source": []
  },
  {
   "cell_type": "code",
   "execution_count": null,
   "id": "unexpected-sally",
   "metadata": {},
   "outputs": [],
   "source": []
  },
  {
   "cell_type": "code",
   "execution_count": null,
   "id": "worldwide-nightlife",
   "metadata": {},
   "outputs": [],
   "source": []
  },
  {
   "cell_type": "code",
   "execution_count": null,
   "id": "median-parliament",
   "metadata": {},
   "outputs": [],
   "source": []
  },
  {
   "cell_type": "code",
   "execution_count": null,
   "id": "intellectual-oxygen",
   "metadata": {},
   "outputs": [],
   "source": []
  }
 ],
 "metadata": {
  "kernelspec": {
   "display_name": "Python 3",
   "language": "python",
   "name": "python3"
  },
  "language_info": {
   "codemirror_mode": {
    "name": "ipython",
    "version": 3
   },
   "file_extension": ".py",
   "mimetype": "text/x-python",
   "name": "python",
   "nbconvert_exporter": "python",
   "pygments_lexer": "ipython3",
   "version": "3.9.1"
  }
 },
 "nbformat": 4,
 "nbformat_minor": 5
}
