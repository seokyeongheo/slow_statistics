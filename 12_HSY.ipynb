{
 "cells": [
  {
   "cell_type": "code",
   "execution_count": 1,
   "id": "moved-wings",
   "metadata": {},
   "outputs": [],
   "source": [
    "import numpy as np\n",
    "import pandas as pd\n",
    "from scipy import stats\n",
    "\n",
    "import slow_statistic"
   ]
  },
  {
   "cell_type": "code",
   "execution_count": null,
   "id": "minor-usage",
   "metadata": {},
   "outputs": [],
   "source": []
  },
  {
   "cell_type": "markdown",
   "id": "quality-blowing",
   "metadata": {},
   "source": [
    "# 유형\n",
    "1. \n",
    "2. \n",
    "3. \n",
    "4. "
   ]
  },
  {
   "cell_type": "code",
   "execution_count": null,
   "id": "varied-passion",
   "metadata": {},
   "outputs": [],
   "source": []
  },
  {
   "cell_type": "markdown",
   "id": "impaired-strand",
   "metadata": {},
   "source": [
    "---\n",
    "![''](./12_src/12_13_01.png)"
   ]
  },
  {
   "cell_type": "markdown",
   "id": "apart-portal",
   "metadata": {},
   "source": [
    "---\n",
    "![''](./12_src/12_14_01.png)"
   ]
  },
  {
   "cell_type": "markdown",
   "id": "under-grove",
   "metadata": {},
   "source": [
    "---\n",
    "![''](./12_src/12_17_01.png)\n",
    "![''](./12_src/12_17_02.png)"
   ]
  },
  {
   "cell_type": "markdown",
   "id": "lovely-holiday",
   "metadata": {},
   "source": [
    "---\n",
    "![''](./12_src/12_18_01.png)"
   ]
  },
  {
   "cell_type": "markdown",
   "id": "frequent-broadcasting",
   "metadata": {},
   "source": [
    "---\n",
    "![''](./12_src/12_19_01.png)\n",
    "\n",
    "![''](./12_src/12_19_02.png)"
   ]
  },
  {
   "cell_type": "markdown",
   "id": "subsequent-enough",
   "metadata": {},
   "source": [
    "---\n",
    "![''](./12_src/12_20_01.png)"
   ]
  },
  {
   "cell_type": "markdown",
   "id": "wired-escape",
   "metadata": {},
   "source": [
    "---\n",
    "![''](./12_src/12_21_01.png)"
   ]
  },
  {
   "cell_type": "markdown",
   "id": "graphic-factor",
   "metadata": {},
   "source": [
    "---\n",
    "![''](./12_src/12_22_01.png)"
   ]
  },
  {
   "cell_type": "markdown",
   "id": "french-sound",
   "metadata": {},
   "source": [
    "---\n",
    "![''](./12_src/12_24_01.png)\n",
    "\n",
    "![''](./12_src/12_24_02.png)"
   ]
  },
  {
   "cell_type": "code",
   "execution_count": null,
   "id": "brief-electricity",
   "metadata": {},
   "outputs": [],
   "source": []
  },
  {
   "cell_type": "code",
   "execution_count": null,
   "id": "designing-prefix",
   "metadata": {},
   "outputs": [],
   "source": []
  },
  {
   "cell_type": "code",
   "execution_count": null,
   "id": "operational-courtesy",
   "metadata": {},
   "outputs": [],
   "source": []
  }
 ],
 "metadata": {
  "kernelspec": {
   "display_name": "Python 3",
   "language": "python",
   "name": "python3"
  },
  "language_info": {
   "codemirror_mode": {
    "name": "ipython",
    "version": 3
   },
   "file_extension": ".py",
   "mimetype": "text/x-python",
   "name": "python",
   "nbconvert_exporter": "python",
   "pygments_lexer": "ipython3",
   "version": "3.9.1"
  }
 },
 "nbformat": 4,
 "nbformat_minor": 5
}
