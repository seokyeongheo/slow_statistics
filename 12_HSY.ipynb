{
 "cells": [
  {
   "cell_type": "code",
   "execution_count": 1,
   "id": "allied-duration",
   "metadata": {},
   "outputs": [],
   "source": [
    "import numpy as np\n",
    "import pandas as pd\n",
    "from scipy import stats\n",
    "from statsmodels.stats.anova import AnovaRM\n",
    "\n",
    "import slow_statistic"
   ]
  },
  {
   "cell_type": "code",
   "execution_count": null,
   "id": "complete-queensland",
   "metadata": {},
   "outputs": [],
   "source": []
  },
  {
   "cell_type": "markdown",
   "id": "specific-liverpool",
   "metadata": {},
   "source": [
    "# 유형\n",
    "1. independent-measures ANOVA (using statistic)\n",
    "2. independent-measures ANOVA (using raw dataset)\n",
    "3. sample size, SS와 F-ratio와의 관계 (null hypothesis 기각여부 영향)"
   ]
  },
  {
   "cell_type": "code",
   "execution_count": 2,
   "id": "different-honduras",
   "metadata": {},
   "outputs": [],
   "source": [
    "# + post hoc test\n",
    "# + eta_squared"
   ]
  },
  {
   "cell_type": "code",
   "execution_count": null,
   "id": "defined-validation",
   "metadata": {},
   "outputs": [],
   "source": []
  },
  {
   "cell_type": "markdown",
   "id": "rocky-jenny",
   "metadata": {},
   "source": [
    "# independent-measures ANOVA (using statistic)"
   ]
  },
  {
   "cell_type": "markdown",
   "id": "capital-latex",
   "metadata": {},
   "source": [
    "---\n",
    "![''](./12_src/12_14_01.png)"
   ]
  },
  {
   "cell_type": "code",
   "execution_count": 2,
   "id": "excellent-literature",
   "metadata": {},
   "outputs": [
    {
     "name": "stdout",
     "output_type": "stream",
     "text": [
      "[alpha 0.05] F_ratio:9.0, critical_region:F > 3.68\n",
      "=> null hypothesis rejection [True]\n"
     ]
    }
   ],
   "source": [
    "slow_stat = slow_statistic.Stats()\n",
    "\n",
    "n_array = [8, 6, 4]\n",
    "t_array = [16, 24, 32]\n",
    "var_array = [40, 24, 16]\n",
    "\n",
    "slow_stat.f_oneway_ind_from_stat(n_array, t_array, var_array)"
   ]
  },
  {
   "cell_type": "code",
   "execution_count": null,
   "id": "terminal-trainer",
   "metadata": {},
   "outputs": [],
   "source": []
  },
  {
   "cell_type": "markdown",
   "id": "heated-preparation",
   "metadata": {},
   "source": [
    "---\n",
    "![''](./12_src/12_20_01.png)"
   ]
  },
  {
   "cell_type": "code",
   "execution_count": 3,
   "id": "composed-korea",
   "metadata": {},
   "outputs": [
    {
     "name": "stdout",
     "output_type": "stream",
     "text": [
      "[alpha 0.05] F_ratio:5.0, critical_region:F > 3.35\n",
      "=> null hypothesis rejection [True]\n"
     ]
    }
   ],
   "source": [
    "slow_stat = slow_statistic.Stats()\n",
    "\n",
    "n_array = [10, 10, 10]\n",
    "t_array = [20, 30, 40]\n",
    "var_array = [2.67, 2.00, 1.33]\n",
    "\n",
    "slow_stat.f_oneway_ind_from_stat(n_array, t_array, var_array, var_type='variance')"
   ]
  },
  {
   "cell_type": "code",
   "execution_count": null,
   "id": "olive-seating",
   "metadata": {},
   "outputs": [],
   "source": [
    "var = SS / df\n",
    "SS = var * df"
   ]
  },
  {
   "cell_type": "markdown",
   "id": "neural-wireless",
   "metadata": {},
   "source": [
    "---\n",
    "![''](./12_src/12_21_01.png)"
   ]
  },
  {
   "cell_type": "code",
   "execution_count": 4,
   "id": "dying-serbia",
   "metadata": {},
   "outputs": [
    {
     "name": "stdout",
     "output_type": "stream",
     "text": [
      "[alpha 0.05] F_ratio:12.5, critical_region:F > 3.12\n",
      "=> null hypothesis rejection [True]\n"
     ]
    }
   ],
   "source": [
    "slow_stat = slow_statistic.Stats()\n",
    "\n",
    "n_array = [25, 25, 25]\n",
    "t_array = [50, 75, 100]\n",
    "var_array = [2.67, 2.00, 1.33]\n",
    "\n",
    "slow_stat.f_oneway_ind_from_stat(n_array, t_array, var_array, var_type='variance')"
   ]
  },
  {
   "cell_type": "code",
   "execution_count": null,
   "id": "separated-brown",
   "metadata": {},
   "outputs": [],
   "source": []
  },
  {
   "cell_type": "markdown",
   "id": "focal-paradise",
   "metadata": {},
   "source": [
    "# independent-measures ANOVA (using raw dataset)"
   ]
  },
  {
   "cell_type": "markdown",
   "id": "israeli-beaver",
   "metadata": {},
   "source": [
    "---\n",
    "![''](./12_src/12_13_01.png)"
   ]
  },
  {
   "cell_type": "code",
   "execution_count": 5,
   "id": "incomplete-sheet",
   "metadata": {},
   "outputs": [
    {
     "data": {
      "text/html": [
       "<div>\n",
       "<style scoped>\n",
       "    .dataframe tbody tr th:only-of-type {\n",
       "        vertical-align: middle;\n",
       "    }\n",
       "\n",
       "    .dataframe tbody tr th {\n",
       "        vertical-align: top;\n",
       "    }\n",
       "\n",
       "    .dataframe thead th {\n",
       "        text-align: right;\n",
       "    }\n",
       "</style>\n",
       "<table border=\"1\" class=\"dataframe\">\n",
       "  <thead>\n",
       "    <tr style=\"text-align: right;\">\n",
       "      <th></th>\n",
       "      <th>A</th>\n",
       "      <th>B</th>\n",
       "      <th>C</th>\n",
       "    </tr>\n",
       "  </thead>\n",
       "  <tbody>\n",
       "    <tr>\n",
       "      <th>0</th>\n",
       "      <td>5</td>\n",
       "      <td>2</td>\n",
       "      <td>7</td>\n",
       "    </tr>\n",
       "    <tr>\n",
       "      <th>1</th>\n",
       "      <td>1</td>\n",
       "      <td>6</td>\n",
       "      <td>3</td>\n",
       "    </tr>\n",
       "    <tr>\n",
       "      <th>2</th>\n",
       "      <td>2</td>\n",
       "      <td>2</td>\n",
       "      <td>2</td>\n",
       "    </tr>\n",
       "    <tr>\n",
       "      <th>3</th>\n",
       "      <td>3</td>\n",
       "      <td>3</td>\n",
       "      <td>4</td>\n",
       "    </tr>\n",
       "    <tr>\n",
       "      <th>4</th>\n",
       "      <td>0</td>\n",
       "      <td>5</td>\n",
       "      <td>5</td>\n",
       "    </tr>\n",
       "    <tr>\n",
       "      <th>5</th>\n",
       "      <td>1</td>\n",
       "      <td>3</td>\n",
       "      <td>2</td>\n",
       "    </tr>\n",
       "    <tr>\n",
       "      <th>6</th>\n",
       "      <td>2</td>\n",
       "      <td>0</td>\n",
       "      <td>4</td>\n",
       "    </tr>\n",
       "    <tr>\n",
       "      <th>7</th>\n",
       "      <td>2</td>\n",
       "      <td>3</td>\n",
       "      <td>5</td>\n",
       "    </tr>\n",
       "  </tbody>\n",
       "</table>\n",
       "</div>"
      ],
      "text/plain": [
       "   A  B  C\n",
       "0  5  2  7\n",
       "1  1  6  3\n",
       "2  2  2  2\n",
       "3  3  3  4\n",
       "4  0  5  5\n",
       "5  1  3  2\n",
       "6  2  0  4\n",
       "7  2  3  5"
      ]
     },
     "execution_count": 5,
     "metadata": {},
     "output_type": "execute_result"
    }
   ],
   "source": [
    "exp_df = pd.DataFrame({'A':[5, 1, 2, 3, 0, 1, 2, 2], 'B':[2, 6, 2, 3, 5, 3, 0, 3], 'C':[7, 3, 2, 4, 5, 2, 4, 5]})\n",
    "exp_df"
   ]
  },
  {
   "cell_type": "code",
   "execution_count": 6,
   "id": "sealed-processing",
   "metadata": {},
   "outputs": [
    {
     "name": "stdout",
     "output_type": "stream",
     "text": [
      "[alpha 0.05] F_ratio:2.8, critical_region:F > 3.47\n",
      "=> null hypothesis rejection [False]\n"
     ]
    }
   ],
   "source": [
    "slow_stat = slow_statistic.Stats()\n",
    "\n",
    "n_array = [len(exp_df[c].dropna()) for c in exp_df.columns]\n",
    "t_array = [exp_df[c].dropna().sum() for c in exp_df.columns]\n",
    "var_array = [exp_df[c].dropna().var() for c in exp_df.columns]\n",
    "\n",
    "slow_stat.f_oneway_ind_from_stat(n_array, t_array, var_array, var_type='variance')"
   ]
  },
  {
   "cell_type": "code",
   "execution_count": null,
   "id": "streaming-delay",
   "metadata": {},
   "outputs": [],
   "source": []
  },
  {
   "cell_type": "code",
   "execution_count": 7,
   "id": "strange-invitation",
   "metadata": {},
   "outputs": [
    {
     "data": {
      "text/plain": [
       "F_onewayResult(statistic=2.8, pvalue=0.08356903939297175)"
      ]
     },
     "execution_count": 7,
     "metadata": {},
     "output_type": "execute_result"
    }
   ],
   "source": [
    "stats.f_oneway(exp_df.A, exp_df.B, exp_df.C)"
   ]
  },
  {
   "cell_type": "code",
   "execution_count": null,
   "id": "composite-therapy",
   "metadata": {},
   "outputs": [],
   "source": []
  },
  {
   "cell_type": "markdown",
   "id": "champion-summit",
   "metadata": {},
   "source": [
    "---\n",
    "![''](./12_src/12_18_01.png)"
   ]
  },
  {
   "cell_type": "code",
   "execution_count": 8,
   "id": "august-lover",
   "metadata": {},
   "outputs": [
    {
     "data": {
      "text/html": [
       "<div>\n",
       "<style scoped>\n",
       "    .dataframe tbody tr th:only-of-type {\n",
       "        vertical-align: middle;\n",
       "    }\n",
       "\n",
       "    .dataframe tbody tr th {\n",
       "        vertical-align: top;\n",
       "    }\n",
       "\n",
       "    .dataframe thead th {\n",
       "        text-align: right;\n",
       "    }\n",
       "</style>\n",
       "<table border=\"1\" class=\"dataframe\">\n",
       "  <thead>\n",
       "    <tr style=\"text-align: right;\">\n",
       "      <th></th>\n",
       "      <th>A</th>\n",
       "      <th>B</th>\n",
       "      <th>C</th>\n",
       "    </tr>\n",
       "  </thead>\n",
       "  <tbody>\n",
       "    <tr>\n",
       "      <th>0</th>\n",
       "      <td>4</td>\n",
       "      <td>3</td>\n",
       "      <td>8</td>\n",
       "    </tr>\n",
       "    <tr>\n",
       "      <th>1</th>\n",
       "      <td>3</td>\n",
       "      <td>1</td>\n",
       "      <td>4</td>\n",
       "    </tr>\n",
       "    <tr>\n",
       "      <th>2</th>\n",
       "      <td>5</td>\n",
       "      <td>3</td>\n",
       "      <td>6</td>\n",
       "    </tr>\n",
       "    <tr>\n",
       "      <th>3</th>\n",
       "      <td>4</td>\n",
       "      <td>1</td>\n",
       "      <td>6</td>\n",
       "    </tr>\n",
       "  </tbody>\n",
       "</table>\n",
       "</div>"
      ],
      "text/plain": [
       "   A  B  C\n",
       "0  4  3  8\n",
       "1  3  1  4\n",
       "2  5  3  6\n",
       "3  4  1  6"
      ]
     },
     "execution_count": 8,
     "metadata": {},
     "output_type": "execute_result"
    }
   ],
   "source": [
    "exp_df = pd.DataFrame({'A':[4, 3, 5, 4], 'B':[3, 1, 3, 1], 'C':[8, 4, 6, 6]})\n",
    "exp_df"
   ]
  },
  {
   "cell_type": "code",
   "execution_count": 9,
   "id": "instructional-gospel",
   "metadata": {},
   "outputs": [
    {
     "name": "stdout",
     "output_type": "stream",
     "text": [
      "[alpha 0.05] F_ratio:10.285714285714285, critical_region:F > 4.26\n",
      "=> null hypothesis rejection [True]\n"
     ]
    }
   ],
   "source": [
    "slow_stat = slow_statistic.Stats()\n",
    "\n",
    "n_array = [len(exp_df[c].dropna()) for c in exp_df.columns]\n",
    "t_array = [exp_df[c].dropna().sum() for c in exp_df.columns]\n",
    "var_array = [exp_df[c].dropna().var() for c in exp_df.columns]\n",
    "\n",
    "slow_stat.f_oneway_ind_from_stat(n_array, t_array, var_array, var_type='variance')"
   ]
  },
  {
   "cell_type": "code",
   "execution_count": null,
   "id": "removed-honolulu",
   "metadata": {},
   "outputs": [],
   "source": []
  },
  {
   "cell_type": "code",
   "execution_count": 10,
   "id": "informative-xerox",
   "metadata": {},
   "outputs": [
    {
     "data": {
      "text/plain": [
       "F_onewayResult(statistic=10.285714285714285, pvalue=0.004733320563341529)"
      ]
     },
     "execution_count": 10,
     "metadata": {},
     "output_type": "execute_result"
    }
   ],
   "source": [
    "stats.f_oneway(exp_df.A, exp_df.B, exp_df.C)"
   ]
  },
  {
   "cell_type": "code",
   "execution_count": null,
   "id": "afraid-treatment",
   "metadata": {},
   "outputs": [],
   "source": []
  },
  {
   "cell_type": "markdown",
   "id": "cellular-occasion",
   "metadata": {},
   "source": [
    "---\n",
    "![''](./12_src/12_19_01.png)\n",
    "\n",
    "![''](./12_src/12_19_02.png)"
   ]
  },
  {
   "cell_type": "code",
   "execution_count": 11,
   "id": "stuffed-nickel",
   "metadata": {},
   "outputs": [
    {
     "data": {
      "text/html": [
       "<div>\n",
       "<style scoped>\n",
       "    .dataframe tbody tr th:only-of-type {\n",
       "        vertical-align: middle;\n",
       "    }\n",
       "\n",
       "    .dataframe tbody tr th {\n",
       "        vertical-align: top;\n",
       "    }\n",
       "\n",
       "    .dataframe thead th {\n",
       "        text-align: right;\n",
       "    }\n",
       "</style>\n",
       "<table border=\"1\" class=\"dataframe\">\n",
       "  <thead>\n",
       "    <tr style=\"text-align: right;\">\n",
       "      <th></th>\n",
       "      <th>A</th>\n",
       "      <th>B</th>\n",
       "      <th>C</th>\n",
       "    </tr>\n",
       "  </thead>\n",
       "  <tbody>\n",
       "    <tr>\n",
       "      <th>0</th>\n",
       "      <td>4</td>\n",
       "      <td>4</td>\n",
       "      <td>9</td>\n",
       "    </tr>\n",
       "    <tr>\n",
       "      <th>1</th>\n",
       "      <td>2</td>\n",
       "      <td>0</td>\n",
       "      <td>3</td>\n",
       "    </tr>\n",
       "    <tr>\n",
       "      <th>2</th>\n",
       "      <td>6</td>\n",
       "      <td>3</td>\n",
       "      <td>6</td>\n",
       "    </tr>\n",
       "    <tr>\n",
       "      <th>3</th>\n",
       "      <td>4</td>\n",
       "      <td>1</td>\n",
       "      <td>6</td>\n",
       "    </tr>\n",
       "  </tbody>\n",
       "</table>\n",
       "</div>"
      ],
      "text/plain": [
       "   A  B  C\n",
       "0  4  4  9\n",
       "1  2  0  3\n",
       "2  6  3  6\n",
       "3  4  1  6"
      ]
     },
     "execution_count": 11,
     "metadata": {},
     "output_type": "execute_result"
    }
   ],
   "source": [
    "exp_df = pd.DataFrame({'A':[4, 2, 6, 4], 'B':[4, 0, 3, 1], 'C':[9, 3, 6, 6]})\n",
    "exp_df"
   ]
  },
  {
   "cell_type": "code",
   "execution_count": 12,
   "id": "colored-increase",
   "metadata": {},
   "outputs": [
    {
     "name": "stdout",
     "output_type": "stream",
     "text": [
      "[alpha 0.05] F_ratio:4.0, critical_region:F > 4.26\n",
      "=> null hypothesis rejection [False]\n"
     ]
    }
   ],
   "source": [
    "slow_stat = slow_statistic.Stats()\n",
    "\n",
    "n_array = [len(exp_df[c].dropna()) for c in exp_df.columns]\n",
    "t_array = [exp_df[c].dropna().sum() for c in exp_df.columns]\n",
    "var_array = [exp_df[c].dropna().var() for c in exp_df.columns]\n",
    "\n",
    "slow_stat.f_oneway_ind_from_stat(n_array, t_array, var_array, var_type='variance')"
   ]
  },
  {
   "cell_type": "code",
   "execution_count": null,
   "id": "coastal-hours",
   "metadata": {},
   "outputs": [],
   "source": []
  },
  {
   "cell_type": "code",
   "execution_count": 13,
   "id": "cellular-jesus",
   "metadata": {},
   "outputs": [
    {
     "data": {
      "text/plain": [
       "F_onewayResult(statistic=4.0, pvalue=0.05715722641719019)"
      ]
     },
     "execution_count": 13,
     "metadata": {},
     "output_type": "execute_result"
    }
   ],
   "source": [
    "stats.f_oneway(exp_df.A, exp_df.B, exp_df.C)"
   ]
  },
  {
   "cell_type": "code",
   "execution_count": null,
   "id": "comparable-intellectual",
   "metadata": {},
   "outputs": [],
   "source": []
  },
  {
   "cell_type": "code",
   "execution_count": null,
   "id": "international-kernel",
   "metadata": {},
   "outputs": [],
   "source": []
  },
  {
   "cell_type": "markdown",
   "id": "proved-fiction",
   "metadata": {},
   "source": [
    "---\n",
    "![''](./12_src/12_24_01.png)\n",
    "\n",
    "![''](./12_src/12_24_02.png)"
   ]
  },
  {
   "cell_type": "code",
   "execution_count": 14,
   "id": "eleven-washer",
   "metadata": {},
   "outputs": [
    {
     "data": {
      "text/html": [
       "<div>\n",
       "<style scoped>\n",
       "    .dataframe tbody tr th:only-of-type {\n",
       "        vertical-align: middle;\n",
       "    }\n",
       "\n",
       "    .dataframe tbody tr th {\n",
       "        vertical-align: top;\n",
       "    }\n",
       "\n",
       "    .dataframe thead th {\n",
       "        text-align: right;\n",
       "    }\n",
       "</style>\n",
       "<table border=\"1\" class=\"dataframe\">\n",
       "  <thead>\n",
       "    <tr style=\"text-align: right;\">\n",
       "      <th></th>\n",
       "      <th>A</th>\n",
       "      <th>B</th>\n",
       "    </tr>\n",
       "  </thead>\n",
       "  <tbody>\n",
       "    <tr>\n",
       "      <th>0</th>\n",
       "      <td>1</td>\n",
       "      <td>12</td>\n",
       "    </tr>\n",
       "    <tr>\n",
       "      <th>1</th>\n",
       "      <td>6</td>\n",
       "      <td>5</td>\n",
       "    </tr>\n",
       "    <tr>\n",
       "      <th>2</th>\n",
       "      <td>6</td>\n",
       "      <td>6</td>\n",
       "    </tr>\n",
       "    <tr>\n",
       "      <th>3</th>\n",
       "      <td>3</td>\n",
       "      <td>9</td>\n",
       "    </tr>\n",
       "  </tbody>\n",
       "</table>\n",
       "</div>"
      ],
      "text/plain": [
       "   A   B\n",
       "0  1  12\n",
       "1  6   5\n",
       "2  6   6\n",
       "3  3   9"
      ]
     },
     "execution_count": 14,
     "metadata": {},
     "output_type": "execute_result"
    }
   ],
   "source": [
    "exp_df = pd.DataFrame({'A':[1, 6, 6, 3], 'B':[12, 5, 6, 9]})\n",
    "exp_df"
   ]
  },
  {
   "cell_type": "code",
   "execution_count": 15,
   "id": "anticipated-miniature",
   "metadata": {},
   "outputs": [
    {
     "name": "stdout",
     "output_type": "stream",
     "text": [
      "[alpha 0.05] F_ratio:4.0, critical_region:F > 5.99\n",
      "=> null hypothesis rejection [False]\n"
     ]
    }
   ],
   "source": [
    "slow_stat = slow_statistic.Stats()\n",
    "\n",
    "n_array = [len(exp_df[c].dropna()) for c in exp_df.columns]\n",
    "t_array = [exp_df[c].dropna().sum() for c in exp_df.columns]\n",
    "var_array = [exp_df[c].dropna().var() for c in exp_df.columns]\n",
    "\n",
    "slow_stat.f_oneway_from_stat(n_array, t_array, var_array, var_type='variance')"
   ]
  },
  {
   "cell_type": "code",
   "execution_count": 16,
   "id": "single-container",
   "metadata": {},
   "outputs": [
    {
     "data": {
      "text/plain": [
       "F_onewayResult(statistic=4.0, pvalue=0.09242631153167513)"
      ]
     },
     "execution_count": 16,
     "metadata": {},
     "output_type": "execute_result"
    }
   ],
   "source": [
    "stats.f_oneway(exp_df.A, exp_df.B)"
   ]
  },
  {
   "cell_type": "code",
   "execution_count": null,
   "id": "south-filing",
   "metadata": {},
   "outputs": [],
   "source": []
  },
  {
   "cell_type": "markdown",
   "id": "disturbed-prague",
   "metadata": {},
   "source": [
    "#### t-test"
   ]
  },
  {
   "cell_type": "code",
   "execution_count": 20,
   "id": "varied-badge",
   "metadata": {},
   "outputs": [
    {
     "name": "stdout",
     "output_type": "stream",
     "text": [
      "[two tail, alpha 0.05] t_statistic:-2.0, critical_region:t > 2.447 or t < -2.447\n",
      "=> null hypothesis rejection [False]\n"
     ]
    }
   ],
   "source": [
    "slow_stat = slow_statistic.Stats()\n",
    "\n",
    "M1, M2 = exp_df.A.mean(), exp_df.B.mean()\n",
    "SS1, SS2 = slow_stat.__calculate_SS__(exp_df.A), slow_stat.__calculate_SS__(exp_df.B)\n",
    "n1, n2 = len(exp_df.A), len(exp_df.B)\n",
    "\n",
    "slow_stat.ttest_ind_from_stats(M1, M2, SS1, SS2, n1, n2)"
   ]
  },
  {
   "cell_type": "code",
   "execution_count": null,
   "id": "ahead-failure",
   "metadata": {},
   "outputs": [],
   "source": []
  },
  {
   "cell_type": "code",
   "execution_count": 24,
   "id": "signal-tribute",
   "metadata": {},
   "outputs": [
    {
     "data": {
      "text/plain": [
       "True"
      ]
     },
     "execution_count": 24,
     "metadata": {},
     "output_type": "execute_result"
    }
   ],
   "source": [
    "4.0 == (-2) ** 2"
   ]
  },
  {
   "cell_type": "code",
   "execution_count": null,
   "id": "african-basics",
   "metadata": {},
   "outputs": [],
   "source": []
  },
  {
   "cell_type": "code",
   "execution_count": null,
   "id": "advised-artwork",
   "metadata": {},
   "outputs": [],
   "source": []
  },
  {
   "cell_type": "code",
   "execution_count": null,
   "id": "thrown-concern",
   "metadata": {},
   "outputs": [],
   "source": []
  },
  {
   "cell_type": "markdown",
   "id": "assumed-librarian",
   "metadata": {},
   "source": [
    "# sample size, SS와 F-ratio와의 관계"
   ]
  },
  {
   "cell_type": "markdown",
   "id": "civil-thanks",
   "metadata": {},
   "source": [
    "---\n",
    "![''](./12_src/12_17_01.png)\n",
    "\n",
    "![''](./12_src/12_17_02.png)"
   ]
  },
  {
   "cell_type": "markdown",
   "id": "current-relationship",
   "metadata": {},
   "source": [
    "#### a. If the mean for treatment III were changed to M = 25, what would happen to the size of the F-ratio (increase or decrease)? Explain your answer.\n",
    "- 줄어든다. 20, 28 사이로 들어가서, MS_between이 줄어들기 때문이다."
   ]
  },
  {
   "cell_type": "code",
   "execution_count": null,
   "id": "eastern-decade",
   "metadata": {},
   "outputs": [],
   "source": []
  },
  {
   "cell_type": "markdown",
   "id": "fuzzy-transition",
   "metadata": {},
   "source": [
    "#### b. If the SS for treatment I were changed to SS = 1400, what would happen to the size of the F-ratio (increase or decrease)? Explain your answer.\n",
    "- 줄어든다. denominator를 구성하는 MS_within, MS_within을 구성하는 SS_within이 커지기 때문이다. "
   ]
  },
  {
   "cell_type": "code",
   "execution_count": null,
   "id": "jewish-pixel",
   "metadata": {},
   "outputs": [],
   "source": []
  },
  {
   "cell_type": "code",
   "execution_count": null,
   "id": "appropriate-princess",
   "metadata": {},
   "outputs": [],
   "source": []
  },
  {
   "cell_type": "code",
   "execution_count": null,
   "id": "shared-payroll",
   "metadata": {},
   "outputs": [],
   "source": []
  },
  {
   "cell_type": "code",
   "execution_count": null,
   "id": "atlantic-orlando",
   "metadata": {},
   "outputs": [],
   "source": []
  },
  {
   "cell_type": "code",
   "execution_count": null,
   "id": "desperate-affiliation",
   "metadata": {},
   "outputs": [],
   "source": []
  },
  {
   "cell_type": "code",
   "execution_count": null,
   "id": "russian-going",
   "metadata": {},
   "outputs": [],
   "source": []
  },
  {
   "cell_type": "code",
   "execution_count": null,
   "id": "diverse-induction",
   "metadata": {},
   "outputs": [],
   "source": []
  },
  {
   "cell_type": "code",
   "execution_count": null,
   "id": "alleged-uncertainty",
   "metadata": {},
   "outputs": [],
   "source": []
  }
 ],
 "metadata": {
  "kernelspec": {
   "display_name": "Python 3",
   "language": "python",
   "name": "python3"
  },
  "language_info": {
   "codemirror_mode": {
    "name": "ipython",
    "version": 3
   },
   "file_extension": ".py",
   "mimetype": "text/x-python",
   "name": "python",
   "nbconvert_exporter": "python",
   "pygments_lexer": "ipython3",
   "version": "3.9.1"
  }
 },
 "nbformat": 4,
 "nbformat_minor": 5
}
