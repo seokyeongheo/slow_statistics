{
 "cells": [
  {
   "cell_type": "code",
   "execution_count": 1,
   "id": "systematic-dakota",
   "metadata": {},
   "outputs": [],
   "source": [
    "import numpy as np\n",
    "import pandas as pd\n",
    "from scipy import stats\n",
    "\n",
    "import slow_statistic"
   ]
  },
  {
   "cell_type": "code",
   "execution_count": null,
   "id": "continued-latino",
   "metadata": {},
   "outputs": [],
   "source": []
  },
  {
   "cell_type": "markdown",
   "id": "tested-scope",
   "metadata": {},
   "source": [
    "# 유형"
   ]
  },
  {
   "cell_type": "code",
   "execution_count": null,
   "id": "patent-czech",
   "metadata": {},
   "outputs": [],
   "source": []
  },
  {
   "cell_type": "markdown",
   "id": "specialized-russian",
   "metadata": {},
   "source": [
    "---\n",
    "![''](./12_src/12_13_01.png)"
   ]
  },
  {
   "cell_type": "markdown",
   "id": "curious-production",
   "metadata": {},
   "source": [
    "---\n",
    "![''](./12_src/12_14_01.png)"
   ]
  },
  {
   "cell_type": "markdown",
   "id": "amazing-china",
   "metadata": {},
   "source": [
    "---\n",
    "![''](./12_src/12_17_01.png)\n",
    "![''](./12_src/12_17_02.png)"
   ]
  },
  {
   "cell_type": "markdown",
   "id": "broken-arabic",
   "metadata": {},
   "source": [
    "---\n",
    "![''](./12_src/12_18_01.png)"
   ]
  },
  {
   "cell_type": "markdown",
   "id": "electrical-dylan",
   "metadata": {},
   "source": [
    "---\n",
    "![''](./12_src/12_19_01.png)\n",
    "\n",
    "![''](./12_src/12_19_02.png)"
   ]
  },
  {
   "cell_type": "markdown",
   "id": "single-enough",
   "metadata": {},
   "source": [
    "---\n",
    "![''](./12_src/12_20_01.png)"
   ]
  },
  {
   "cell_type": "markdown",
   "id": "raising-sponsorship",
   "metadata": {},
   "source": [
    "---\n",
    "![''](./12_src/12_21_01.png)"
   ]
  },
  {
   "cell_type": "markdown",
   "id": "imported-burst",
   "metadata": {},
   "source": [
    "---\n",
    "![''](./12_src/12_22_01.png)"
   ]
  },
  {
   "cell_type": "markdown",
   "id": "accompanied-explorer",
   "metadata": {},
   "source": [
    "---\n",
    "![''](./12_src/12_24_01.png)\n",
    "\n",
    "![''](./12_src/12_24_02.png)"
   ]
  },
  {
   "cell_type": "code",
   "execution_count": null,
   "id": "embedded-vertex",
   "metadata": {},
   "outputs": [],
   "source": []
  },
  {
   "cell_type": "code",
   "execution_count": null,
   "id": "major-change",
   "metadata": {},
   "outputs": [],
   "source": []
  },
  {
   "cell_type": "code",
   "execution_count": null,
   "id": "crazy-cookie",
   "metadata": {},
   "outputs": [],
   "source": []
  }
 ],
 "metadata": {
  "kernelspec": {
   "display_name": "Python 3",
   "language": "python",
   "name": "python3"
  },
  "language_info": {
   "codemirror_mode": {
    "name": "ipython",
    "version": 3
   },
   "file_extension": ".py",
   "mimetype": "text/x-python",
   "name": "python",
   "nbconvert_exporter": "python",
   "pygments_lexer": "ipython3",
   "version": "3.9.1"
  }
 },
 "nbformat": 4,
 "nbformat_minor": 5
}
