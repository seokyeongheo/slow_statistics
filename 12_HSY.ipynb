{
 "cells": [
  {
   "cell_type": "code",
   "execution_count": 2,
   "id": "reduced-reflection",
   "metadata": {},
   "outputs": [],
   "source": [
    "import numpy as np\n",
    "import pandas as pd\n",
    "from scipy import stats\n",
    "from statsmodels.stats.anova import AnovaRM\n",
    "\n",
    "import slow_statistic"
   ]
  },
  {
   "cell_type": "code",
   "execution_count": 6,
   "id": "logical-fraction",
   "metadata": {},
   "outputs": [],
   "source": [
    "from statsmodels.stats.anova import "
   ]
  },
  {
   "cell_type": "code",
   "execution_count": null,
   "id": "gothic-concord",
   "metadata": {},
   "outputs": [],
   "source": []
  },
  {
   "cell_type": "code",
   "execution_count": null,
   "id": "superior-continent",
   "metadata": {},
   "outputs": [],
   "source": []
  },
  {
   "cell_type": "code",
   "execution_count": null,
   "id": "organized-transition",
   "metadata": {},
   "outputs": [],
   "source": []
  },
  {
   "cell_type": "markdown",
   "id": "expired-edmonton",
   "metadata": {},
   "source": [
    "# 유형\n",
    "1. \n",
    "2. \n",
    "3. \n",
    "4. "
   ]
  },
  {
   "cell_type": "code",
   "execution_count": null,
   "id": "subsequent-liabilities",
   "metadata": {},
   "outputs": [],
   "source": []
  },
  {
   "cell_type": "markdown",
   "id": "authorized-payday",
   "metadata": {},
   "source": [
    "---\n",
    "![''](./12_src/12_13_01.png)"
   ]
  },
  {
   "cell_type": "code",
   "execution_count": 3,
   "id": "loaded-architecture",
   "metadata": {},
   "outputs": [
    {
     "data": {
      "text/html": [
       "<div>\n",
       "<style scoped>\n",
       "    .dataframe tbody tr th:only-of-type {\n",
       "        vertical-align: middle;\n",
       "    }\n",
       "\n",
       "    .dataframe tbody tr th {\n",
       "        vertical-align: top;\n",
       "    }\n",
       "\n",
       "    .dataframe thead th {\n",
       "        text-align: right;\n",
       "    }\n",
       "</style>\n",
       "<table border=\"1\" class=\"dataframe\">\n",
       "  <thead>\n",
       "    <tr style=\"text-align: right;\">\n",
       "      <th></th>\n",
       "      <th>A</th>\n",
       "      <th>B</th>\n",
       "      <th>C</th>\n",
       "    </tr>\n",
       "  </thead>\n",
       "  <tbody>\n",
       "    <tr>\n",
       "      <th>0</th>\n",
       "      <td>5</td>\n",
       "      <td>2</td>\n",
       "      <td>7</td>\n",
       "    </tr>\n",
       "    <tr>\n",
       "      <th>1</th>\n",
       "      <td>1</td>\n",
       "      <td>6</td>\n",
       "      <td>3</td>\n",
       "    </tr>\n",
       "    <tr>\n",
       "      <th>2</th>\n",
       "      <td>2</td>\n",
       "      <td>2</td>\n",
       "      <td>2</td>\n",
       "    </tr>\n",
       "    <tr>\n",
       "      <th>3</th>\n",
       "      <td>3</td>\n",
       "      <td>3</td>\n",
       "      <td>4</td>\n",
       "    </tr>\n",
       "    <tr>\n",
       "      <th>4</th>\n",
       "      <td>0</td>\n",
       "      <td>5</td>\n",
       "      <td>5</td>\n",
       "    </tr>\n",
       "    <tr>\n",
       "      <th>5</th>\n",
       "      <td>1</td>\n",
       "      <td>3</td>\n",
       "      <td>2</td>\n",
       "    </tr>\n",
       "    <tr>\n",
       "      <th>6</th>\n",
       "      <td>2</td>\n",
       "      <td>0</td>\n",
       "      <td>4</td>\n",
       "    </tr>\n",
       "    <tr>\n",
       "      <th>7</th>\n",
       "      <td>2</td>\n",
       "      <td>3</td>\n",
       "      <td>5</td>\n",
       "    </tr>\n",
       "  </tbody>\n",
       "</table>\n",
       "</div>"
      ],
      "text/plain": [
       "   A  B  C\n",
       "0  5  2  7\n",
       "1  1  6  3\n",
       "2  2  2  2\n",
       "3  3  3  4\n",
       "4  0  5  5\n",
       "5  1  3  2\n",
       "6  2  0  4\n",
       "7  2  3  5"
      ]
     },
     "execution_count": 3,
     "metadata": {},
     "output_type": "execute_result"
    }
   ],
   "source": [
    "exp_df = pd.DataFrame({'A':[5, 1, 2, 3, 0, 1, 2, 2], 'B':[2, 6, 2, 3, 5, 3, 0, 3], 'C':[7, 3, 2, 4, 5, 2, 4, 5]})\n",
    "exp_df"
   ]
  },
  {
   "cell_type": "code",
   "execution_count": 4,
   "id": "square-president",
   "metadata": {},
   "outputs": [
    {
     "data": {
      "text/plain": [
       "F_onewayResult(statistic=2.8, pvalue=0.08356903939297175)"
      ]
     },
     "execution_count": 4,
     "metadata": {},
     "output_type": "execute_result"
    }
   ],
   "source": [
    "stats.f_oneway(exp_df.A, exp_df.B, exp_df.C)"
   ]
  },
  {
   "cell_type": "code",
   "execution_count": null,
   "id": "further-adjustment",
   "metadata": {},
   "outputs": [],
   "source": []
  },
  {
   "cell_type": "code",
   "execution_count": null,
   "id": "global-attempt",
   "metadata": {},
   "outputs": [],
   "source": []
  },
  {
   "cell_type": "code",
   "execution_count": null,
   "id": "unusual-korean",
   "metadata": {},
   "outputs": [],
   "source": []
  },
  {
   "cell_type": "code",
   "execution_count": null,
   "id": "herbal-comfort",
   "metadata": {},
   "outputs": [],
   "source": []
  },
  {
   "cell_type": "markdown",
   "id": "internal-dinner",
   "metadata": {},
   "source": [
    "---\n",
    "![''](./12_src/12_14_01.png)"
   ]
  },
  {
   "cell_type": "code",
   "execution_count": null,
   "id": "regular-medicine",
   "metadata": {},
   "outputs": [],
   "source": []
  },
  {
   "cell_type": "code",
   "execution_count": null,
   "id": "demographic-illness",
   "metadata": {},
   "outputs": [],
   "source": []
  },
  {
   "cell_type": "code",
   "execution_count": null,
   "id": "radical-albuquerque",
   "metadata": {},
   "outputs": [],
   "source": []
  },
  {
   "cell_type": "markdown",
   "id": "russian-windows",
   "metadata": {},
   "source": [
    "---\n",
    "![''](./12_src/12_17_01.png)\n",
    "![''](./12_src/12_17_02.png)"
   ]
  },
  {
   "cell_type": "markdown",
   "id": "essential-garbage",
   "metadata": {},
   "source": [
    "---\n",
    "![''](./12_src/12_18_01.png)"
   ]
  },
  {
   "cell_type": "markdown",
   "id": "timely-charge",
   "metadata": {},
   "source": [
    "---\n",
    "![''](./12_src/12_19_01.png)\n",
    "\n",
    "![''](./12_src/12_19_02.png)"
   ]
  },
  {
   "cell_type": "markdown",
   "id": "removable-province",
   "metadata": {},
   "source": [
    "---\n",
    "![''](./12_src/12_20_01.png)"
   ]
  },
  {
   "cell_type": "markdown",
   "id": "backed-nebraska",
   "metadata": {},
   "source": [
    "---\n",
    "![''](./12_src/12_21_01.png)"
   ]
  },
  {
   "cell_type": "markdown",
   "id": "organizational-sailing",
   "metadata": {},
   "source": [
    "---\n",
    "![''](./12_src/12_22_01.png)"
   ]
  },
  {
   "cell_type": "markdown",
   "id": "inclusive-matthew",
   "metadata": {},
   "source": [
    "---\n",
    "![''](./12_src/12_24_01.png)\n",
    "\n",
    "![''](./12_src/12_24_02.png)"
   ]
  },
  {
   "cell_type": "code",
   "execution_count": null,
   "id": "contrary-shepherd",
   "metadata": {},
   "outputs": [],
   "source": []
  },
  {
   "cell_type": "code",
   "execution_count": null,
   "id": "thousand-valve",
   "metadata": {},
   "outputs": [],
   "source": []
  },
  {
   "cell_type": "code",
   "execution_count": null,
   "id": "legitimate-fight",
   "metadata": {},
   "outputs": [],
   "source": []
  }
 ],
 "metadata": {
  "kernelspec": {
   "display_name": "Python 3",
   "language": "python",
   "name": "python3"
  },
  "language_info": {
   "codemirror_mode": {
    "name": "ipython",
    "version": 3
   },
   "file_extension": ".py",
   "mimetype": "text/x-python",
   "name": "python",
   "nbconvert_exporter": "python",
   "pygments_lexer": "ipython3",
   "version": "3.9.1"
  }
 },
 "nbformat": 4,
 "nbformat_minor": 5
}
